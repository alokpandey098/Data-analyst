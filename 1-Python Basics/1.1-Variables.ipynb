{
 "cells": [
  {
   "cell_type": "markdown",
   "id": "450d40c8",
   "metadata": {},
   "source": [
    "## Variables In Python ..\n",
    "\n",
    "Variables are fundamental elements in programming used to store data that can be referenced and manipulated in a program. In Python, variables are created when you assign a value to them, and they do not need explicit declaration to reserve memory space. The declaration happens automatically when you assign a value to a variable."
   ]
  },
  {
   "cell_type": "code",
   "execution_count": 2,
   "id": "2a490edb",
   "metadata": {},
   "outputs": [
    {
     "name": "stdout",
     "output_type": "stream",
     "text": [
      "Alok Kumar\n",
      "22\n",
      "5.8\n",
      "True\n"
     ]
    }
   ],
   "source": [
    "## Declaring And Assigning Variables\n",
    "\n",
    "Name = 'Alok Kumar'\n",
    "Age = 22\n",
    "Height = 5.8\n",
    "Is_Indian = True\n",
    "\n",
    "# Printing Variables\n",
    "print(Name)\n",
    "print(Age)\n",
    "print(Height)\n",
    "print(Is_Indian)\n"
   ]
  },
  {
   "cell_type": "code",
   "execution_count": 3,
   "id": "7c772d95",
   "metadata": {},
   "outputs": [],
   "source": [
    "## Naming Conventions\n",
    "## Variable names should be descriptive\n",
    "## They must start with a letter or an '_' and contains letter,numbers and underscores\n",
    "## variables names case sensitive\n",
    "\n",
    "# Valid Variables Name\n",
    "First_Name = 'Alok'\n",
    "Last_Name = 'Kumar'\n",
    "\n",
    "# Invalid Variable Names\n",
    "# @firstname = 'Alok'\n",
    "# 2Age = 22\n",
    "# Last-Name = 'Kumar'"
   ]
  },
  {
   "cell_type": "code",
   "execution_count": 4,
   "id": "8a71342b",
   "metadata": {},
   "outputs": [],
   "source": [
    "## Understnading Variable types\n",
    "## Python is dynamically typed,type of a variable is determined at runtime\n",
    "\n",
    "Name = 'Alok' # String\n",
    "Age = 22 # integer\n",
    "Height = 5.8 # FLoat\n",
    "Is_Indian = True # Boolean"
   ]
  },
  {
   "cell_type": "code",
   "execution_count": 5,
   "id": "def36c9d",
   "metadata": {},
   "outputs": [
    {
     "name": "stdout",
     "output_type": "stream",
     "text": [
      "<class 'int'>\n",
      "<class 'str'>\n"
     ]
    }
   ],
   "source": [
    "# Type checking and Type Conversion\n",
    "\n",
    "print(type(Age))\n",
    "\n",
    "# Type conversion\n",
    "\n",
    "Age = str(Age)\n",
    "\n",
    "print(type(Age))"
   ]
  },
  {
   "cell_type": "code",
   "execution_count": 6,
   "id": "fa5fc885",
   "metadata": {},
   "outputs": [],
   "source": [
    "# name = int(Name)\n",
    "\n",
    "# print(type(name)) # string will not convert in int ,float or boolean"
   ]
  },
  {
   "cell_type": "code",
   "execution_count": 9,
   "id": "9977e26c",
   "metadata": {},
   "outputs": [
    {
     "name": "stdout",
     "output_type": "stream",
     "text": [
      "10 <class 'int'>\n",
      "Alok <class 'str'>\n",
      "8.5 <class 'float'>\n"
     ]
    }
   ],
   "source": [
    "## Dynamic Typing\n",
    "## Python allows the type of a vraible to change as the program executes\n",
    "data=10 #int\n",
    "print(data,type(data))\n",
    "\n",
    "data = 'Alok'\n",
    "print(data,type(data))\n",
    "\n",
    "data = 8.5\n",
    "print(data,type(data))"
   ]
  },
  {
   "cell_type": "code",
   "execution_count": 10,
   "id": "0efe0c83",
   "metadata": {},
   "outputs": [
    {
     "name": "stdout",
     "output_type": "stream",
     "text": [
      "23 <class 'int'>\n"
     ]
    }
   ],
   "source": [
    "age=int(input(\"What is the age\"))\n",
    "print(age,type(age))"
   ]
  },
  {
   "cell_type": "code",
   "execution_count": 11,
   "id": "b799f953",
   "metadata": {},
   "outputs": [
    {
     "name": "stdout",
     "output_type": "stream",
     "text": [
      "Addition - 27\n",
      "Substraction - 3\n",
      "Multiplication - 180\n",
      "Division - 1.25\n"
     ]
    }
   ],
   "source": [
    "# Simple Calculator\n",
    "\n",
    "num1 = int(input('Enter First Number :'))\n",
    "num2 = int(input('Enter Second Number :'))\n",
    "\n",
    "Add = num1+num2\n",
    "subtract = num1-num2\n",
    "multiply = num1*num2\n",
    "division = num1/num2\n",
    "\n",
    "print('Addition -',Add)\n",
    "print('Substraction -',subtract)\n",
    "print('Multiplication -',multiply)\n",
    "print('Division -',division)"
   ]
  },
  {
   "cell_type": "markdown",
   "id": "042b4359",
   "metadata": {},
   "source": [
    "#### Summary:\n",
    "Variables are essential in Python programming for storing and manipulating data. Understanding how to declare, assign, and use variables effectively is crucial for writing functional and efficient code. Following proper naming conventions and understanding variable types will help in maintaining readability and consistency in your code."
   ]
  }
 ],
 "metadata": {
  "kernelspec": {
   "display_name": "venv",
   "language": "python",
   "name": "python3"
  },
  "language_info": {
   "codemirror_mode": {
    "name": "ipython",
    "version": 3
   },
   "file_extension": ".py",
   "mimetype": "text/x-python",
   "name": "python",
   "nbconvert_exporter": "python",
   "pygments_lexer": "ipython3",
   "version": "3.12.11"
  }
 },
 "nbformat": 4,
 "nbformat_minor": 5
}

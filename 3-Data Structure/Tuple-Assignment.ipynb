{
 "cells": [
  {
   "cell_type": "markdown",
   "id": "8e15bbad",
   "metadata": {},
   "source": [
    "* Creating and Accessing Tuples\n",
    "\n",
    "Create a tuple with the first 10 positive integers. Print the tuple."
   ]
  },
  {
   "cell_type": "code",
   "execution_count": 16,
   "id": "71af771d",
   "metadata": {},
   "outputs": [],
   "source": [
    "# Codde here"
   ]
  },
  {
   "cell_type": "markdown",
   "id": "62a2763a",
   "metadata": {},
   "source": [
    "* Accessing Tuple Elements\n",
    "\n",
    "Print the first, middle, and last elements of the tuple created in Assignment 1."
   ]
  },
  {
   "cell_type": "code",
   "execution_count": 17,
   "metadata": {},
   "outputs": [],
   "source": [
    "# Codde here"
   ]
  },
  {
   "cell_type": "markdown",
   "id": "d4534e93",
   "metadata": {},
   "source": [
    "* Tuple Slicing\n",
    "\n",
    "Print the first three elements, the last three elements, and the elements from index 2 to 5 of the tuple created in Assignment 1."
   ]
  },
  {
   "cell_type": "code",
   "execution_count": 18,
   "metadata": {},
   "outputs": [],
   "source": [
    "# Codde here"
   ]
  },
  {
   "cell_type": "markdown",
   "id": "5fdc3a07",
   "metadata": {},
   "source": [
    "* Nested Tuples\n",
    "\n",
    "Create a nested tuple representing a 3x3 matrix and print the matrix. Access and print the element at the second row and third column."
   ]
  },
  {
   "cell_type": "code",
   "execution_count": 19,
   "metadata": {},
   "outputs": [],
   "source": [
    "# Codde here"
   ]
  },
  {
   "cell_type": "markdown",
   "id": "b62bed42",
   "metadata": {},
   "source": [
    "* Tuple Concatenation\n",
    "\n",
    "Concatenate two tuples: (1, 2, 3) and (4, 5, 6). Print the resulting tuple."
   ]
  },
  {
   "cell_type": "code",
   "execution_count": 20,
   "metadata": {},
   "outputs": [],
   "source": [
    "# Codde here"
   ]
  },
  {
   "cell_type": "markdown",
   "id": "fac0dfc3",
   "metadata": {},
   "source": [
    "* Tuple Methods\n",
    "\n",
    "Create a tuple with duplicate elements and count the occurrences of an element. Find the index of the first occurrence of an element in the tuple."
   ]
  },
  {
   "cell_type": "code",
   "execution_count": 21,
   "metadata": {},
   "outputs": [],
   "source": [
    "# Codde here"
   ]
  },
  {
   "cell_type": "markdown",
   "id": "f9a6739d",
   "metadata": {},
   "source": [
    "* Unpacking Tuples\n",
    "\n",
    "Create a tuple with 5 elements and unpack it into 5 variables. Print the variables."
   ]
  },
  {
   "cell_type": "code",
   "execution_count": 22,
   "metadata": {},
   "outputs": [],
   "source": [
    "# Codde here"
   ]
  },
  {
   "cell_type": "markdown",
   "id": "3b64cad7",
   "metadata": {},
   "source": [
    "* Tuple Conversion\n",
    "\n",
    "Convert a list of the first 5 positive integers to a tuple. Print the tuple."
   ]
  },
  {
   "cell_type": "code",
   "execution_count": 23,
   "metadata": {},
   "outputs": [],
   "source": [
    "# Codde here"
   ]
  },
  {
   "cell_type": "markdown",
   "id": "4ad91db6",
   "metadata": {},
   "source": [
    "* Tuple of Tuples\n",
    "\n",
    "Create a tuple containing 3 tuples, each with 3 elements. Print the tuple of tuples."
   ]
  },
  {
   "cell_type": "code",
   "execution_count": 24,
   "metadata": {},
   "outputs": [],
   "source": [
    "# Codde here"
   ]
  },
  {
   "cell_type": "markdown",
   "id": "b2c46db5",
   "metadata": {},
   "source": [
    "* Tuple and List\n",
    "\n",
    "Create a tuple with the first 5 positive integers. Convert it to a list, append the number 6, and convert it back to a tuple. Print the resulting tuple."
   ]
  },
  {
   "cell_type": "code",
   "execution_count": 25,
   "metadata": {},
   "outputs": [],
   "source": [
    "# Codde here"
   ]
  },
  {
   "cell_type": "markdown",
   "id": "5a1f1e4e",
   "metadata": {},
   "source": [
    "* Tuple and String\n",
    "\n",
    "Create a tuple with the characters of a string. Join the tuple elements into a single string. Print the string."
   ]
  },
  {
   "cell_type": "code",
   "execution_count": 26,
   "metadata": {},
   "outputs": [],
   "source": [
    "# Codde here"
   ]
  },
  {
   "cell_type": "markdown",
   "id": "319c2625",
   "metadata": {},
   "source": [
    "* Tuple and Dictionary\n",
    "\n",
    "Create a dictionary with tuple keys and integer values. Print the dictionary."
   ]
  },
  {
   "cell_type": "code",
   "execution_count": 27,
   "metadata": {},
   "outputs": [],
   "source": [
    "# Codde here"
   ]
  },
  {
   "cell_type": "markdown",
   "id": "e8eba245",
   "metadata": {},
   "source": [
    "* Nested Tuple Iteration\n",
    "\n",
    "Create a nested tuple and iterate over the elements, printing each element.\n"
   ]
  },
  {
   "cell_type": "code",
   "execution_count": 28,
   "id": "a6cf971d",
   "metadata": {},
   "outputs": [],
   "source": [
    "# Codde here"
   ]
  },
  {
   "cell_type": "markdown",
   "id": "c89f4b79",
   "metadata": {},
   "source": [
    "* Tuple and Set\n",
    "\n",
    "Create a tuple with duplicate elements. Convert it to a set to remove duplicates and print the resulting set."
   ]
  },
  {
   "cell_type": "code",
   "execution_count": 29,
   "id": "e5adedb7",
   "metadata": {},
   "outputs": [],
   "source": [
    "# Codde here"
   ]
  },
  {
   "cell_type": "markdown",
   "id": "8ffcd5d4",
   "metadata": {},
   "source": [
    "* Tuple Functions\n",
    "\n",
    "Write functions that take a tuple and return the minimum, maximum, and sum of the elements. Print the results for a sample tuple."
   ]
  },
  {
   "cell_type": "code",
   "execution_count": 30,
   "id": "53df03c2",
   "metadata": {},
   "outputs": [],
   "source": [
    "# Codde here"
   ]
  }
 ],
 "metadata": {
  "kernelspec": {
   "display_name": "venv",
   "language": "python",
   "name": "python3"
  },
  "language_info": {
   "codemirror_mode": {
    "name": "ipython",
    "version": 3
   },
   "file_extension": ".py",
   "mimetype": "text/x-python",
   "name": "python",
   "nbconvert_exporter": "python",
   "pygments_lexer": "ipython3",
   "version": "3.12.11"
  }
 },
 "nbformat": 4,
 "nbformat_minor": 5
}

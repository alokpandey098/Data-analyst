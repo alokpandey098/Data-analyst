{
 "cells": [
  {
   "cell_type": "markdown",
   "id": "1d7e736f",
   "metadata": {},
   "source": [
    "#### Tuples\n",
    "Topics Covered:\n",
    "1. Introduction to Tuples\n",
    "2. Creating Tuples\n",
    "3. Accessing Tuple Elements\n",
    "4. Tuple Operations\n",
    "5. Immutable Nature of Tuples\n",
    "6. Tuple Methods\n",
    "7. Packing and Unpacking Tuples\n",
    "8. Nested Tuples\n",
    "9. Practical Examples and Common Errors"
   ]
  },
  {
   "cell_type": "code",
   "execution_count": 6,
   "id": "cb4bd116",
   "metadata": {},
   "outputs": [
    {
     "name": "stdout",
     "output_type": "stream",
     "text": [
      "<class 'tuple'>\n"
     ]
    }
   ],
   "source": [
    "# intro of tuple\n",
    "empty_tup =()   \n",
    "print(type(empty_tup))"
   ]
  },
  {
   "cell_type": "code",
   "execution_count": 2,
   "id": "81077e86",
   "metadata": {},
   "outputs": [
    {
     "name": "stdout",
     "output_type": "stream",
     "text": [
      "(12, 32, 12, 22, 44, 'Alok', 5.6)\n"
     ]
    }
   ],
   "source": [
    "# Creating tuple\n",
    "tup = (12,32,12,22,44,'Alok',5.6)\n",
    "\n",
    "print(tup)"
   ]
  },
  {
   "cell_type": "code",
   "execution_count": 8,
   "id": "45582b37",
   "metadata": {},
   "outputs": [
    {
     "data": {
      "text/plain": [
       "(1, 2, 3, 4, 55, 4, 3, 3)"
      ]
     },
     "execution_count": 8,
     "metadata": {},
     "output_type": "execute_result"
    }
   ],
   "source": [
    "num = tuple([1,2,3,4,55,4,3,3])\n",
    "num"
   ]
  },
  {
   "cell_type": "code",
   "execution_count": 3,
   "id": "2de77164",
   "metadata": {},
   "outputs": [
    {
     "name": "stdout",
     "output_type": "stream",
     "text": [
      "12\n"
     ]
    }
   ],
   "source": [
    "# Accesing tuple elements\n",
    "print(tup[2])"
   ]
  },
  {
   "cell_type": "code",
   "execution_count": 4,
   "id": "236fef72",
   "metadata": {},
   "outputs": [
    {
     "data": {
      "text/plain": [
       "5"
      ]
     },
     "execution_count": 4,
     "metadata": {},
     "output_type": "execute_result"
    }
   ],
   "source": [
    "tup.index('Alok')"
   ]
  },
  {
   "cell_type": "code",
   "execution_count": 5,
   "id": "215d2c49",
   "metadata": {},
   "outputs": [
    {
     "name": "stdout",
     "output_type": "stream",
     "text": [
      "Alok\n"
     ]
    }
   ],
   "source": [
    "print(tup[5])"
   ]
  },
  {
   "cell_type": "code",
   "execution_count": 9,
   "id": "a66ee3c7",
   "metadata": {},
   "outputs": [
    {
     "data": {
      "text/plain": [
       "(44, 'Alok')"
      ]
     },
     "execution_count": 9,
     "metadata": {},
     "output_type": "execute_result"
    }
   ],
   "source": [
    "tup[4:6]"
   ]
  },
  {
   "cell_type": "code",
   "execution_count": 13,
   "id": "2a7e302c",
   "metadata": {},
   "outputs": [
    {
     "data": {
      "text/plain": [
       "(5.6, 22, 12)"
      ]
     },
     "execution_count": 13,
     "metadata": {},
     "output_type": "execute_result"
    }
   ],
   "source": [
    "tup[::-3]"
   ]
  },
  {
   "cell_type": "code",
   "execution_count": 14,
   "id": "cc0a04aa",
   "metadata": {},
   "outputs": [
    {
     "name": "stdout",
     "output_type": "stream",
     "text": [
      "(12, 32, 12, 22, 44, 'Alok', 5.6, 1, 2, 3, 4, 55, 4, 3, 3)\n"
     ]
    }
   ],
   "source": [
    "# Tuple Operations (+,* etc)\n",
    "\n",
    "conc_tup = tup + num\n",
    "print(conc_tup)"
   ]
  },
  {
   "cell_type": "code",
   "execution_count": 15,
   "id": "d5b550ee",
   "metadata": {},
   "outputs": [
    {
     "name": "stdout",
     "output_type": "stream",
     "text": [
      "(1, 2, 3, 4, 55, 4, 3, 3, 1, 2, 3, 4, 55, 4, 3, 3)\n"
     ]
    }
   ],
   "source": [
    "print(num*2)"
   ]
  },
  {
   "cell_type": "code",
   "execution_count": 19,
   "id": "649bac6e",
   "metadata": {},
   "outputs": [
    {
     "name": "stdout",
     "output_type": "stream",
     "text": [
      "[1, 2, 3, 4]\n",
      "[1, 'Alok', 3, 4]\n",
      "Here Alok is added in list ,But in tuple it gives an error ..\n"
     ]
    },
    {
     "ename": "TypeError",
     "evalue": "'tuple' object does not support item assignment",
     "output_type": "error",
     "traceback": [
      "\u001b[31m---------------------------------------------------------------------------\u001b[39m",
      "\u001b[31mTypeError\u001b[39m                                 Traceback (most recent call last)",
      "\u001b[36mCell\u001b[39m\u001b[36m \u001b[39m\u001b[32mIn[19]\u001b[39m\u001b[32m, line 11\u001b[39m\n\u001b[32m      7\u001b[39m \u001b[38;5;28mprint\u001b[39m(lst)\n\u001b[32m      9\u001b[39m \u001b[38;5;28mprint\u001b[39m(\u001b[33m'\u001b[39m\u001b[33mHere Alok is added in list ,But in tuple it gives an error ..\u001b[39m\u001b[33m'\u001b[39m)\n\u001b[32m---> \u001b[39m\u001b[32m11\u001b[39m \u001b[43mnum\u001b[49m\u001b[43m[\u001b[49m\u001b[32;43m1\u001b[39;49m\u001b[43m]\u001b[49m = \u001b[33m\"\u001b[39m\u001b[33mAlok\u001b[39m\u001b[33m\"\u001b[39m\n\u001b[32m     12\u001b[39m \u001b[38;5;28mprint\u001b[39m(num)\n",
      "\u001b[31mTypeError\u001b[39m: 'tuple' object does not support item assignment"
     ]
    }
   ],
   "source": [
    "# Immutable nature of tuple\n",
    "\n",
    "lst = [1,2,3,4]\n",
    "print(lst)\n",
    "\n",
    "lst[1] = 'Alok'\n",
    "print(lst)\n",
    "\n",
    "print('Here Alok is added in list ,But in tuple it gives an error ..')\n",
    "\n",
    "num[1] = \"Alok\"\n",
    "print(num)"
   ]
  },
  {
   "cell_type": "code",
   "execution_count": 21,
   "id": "ac78b58b",
   "metadata": {},
   "outputs": [
    {
     "name": "stdout",
     "output_type": "stream",
     "text": [
      "3\n",
      "5\n"
     ]
    }
   ],
   "source": [
    "# Tuple Methods\n",
    "\n",
    "print(num.count(3))\n",
    "print(tup.index('Alok'))"
   ]
  },
  {
   "cell_type": "code",
   "execution_count": 22,
   "id": "a82095f6",
   "metadata": {},
   "outputs": [
    {
     "name": "stdout",
     "output_type": "stream",
     "text": [
      "('Alok', 22, 5.8)\n"
     ]
    }
   ],
   "source": [
    "# Tuple packing and unpacking\n",
    "# Packing\n",
    "\n",
    "pack_tup = \"Alok\",22,5.8\n",
    "print(pack_tup)"
   ]
  },
  {
   "cell_type": "code",
   "execution_count": 24,
   "id": "4b29287b",
   "metadata": {},
   "outputs": [
    {
     "name": "stdout",
     "output_type": "stream",
     "text": [
      "Name - Alok ,Age - 22 ,Height - 5.8\n"
     ]
    }
   ],
   "source": [
    "# Unpacking tuple\n",
    "\n",
    "name,age,height = pack_tup\n",
    "\n",
    "print('Name -',name,',Age -',age,',Height -',height)"
   ]
  },
  {
   "cell_type": "code",
   "execution_count": 27,
   "id": "1b9c3bfd",
   "metadata": {},
   "outputs": [
    {
     "name": "stdout",
     "output_type": "stream",
     "text": [
      "Alok\n",
      "[22, 5.8, 15, 12, 2002]\n",
      "Kumar\n",
      "Name = Alok Kumar\n",
      "Other details = [22, 5.8, 15, 12, 2002]\n"
     ]
    }
   ],
   "source": [
    "# Unpacking with *\n",
    "packed_tup = 'Alok',22,5.8,15,12,2002,'Kumar'\n",
    "first_name,*other,last_name = packed_tup\n",
    "print(first_name)\n",
    "print(other)\n",
    "print(last_name)\n",
    "\n",
    "# Sequence wise\n",
    "print('Name =',first_name,last_name)\n",
    "print('Other details =',other)"
   ]
  },
  {
   "cell_type": "code",
   "execution_count": 30,
   "id": "ac119f8d",
   "metadata": {},
   "outputs": [
    {
     "name": "stdout",
     "output_type": "stream",
     "text": [
      "(('Alok', 'kumar', 'Male'), (22, 5.8, 15, 12, 2002), ('Python', 'ML', 'DS', 'DA'))\n",
      "('Alok', 'kumar', 'Male')\n",
      "(22, 5.8, 15, 12, 2002)\n",
      "('ML', 'DS', 'DA')\n"
     ]
    }
   ],
   "source": [
    "# Nested tuple\n",
    "\n",
    "nest_tup = (('Alok','kumar','Male'),(22,5.8,15,12,2002),('Python','ML','DS','DA'))\n",
    "print(nest_tup)\n",
    "\n",
    "# Accesing inside nested tuple\n",
    "\n",
    "print(nest_tup[0][0:])\n",
    "print(nest_tup[1][0:])\n",
    "print(nest_tup[2][1:])\n"
   ]
  },
  {
   "cell_type": "code",
   "execution_count": 31,
   "id": "2c9455e6",
   "metadata": {},
   "outputs": [
    {
     "name": "stdout",
     "output_type": "stream",
     "text": [
      "Alok kumar Male \n",
      "22 5.8 15 12 2002 \n",
      "Python ML DS DA \n"
     ]
    }
   ],
   "source": [
    "# Itering over nested tuple\n",
    "\n",
    "for tupl in nest_tup:\n",
    "    for items in tupl:\n",
    "        print(items,end=\" \")\n",
    "    print()"
   ]
  },
  {
   "cell_type": "markdown",
   "id": "3f6c06ad",
   "metadata": {},
   "source": [
    "- Summary -:\n",
    "\n",
    "Tuples are versatile and useful in many real-world scenarios where an immutable and ordered collection of items is required. They are commonly used in data structures, function arguments and return values, and as dictionary keys. Understanding how to leverage tuples effectively can improve the efficiency and readability of your Python code."
   ]
  },
  {
   "cell_type": "markdown",
   "id": "3ee5e018",
   "metadata": {},
   "source": []
  }
 ],
 "metadata": {
  "kernelspec": {
   "display_name": "venv",
   "language": "python",
   "name": "python3"
  },
  "language_info": {
   "codemirror_mode": {
    "name": "ipython",
    "version": 3
   },
   "file_extension": ".py",
   "mimetype": "text/x-python",
   "name": "python",
   "nbconvert_exporter": "python",
   "pygments_lexer": "ipython3",
   "version": "3.12.11"
  }
 },
 "nbformat": 4,
 "nbformat_minor": 5
}

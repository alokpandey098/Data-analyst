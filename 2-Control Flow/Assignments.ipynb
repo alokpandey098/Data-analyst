{
 "cells": [
  {
   "cell_type": "markdown",
   "id": "1cb42e06",
   "metadata": {},
   "source": [
    "#### Conditional Statements\n"
   ]
  },
  {
   "cell_type": "markdown",
   "id": "2790e86b",
   "metadata": {},
   "source": [
    "1. Write a program that asks the user to input a number and prints whether the number is positive."
   ]
  },
  {
   "cell_type": "code",
   "execution_count": 2,
   "id": "f2e5f1ba",
   "metadata": {},
   "outputs": [
    {
     "name": "stdout",
     "output_type": "stream",
     "text": [
      "This number is positive\n"
     ]
    }
   ],
   "source": [
    "user = int(input('Enter a number :-'))\n",
    "if user >0:\n",
    "    print('This number is positive')"
   ]
  },
  {
   "cell_type": "markdown",
   "id": "dd410d20",
   "metadata": {},
   "source": [
    "2. Write a program that asks the user to input a number and prints whether the number is positive or negative."
   ]
  },
  {
   "cell_type": "code",
   "execution_count": 3,
   "metadata": {},
   "outputs": [
    {
     "name": "stdout",
     "output_type": "stream",
     "text": [
      "This number is positive\n"
     ]
    }
   ],
   "source": [
    "user = int(input('Enter a number :-'))\n",
    "if user >=0:\n",
    "    print('This number is positive')\n",
    "else:\n",
    "    print('Print this is Negative number')"
   ]
  },
  {
   "cell_type": "markdown",
   "id": "092c8cc2",
   "metadata": {},
   "source": [
    "3. Write a program that asks the user to input a number and prints whether the number is positive, negative, or zero.\n"
   ]
  },
  {
   "cell_type": "code",
   "execution_count": 4,
   "metadata": {},
   "outputs": [
    {
     "name": "stdout",
     "output_type": "stream",
     "text": [
      "This is Negative number\n"
     ]
    }
   ],
   "source": [
    "user = int(input('Enter a number :-'))\n",
    "if user >0:\n",
    "    print('This number is positive')\n",
    "elif user <0:\n",
    "    print('This is Negative number')\n",
    "else:\n",
    "    print('Print this is zero number')"
   ]
  },
  {
   "cell_type": "markdown",
   "id": "15d3e08b",
   "metadata": {},
   "source": [
    "4. Write a program that asks the user to input a number and prints whether the number is positive and even, positive and odd, or negative."
   ]
  },
  {
   "cell_type": "code",
   "execution_count": 6,
   "metadata": {},
   "outputs": [
    {
     "name": "stdout",
     "output_type": "stream",
     "text": [
      "This number is positive and even\n"
     ]
    }
   ],
   "source": [
    "user = int(input('Enter a number :-'))\n",
    "if user > 0:\n",
    "    if user % 2 == 0:\n",
    "        print('This number is positive and even')\n",
    "    else:\n",
    "        print('This number is positive and odd')\n",
    "elif user <0:\n",
    "    print('This is Negative number')\n",
    "else:\n",
    "    print('Print this is zero number')"
   ]
  },
  {
   "cell_type": "markdown",
   "id": "ec4f30dc",
   "metadata": {},
   "source": [
    "#### Loops\n",
    "\n",
    "1. Write a program that prints all the numbers from 1 to 10 using a for loop.\n"
   ]
  },
  {
   "cell_type": "code",
   "execution_count": 8,
   "metadata": {},
   "outputs": [
    {
     "name": "stdout",
     "output_type": "stream",
     "text": [
      "1\n",
      "2\n",
      "3\n",
      "4\n",
      "5\n",
      "6\n",
      "7\n",
      "8\n",
      "9\n",
      "10\n"
     ]
    }
   ],
   "source": [
    "for number in range(1,11):\n",
    "    print(number)"
   ]
  },
  {
   "cell_type": "markdown",
   "id": "ff4b055d",
   "metadata": {},
   "source": [
    "2. Write a program that prints all the numbers from 1 to 10 using a while loop."
   ]
  },
  {
   "cell_type": "code",
   "execution_count": 9,
   "metadata": {},
   "outputs": [
    {
     "name": "stdout",
     "output_type": "stream",
     "text": [
      "1\n",
      "2\n",
      "3\n",
      "4\n",
      "5\n",
      "6\n",
      "7\n",
      "8\n",
      "9\n",
      "10\n"
     ]
    }
   ],
   "source": [
    "num = 1\n",
    "while num<=10:\n",
    "    print(num)\n",
    "    num+=1"
   ]
  },
  {
   "cell_type": "markdown",
   "id": "36dcfd08",
   "metadata": {},
   "source": [
    "3. Write a program that prints a 5x5 grid of asterisks (*) using nested loops."
   ]
  },
  {
   "cell_type": "code",
   "execution_count": 24,
   "metadata": {},
   "outputs": [
    {
     "name": "stdout",
     "output_type": "stream",
     "text": [
      "* * * * * \n",
      "* * * * * \n",
      "* * * * * \n",
      "* * * * * \n",
      "* * * * * \n"
     ]
    }
   ],
   "source": [
    "row = 5\n",
    "col = 5\n",
    "\n",
    "for i in range(row):\n",
    "    for j in range(col):\n",
    "        print('*',end=\" \")\n",
    "    print()"
   ]
  },
  {
   "cell_type": "markdown",
   "id": "abfb66c5",
   "metadata": {},
   "source": [
    "4. Write a program that asks the user to input numbers until they input 0. The program should print the sum of all the input numbers."
   ]
  },
  {
   "cell_type": "code",
   "execution_count": null,
   "metadata": {},
   "outputs": [
    {
     "name": "stdout",
     "output_type": "stream",
     "text": [
      "6\n"
     ]
    }
   ],
   "source": [
    "# Program to take numbers from user until 0 is entered\n",
    "# Then print the sum of all numbers\n",
    "total = 0\n",
    "\n",
    "while True:\n",
    "    user = int(input('Enter number(0 to stop)'))\n",
    "    if user == 0:\n",
    "        break\n",
    "    total += user\n",
    "print(total)\n"
   ]
  },
  {
   "cell_type": "markdown",
   "id": "4b8bcb8f",
   "metadata": {},
   "source": [
    "5. Write a program that prints all the numbers from 1 to 10 except 5 using a for loop and continue statement."
   ]
  },
  {
   "cell_type": "code",
   "execution_count": 12,
   "metadata": {},
   "outputs": [
    {
     "name": "stdout",
     "output_type": "stream",
     "text": [
      "1\n",
      "2\n",
      "3\n",
      "4\n",
      "6\n",
      "7\n",
      "8\n",
      "9\n",
      "10\n"
     ]
    }
   ],
   "source": [
    "for i in range(1,11):\n",
    "    if i == 5:\n",
    "        continue\n",
    "    print(i)"
   ]
  },
  {
   "cell_type": "markdown",
   "id": "9482ae01",
   "metadata": {},
   "source": [
    "6. Write a program that defines an empty function using the pass statement."
   ]
  },
  {
   "cell_type": "code",
   "execution_count": 13,
   "metadata": {},
   "outputs": [
    {
     "name": "stdout",
     "output_type": "stream",
     "text": [
      "None\n"
     ]
    }
   ],
   "source": [
    "def empty():\n",
    "    pass\n",
    "print(empty())"
   ]
  },
  {
   "cell_type": "markdown",
   "id": "f5831e39",
   "metadata": {},
   "source": [
    "7. Write a program that asks the user to input a number and prints all the even numbers from 1 to that number using a for loop."
   ]
  },
  {
   "cell_type": "code",
   "execution_count": 15,
   "metadata": {},
   "outputs": [
    {
     "name": "stdout",
     "output_type": "stream",
     "text": [
      "2\n",
      "4\n",
      "6\n"
     ]
    }
   ],
   "source": [
    "user_input = int(input('Enter a number :'))\n",
    "\n",
    "for i in range(1,user_input+1):\n",
    "    if i%2 == 0:\n",
    "        print(i)"
   ]
  },
  {
   "cell_type": "markdown",
   "id": "b0a6fd96",
   "metadata": {},
   "source": [
    "8. Write a program that calculates the factorial of a number input by the user using a while loop."
   ]
  },
  {
   "cell_type": "code",
   "execution_count": null,
   "metadata": {},
   "outputs": [
    {
     "name": "stdout",
     "output_type": "stream",
     "text": [
      "factorial of 5 is 120\n"
     ]
    }
   ],
   "source": [
    "user = int(input('Enter number :'))\n",
    "fact = 1\n",
    "num = 1\n",
    "\n",
    "while num<=user:\n",
    "    fact*=num\n",
    "    num+=1\n",
    "print('factorial of',user,'is',fact)"
   ]
  },
  {
   "cell_type": "markdown",
   "id": "e6b07bee",
   "metadata": {},
   "source": [
    "9. Write a program that calculates the sum of the digits of a number input by the user using a while loop."
   ]
  },
  {
   "cell_type": "code",
   "execution_count": 4,
   "metadata": {},
   "outputs": [
    {
     "name": "stdout",
     "output_type": "stream",
     "text": [
      "Sum of digits: 5\n"
     ]
    }
   ],
   "source": [
    "# Program to calculate the sum of digits of a number\n",
    "\n",
    "num = int(input(\"Enter a number: \"))\n",
    "total = 0\n",
    "\n",
    "while num > 0:\n",
    "    digit = num % 10       # extract last digit\n",
    "    total += digit         # add it to total\n",
    "    num = num // 10        # remove last digit\n",
    "\n",
    "print(\"Sum of digits:\", total)\n"
   ]
  },
  {
   "cell_type": "markdown",
   "id": "88700767",
   "metadata": {},
   "source": [
    "10. Write a program that checks if a number input by the user is a prime number using a for loop."
   ]
  },
  {
   "cell_type": "code",
   "execution_count": 5,
   "metadata": {},
   "outputs": [
    {
     "name": "stdout",
     "output_type": "stream",
     "text": [
      "2 is a prime number\n"
     ]
    }
   ],
   "source": [
    "# Program to check if a number is prime\n",
    "\n",
    "num = int(input(\"Enter a number: \"))\n",
    "\n",
    "if num <= 1:\n",
    "    print(num, \"is not a prime number\")\n",
    "else:\n",
    "    is_prime = True   # assume it's prime\n",
    "\n",
    "    for i in range(2, num):   # check divisors from 2 to num-1\n",
    "        if num % i == 0:\n",
    "            is_prime = False\n",
    "            break   # no need to check further\n",
    "\n",
    "    if is_prime:\n",
    "        print(num, \"is a prime number\")\n",
    "    else:\n",
    "        print(num, \"is not a prime number\")\n"
   ]
  },
  {
   "cell_type": "markdown",
   "id": "49c9bc57",
   "metadata": {},
   "source": [
    "11. Write a program that prints the first n Fibonacci numbers, where n is input by the user."
   ]
  },
  {
   "cell_type": "code",
   "execution_count": 6,
   "metadata": {},
   "outputs": [
    {
     "name": "stdout",
     "output_type": "stream",
     "text": [
      "Fibonacci sequence:\n",
      "0 1 1 2 3 "
     ]
    }
   ],
   "source": [
    "# Program to print first n Fibonacci numbers\n",
    "\n",
    "n = int(input(\"Enter how many Fibonacci numbers to print: \"))\n",
    "\n",
    "a, b = 0, 1   # first two numbers of Fibonacci sequence\n",
    "count = 0\n",
    "\n",
    "print(\"Fibonacci sequence:\")\n",
    "\n",
    "while count < n:\n",
    "    print(a, end=\" \")\n",
    "    a, b = b, a + b   # update values\n",
    "    count += 1\n"
   ]
  }
 ],
 "metadata": {
  "kernelspec": {
   "display_name": "venv",
   "language": "python",
   "name": "python3"
  },
  "language_info": {
   "codemirror_mode": {
    "name": "ipython",
    "version": 3
   },
   "file_extension": ".py",
   "mimetype": "text/x-python",
   "name": "python",
   "nbconvert_exporter": "python",
   "pygments_lexer": "ipython3",
   "version": "3.12.11"
  }
 },
 "nbformat": 4,
 "nbformat_minor": 5
}

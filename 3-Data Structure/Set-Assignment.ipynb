{
 "cells": [
  {
   "cell_type": "markdown",
   "metadata": {},
   "source": [
    "### Assignment 1: Creating and Accessing Sets\n",
    "\n",
    "Create a set with the first 10 positive integers. Print the set."
   ]
  },
  {
   "cell_type": "code",
   "execution_count": 48,
   "metadata": {},
   "outputs": [
    {
     "name": "stdout",
     "output_type": "stream",
     "text": [
      "{0, 1, 2, 3, 4, 5, 6, 7, 8, 9}\n"
     ]
    }
   ],
   "source": [
    "st = set()\n",
    "for i in range(10):\n",
    "    st.add(i)\n",
    "\n",
    "print(st)"
   ]
  },
  {
   "cell_type": "markdown",
   "metadata": {},
   "source": [
    "### Assignment 2: Adding and Removing Elements\n",
    "\n",
    "Add the number 11 to the set created in Assignment 1. Then remove the number 1 from the set. Print the modified set."
   ]
  },
  {
   "cell_type": "code",
   "execution_count": 49,
   "metadata": {},
   "outputs": [
    {
     "name": "stdout",
     "output_type": "stream",
     "text": [
      "11 is added : {0, 1, 2, 3, 4, 5, 6, 7, 8, 9, 11}\n",
      "1 is removed : {0, 2, 3, 4, 5, 6, 7, 8, 9, 11}\n"
     ]
    }
   ],
   "source": [
    "st.add(11)\n",
    "print('11 is added :',st)\n",
    "\n",
    "st.remove(1)\n",
    "print('1 is removed :',st)"
   ]
  },
  {
   "cell_type": "markdown",
   "metadata": {},
   "source": [
    "### Assignment 3: Set Operations\n",
    "\n",
    "Create two sets: one with the first 5 positive integers and another with the first 5 even integers. Perform and print the results of union, intersection, difference, and symmetric difference operations on these sets."
   ]
  },
  {
   "cell_type": "code",
   "execution_count": 50,
   "metadata": {},
   "outputs": [
    {
     "name": "stdout",
     "output_type": "stream",
     "text": [
      "Union : {1, 2, 3, 4, 5, 6, 8, 10}\n",
      "Intersection : {2, 4}\n",
      "Difference : {1, 3, 5}\n",
      "Symmetric difference : {1, 3, 5, 6, 8, 10}\n"
     ]
    }
   ],
   "source": [
    "set1 = {1,2,3,4,5}\n",
    "set2 = {2,4,6,8,10}\n",
    "\n",
    "# Union\n",
    "print('Union :',set1.union(set2))\n",
    "\n",
    "# Intersection\n",
    "print('Intersection :',set1.intersection(set2))\n",
    "\n",
    "# Difference \n",
    "print('Difference :',set1.difference(set2))\n",
    "\n",
    "# Symmetric difference\n",
    "print('Symmetric difference :',set1.symmetric_difference(set2))"
   ]
  },
  {
   "cell_type": "markdown",
   "metadata": {},
   "source": [
    "### Assignment 4: Set Comprehensions\n",
    "\n",
    "Create a new set containing the squares of the first 10 positive integers using a set comprehension. Print the new set."
   ]
  },
  {
   "cell_type": "code",
   "execution_count": 51,
   "metadata": {},
   "outputs": [
    {
     "name": "stdout",
     "output_type": "stream",
     "text": [
      "Square of first 10 positive integers : {1: 1, 2: 4, 3: 9, 4: 16, 5: 25, 6: 36, 7: 49, 8: 64, 9: 81, 10: 100}\n"
     ]
    }
   ],
   "source": [
    "set_sq = {x: x**2 for x in range(1,11)}\n",
    "print(\"Square of first 10 positive integers :\",set_sq)"
   ]
  },
  {
   "cell_type": "markdown",
   "metadata": {},
   "source": [
    "### Assignment 5: Filtering Sets\n",
    "\n",
    "Create a new set containing only the even numbers from the set created in Assignment 1 using a set comprehension. Print the new set."
   ]
  },
  {
   "cell_type": "code",
   "execution_count": 52,
   "metadata": {},
   "outputs": [
    {
     "name": "stdout",
     "output_type": "stream",
     "text": [
      "Even number from set 1 : {0, 2, 4, 6, 8}\n"
     ]
    }
   ],
   "source": [
    "even_set = {x for x in st if x%2==0}\n",
    "print(\"Even number from set 1 :\",even_set)"
   ]
  },
  {
   "cell_type": "markdown",
   "metadata": {},
   "source": [
    "### Assignment 6: Set Methods\n",
    "\n",
    "Create a list with duplicate elements and remove the duplicates using set methods. Print the modified set."
   ]
  },
  {
   "cell_type": "code",
   "execution_count": 53,
   "metadata": {},
   "outputs": [
    {
     "name": "stdout",
     "output_type": "stream",
     "text": [
      "Original List: [10, 20, 30, 20, 40, 10, 50, 30, 50]\n",
      "Set after removing duplicates: {40, 10, 50, 20, 30}\n"
     ]
    }
   ],
   "source": [
    "# Create a list with duplicate elements\n",
    "numbers = [10, 20, 30, 20, 40, 10, 50, 30, 50]\n",
    "\n",
    "# Convert list to a set to remove duplicates\n",
    "unique_numbers = set(numbers)\n",
    "\n",
    "# Print results\n",
    "print(\"Original List:\", numbers)\n",
    "print(\"Set after removing duplicates:\", unique_numbers)\n"
   ]
  },
  {
   "cell_type": "markdown",
   "metadata": {},
   "source": [
    "### Assignment 7: Subsets and Supersets\n",
    "\n",
    "Create two sets: one with the first 5 positive integers and another with the first 3 positive integers. Check if the second set is a subset of the first set and if the first set is a superset of the second set. Print the results."
   ]
  },
  {
   "cell_type": "code",
   "execution_count": 54,
   "metadata": {},
   "outputs": [
    {
     "name": "stdout",
     "output_type": "stream",
     "text": [
      "Yes, set2 is subset of set1\n",
      "Yes, set1 is superset of set2\n"
     ]
    }
   ],
   "source": [
    "set1 = {1,2,3,4,5}\n",
    "set2 = {1,2,3}\n",
    "\n",
    "# Issubset ?\n",
    "if set2.issubset(set1) == True:\n",
    "    print('Yes, set2 is subset of set1')\n",
    "else:\n",
    "    print('No, set2 is not subset of set1')\n",
    "\n",
    "# Issuperset ?\n",
    "if set1.issuperset(set2) == True:\n",
    "    print('Yes, set1 is superset of set2')\n",
    "else:\n",
    "    print('No, set1 is not superset of set2')"
   ]
  },
  {
   "cell_type": "markdown",
   "metadata": {},
   "source": [
    "### Assignment 8: Frozenset\n",
    "\n",
    "Create a frozenset with the first 5 positive integers. Print the frozenset."
   ]
  },
  {
   "cell_type": "code",
   "execution_count": 55,
   "metadata": {},
   "outputs": [
    {
     "name": "stdout",
     "output_type": "stream",
     "text": [
      "Frozen set: frozenset({1, 2, 3, 4, 5})\n"
     ]
    },
    {
     "data": {
      "text/plain": [
       "'A frozenset is just like a set, but it is immutable —\\n   meaning once created, you cannot add, remove,\\n   or modify its elements.'"
      ]
     },
     "execution_count": 55,
     "metadata": {},
     "output_type": "execute_result"
    }
   ],
   "source": [
    "numbers = frozenset([1, 2, 3, 4, 5])\n",
    "\n",
    "# Print the frozenset\n",
    "print(\"Frozen set:\", numbers)\n",
    "\n",
    "'''A frozenset is just like a set, but it is immutable —\n",
    "   meaning once created, you cannot add, remove,\n",
    "   or modify its elements.'''"
   ]
  },
  {
   "cell_type": "markdown",
   "metadata": {},
   "source": [
    "### Assignment 9: Set and List Conversion\n",
    "\n",
    "Create a set with the first 5 positive integers. Convert it to a list, append the number 6, and convert it back to a set. Print the resulting set."
   ]
  },
  {
   "cell_type": "code",
   "execution_count": 56,
   "metadata": {},
   "outputs": [
    {
     "name": "stdout",
     "output_type": "stream",
     "text": [
      "Set with appending value 6 : {1, 2, 3, 4, 5, 6}\n"
     ]
    }
   ],
   "source": [
    "# set with 5 positive integer\n",
    "set3 = {1,2,3,4,5}\n",
    "\n",
    "# Convert set in to list\n",
    "in_list = list(set3)\n",
    "\n",
    "# Append value 6 in list\n",
    "in_list.append(6)\n",
    "\n",
    "# Convert in to set\n",
    "in_set = set(in_list)\n",
    "\n",
    "print('Set with appending value 6 :',in_set)\n"
   ]
  },
  {
   "cell_type": "markdown",
   "metadata": {},
   "source": [
    "### Assignment 10: Set and Dictionary\n",
    "\n",
    "Create a dictionary with set keys and integer values. Print the dictionary."
   ]
  },
  {
   "cell_type": "code",
   "execution_count": 57,
   "metadata": {},
   "outputs": [
    {
     "name": "stdout",
     "output_type": "stream",
     "text": [
      "\n",
      "Important Rule in Python:\n",
      "Dictionary keys must be immutable (cannot be changed after creation).\n",
      "But sets are mutable, meaning their content can change —\n",
      "so you cannot use a normal set as a dictionary key.\n",
      "\n",
      "Dictionary with frozenset keys:\n",
      "{frozenset({1, 2, 3}): 10, frozenset({4, 5}): 20, frozenset({8, 6, 7}): 30}\n"
     ]
    }
   ],
   "source": [
    "print('''\n",
    "Important Rule in Python:\n",
    "Dictionary keys must be immutable (cannot be changed after creation).\n",
    "But sets are mutable, meaning their content can change —\n",
    "so you cannot use a normal set as a dictionary key.\n",
    "''')\n",
    "\n",
    "# Create a dictionary with frozenset keys and integer values\n",
    "dict = {\n",
    "    frozenset({1, 2, 3}): 10,\n",
    "    frozenset({4, 5}): 20,\n",
    "    frozenset({6, 7, 8}): 30\n",
    "}\n",
    "\n",
    "# Print the dictionary\n",
    "print(\"Dictionary with frozenset keys:\")\n",
    "print(dict)\n"
   ]
  },
  {
   "cell_type": "markdown",
   "metadata": {},
   "source": [
    "### Assignment 11: Iterating Over Sets\n",
    "\n",
    "Create a set and iterate over the elements, printing each element."
   ]
  },
  {
   "cell_type": "code",
   "execution_count": 58,
   "metadata": {},
   "outputs": [
    {
     "name": "stdout",
     "output_type": "stream",
     "text": [
      "1\n",
      "2\n",
      "3\n",
      "4\n",
      "5\n",
      "6\n",
      "7\n"
     ]
    }
   ],
   "source": [
    "set4 = {1,2,3,4,5,6,7}\n",
    "\n",
    "for value in set4:\n",
    "    print(value)"
   ]
  },
  {
   "cell_type": "markdown",
   "metadata": {},
   "source": [
    "### Assignment 12: Removing Elements from Sets\n",
    "\n",
    "Create a set and remove elements from it until it is empty. Print the set after each removal."
   ]
  },
  {
   "cell_type": "code",
   "execution_count": 59,
   "metadata": {},
   "outputs": [
    {
     "name": "stdout",
     "output_type": "stream",
     "text": [
      "Initial Set: {50, 20, 40, 10, 30}\n",
      "Removed: 50, Remaining Set: {20, 40, 10, 30}\n",
      "Removed: 20, Remaining Set: {40, 10, 30}\n",
      "Removed: 40, Remaining Set: {10, 30}\n",
      "Removed: 10, Remaining Set: {30}\n",
      "Removed: 30, Remaining Set: set()\n",
      "Set is now empty: set()\n"
     ]
    }
   ],
   "source": [
    "# Create a set\n",
    "numbers = {10, 20, 30, 40, 50}\n",
    "\n",
    "print(\"Initial Set:\", numbers)\n",
    "\n",
    "# Keep removing elements until the set becomes empty\n",
    "while numbers:\n",
    "    removed_item = numbers.pop()  # removes and returns a random element\n",
    "    print(f\"Removed: {removed_item}, Remaining Set: {numbers}\")\n",
    "\n",
    "print(\"Set is now empty:\", numbers)\n"
   ]
  },
  {
   "cell_type": "markdown",
   "metadata": {},
   "source": [
    "### Assignment 13: Set Symmetric Difference Update\n",
    "\n",
    "Create two sets and update the first set with the symmetric difference of the two sets. Print the modified first set."
   ]
  },
  {
   "cell_type": "code",
   "execution_count": 64,
   "metadata": {},
   "outputs": [
    {
     "name": "stdout",
     "output_type": "stream",
     "text": [
      "Set 1 before updated : {40, 10, 20, 30}\n",
      "Updated set 1 with symmetric difference : {20, 90, 40, 10, 30}\n"
     ]
    }
   ],
   "source": [
    "s1 = {20, 40, 10, 30}\n",
    "s2 = {40, 10, 30,90}\n",
    "print('Set 1 before updated :',s1)\n",
    "# Symmetric difference\n",
    "sym_diff = s1.symmetric_difference(s2)\n",
    "\n",
    "# Update set 1 with symmetric value\n",
    "s1.update(sym_diff)\n",
    "print('Updated set 1 with symmetric difference :',s1)"
   ]
  },
  {
   "cell_type": "markdown",
   "metadata": {},
   "source": [
    "### Assignment 14: Set Membership Testing\n",
    "\n",
    "Create a set and test if certain elements are present in the set. Print the results."
   ]
  },
  {
   "cell_type": "code",
   "execution_count": null,
   "metadata": {},
   "outputs": [
    {
     "name": "stdout",
     "output_type": "stream",
     "text": [
      "Yes, 10 is present in set ...\n"
     ]
    }
   ],
   "source": [
    "new_set = {40, 10, 20, 30}\n",
    "\n",
    "if 10 in new_set:\n",
    "    print('Yes, 10 is present in set ...')\n",
    "else:\n",
    "    print('No, 10 is not present in set ...') "
   ]
  },
  {
   "cell_type": "markdown",
   "metadata": {},
   "source": [
    "### Assignment 15: Set of Tuples\n",
    "\n",
    "Create a set containing tuples, where each tuple contains two elements. Print the set."
   ]
  },
  {
   "cell_type": "code",
   "execution_count": 66,
   "metadata": {},
   "outputs": [
    {
     "name": "stdout",
     "output_type": "stream",
     "text": [
      "Set with tuple : {(1, 2), (3, 4), (5, 6)}\n"
     ]
    }
   ],
   "source": [
    "tup_set = {(1,2),(3,4),(5,6)}\n",
    "\n",
    "print('Set with tuple :',tup_set)"
   ]
  }
 ],
 "metadata": {
  "kernelspec": {
   "display_name": "DAB",
   "language": "python",
   "name": "python3"
  },
  "language_info": {
   "codemirror_mode": {
    "name": "ipython",
    "version": 3
   },
   "file_extension": ".py",
   "mimetype": "text/x-python",
   "name": "python",
   "nbconvert_exporter": "python",
   "pygments_lexer": "ipython3",
   "version": "3.11.13"
  }
 },
 "nbformat": 4,
 "nbformat_minor": 5
}

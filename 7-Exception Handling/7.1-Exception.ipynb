{
 "cells": [
  {
   "cell_type": "markdown",
   "id": "238df8ce",
   "metadata": {},
   "source": [
    "- Understanding Exceptions\n",
    "\n",
    "Exception handling in Python allows you to handle errors gracefully and take corrective actions without stopping the execution of the program. This lesson will cover the basics of exceptions, including how to use try, except, else, and finally blocks.\n",
    "\n",
    "- What Are Exceptions?\n",
    "Exceptions are events that disrupt the normal flow of a program. They occur when an error is encountered during program execution. Common exceptions include:\n",
    "\n",
    "- ZeroDivisionError: Dividing by zero.\n",
    "- FileNotFoundError: File not found.\n",
    "- ValueError: Invalid value.\n",
    "- TypeError: Invalid type."
   ]
  },
  {
   "cell_type": "code",
   "execution_count": 3,
   "id": "d4b40fba",
   "metadata": {},
   "outputs": [
    {
     "name": "stdout",
     "output_type": "stream",
     "text": [
      "The variable has not been assigned\n"
     ]
    }
   ],
   "source": [
    "try:\n",
    "    a = b\n",
    "except:\n",
    "    print(\"The variable has not been assigned\")"
   ]
  },
  {
   "cell_type": "code",
   "execution_count": 4,
   "id": "8609c274",
   "metadata": {},
   "outputs": [
    {
     "ename": "NameError",
     "evalue": "name 'c' is not defined",
     "output_type": "error",
     "traceback": [
      "\u001b[31m---------------------------------------------------------------------------\u001b[39m",
      "\u001b[31mNameError\u001b[39m                                 Traceback (most recent call last)",
      "\u001b[36mCell\u001b[39m\u001b[36m \u001b[39m\u001b[32mIn[4]\u001b[39m\u001b[32m, line 1\u001b[39m\n\u001b[32m----> \u001b[39m\u001b[32m1\u001b[39m a = \u001b[43mc\u001b[49m\n",
      "\u001b[31mNameError\u001b[39m: name 'c' is not defined"
     ]
    }
   ],
   "source": [
    "a = c"
   ]
  },
  {
   "cell_type": "code",
   "execution_count": null,
   "id": "a38f20ed",
   "metadata": {},
   "outputs": [],
   "source": [
    "try:\n",
    "    a = c\n",
    "except NameError as e:\n",
    "    print(e)"
   ]
  },
  {
   "cell_type": "code",
   "execution_count": null,
   "id": "f024c9e3",
   "metadata": {},
   "outputs": [],
   "source": [
    "# Zero division error\n",
    "try:\n",
    "    result=1/0\n",
    "except ZeroDivisionError as ex:\n",
    "    print(ex)\n",
    "    print(\"Please enter the denominator greater than 0\")"
   ]
  },
  {
   "cell_type": "code",
   "execution_count": null,
   "id": "9a5b944c",
   "metadata": {},
   "outputs": [],
   "source": [
    "try:\n",
    "    result=1/2\n",
    "    a=b\n",
    "except ZeroDivisionError as e:\n",
    "    print(e)\n",
    "    print(\"Please enter the denominator greater than 0\")\n",
    "except Exception as e1:\n",
    "    print(e1)\n",
    "    print('Main exception got caught here')"
   ]
  },
  {
   "cell_type": "code",
   "execution_count": null,
   "id": "f8114ec3",
   "metadata": {},
   "outputs": [],
   "source": [
    "try:\n",
    "    num=int(input(\"Enter a number\"))\n",
    "    result=10/num\n",
    "    print(result)\n",
    "except ValueError:\n",
    "    print(\"This is not a valid number\")\n",
    "except ZeroDivisionError:\n",
    "    print(\"enter denominator greater than 0\")\n",
    "except Exception as ex:\n",
    "    print(ex)"
   ]
  },
  {
   "cell_type": "code",
   "execution_count": null,
   "id": "09249e17",
   "metadata": {},
   "outputs": [],
   "source": [
    "# try,except,else block\n",
    "try:\n",
    "    num=int(input(\"Enter a number:\"))\n",
    "    result=10/num\n",
    "except ValueError:\n",
    "    print(\"That's not a valid number!\")\n",
    "except ZeroDivisionError:\n",
    "    print(\"You can't divide by zero!\")\n",
    "except Exception as ex:\n",
    "    print(ex)\n",
    "else:\n",
    "    print(f\"the result is {result}\")"
   ]
  },
  {
   "cell_type": "code",
   "execution_count": null,
   "id": "433dfd81",
   "metadata": {},
   "outputs": [],
   "source": [
    "# try,except,else and finally\n",
    "try:\n",
    "    num = int(input(\"Enter a number: \"))\n",
    "    result = 10 / num\n",
    "except ValueError:\n",
    "    print(\"That's not a valid number!\")\n",
    "except ZeroDivisionError:\n",
    "    print(\"You can't divide by zero!\")\n",
    "except Exception as ex:\n",
    "    print(ex)\n",
    "else:\n",
    "    print(f\"The result is {result}\")\n",
    "finally:\n",
    "    print(\"Execution complete.\")"
   ]
  },
  {
   "cell_type": "code",
   "execution_count": null,
   "id": "fa9fa166",
   "metadata": {},
   "outputs": [],
   "source": [
    "# File handling and Exception HAndling\n",
    "\n",
    "try:\n",
    "    file=open('example.txt','r')\n",
    "    content=file.read()\n",
    "    a=b\n",
    "    print(content)\n",
    "\n",
    "except FileNotFoundError:\n",
    "    print(\"The file does not exists\")\n",
    "except Exception as ex:\n",
    "    print(ex)\n",
    "\n",
    "finally:\n",
    "    if 'file' in locals() or not file.closed():\n",
    "        file.close()\n",
    "        print('file close')"
   ]
  },
  {
   "cell_type": "code",
   "execution_count": null,
   "id": "ba4e4dca",
   "metadata": {},
   "outputs": [],
   "source": [
    "if 'file' in locals():\n",
    "    print(True)\n",
    "else:\n",
    "    print(False)"
   ]
  }
 ],
 "metadata": {
  "kernelspec": {
   "display_name": "DAB",
   "language": "python",
   "name": "python3"
  },
  "language_info": {
   "codemirror_mode": {
    "name": "ipython",
    "version": 3
   },
   "file_extension": ".py",
   "mimetype": "text/x-python",
   "name": "python",
   "nbconvert_exporter": "python",
   "pygments_lexer": "ipython3",
   "version": "3.11.13"
  }
 },
 "nbformat": 4,
 "nbformat_minor": 5
}

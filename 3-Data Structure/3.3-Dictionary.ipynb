{
 "cells": [
  {
   "cell_type": "markdown",
   "id": "86b45823",
   "metadata": {},
   "source": [
    "## Dictionaries\n",
    "Topics Covered :\n",
    "1. Introduction to Dictionaries\n",
    "2. Creating Dictionaries\n",
    "3. Accessing Dictionary Elements\n",
    "4. Modifying Dictionary Elements\n",
    "5. Dictionary Methods\n",
    "6. Iterating Over Dictionaries\n",
    "7. Nested Dictionaries\n",
    "8. Dictionary Comprehensions\n",
    "9. Practical Examples and Common Errors"
   ]
  },
  {
   "cell_type": "code",
   "execution_count": 1,
   "id": "574fab83",
   "metadata": {},
   "outputs": [
    {
     "name": "stdout",
     "output_type": "stream",
     "text": [
      "{}\n",
      "<class 'dict'>\n"
     ]
    }
   ],
   "source": [
    "# Intro\n",
    "empty_dict = {}\n",
    "print(empty_dict)\n",
    "print(type(empty_dict))"
   ]
  },
  {
   "cell_type": "code",
   "execution_count": 4,
   "id": "9d3c8dd3",
   "metadata": {},
   "outputs": [
    {
     "name": "stdout",
     "output_type": "stream",
     "text": [
      "{'Name': 'Alok', 'Age': 22, 'Nationality': 'Indian', 'Height': 5.8}\n"
     ]
    }
   ],
   "source": [
    "# Creating dictionary\n",
    "\n",
    "dicts = {'Name':'Alok',\n",
    "         'Age':22,\n",
    "         'Nationality':'Indian',\n",
    "         'Height':5.8}\n",
    "\n",
    "print(dicts)"
   ]
  },
  {
   "cell_type": "code",
   "execution_count": 6,
   "id": "eda780ee",
   "metadata": {},
   "outputs": [
    {
     "name": "stdout",
     "output_type": "stream",
     "text": [
      "{'Name': 'Alok', 'Age': 22, 'Nationality': 'Indian', 'Height': 5.8}\n",
      "Alok\n",
      "22\n",
      "Indian\n",
      "Student\n",
      "5.8\n"
     ]
    }
   ],
   "source": [
    "# Accessing dictionary element\n",
    "print(dicts)\n",
    "print(dicts['Name'])\n",
    "print(dicts['Age'])\n",
    "\n",
    "# Accessing using get method\n",
    "print(dicts.get('Nationality'))\n",
    "print(dicts.get('Occupasion','Student')) # set default value if not given to avoid error\n",
    "print(dicts.get('Height'))"
   ]
  },
  {
   "cell_type": "code",
   "execution_count": 7,
   "id": "98ad863c",
   "metadata": {},
   "outputs": [
    {
     "name": "stdout",
     "output_type": "stream",
     "text": [
      "{'Name': 'Alok', 'Age': 21, 'Nationality': 'Indian', 'Height': 5.8}\n",
      "{'Name': 'Alok', 'Age': 21, 'Nationality': 'Indian', 'Height': 5.8, 'Address': 'Mainatand'}\n",
      "{'Name': 'Alok', 'Age': 21, 'Nationality': 'Indian', 'Address': 'Mainatand'}\n"
     ]
    }
   ],
   "source": [
    "# Modifying Dictionary element\n",
    "# Dictionary is mutable ,so we can add,update and delete elements\n",
    "\n",
    "dicts['Age'] = 21 # Update value of key\n",
    "print(dicts)\n",
    "\n",
    "dicts['Address'] = 'Mainatand'  # Add new key value pair\n",
    "print(dicts)\n",
    "\n",
    "del dicts['Height'] # Delete key with value\n",
    "print(dicts)\n"
   ]
  },
  {
   "cell_type": "code",
   "execution_count": 10,
   "id": "92eed058",
   "metadata": {},
   "outputs": [
    {
     "name": "stdout",
     "output_type": "stream",
     "text": [
      "All Keys:- dict_keys(['Name', 'Age', 'Nationality', 'Address'])\n",
      "All Values:- dict_values(['Alok', 21, 'Indian', 'Mainatand'])\n",
      "Keys and Values:- dict_items([('Name', 'Alok'), ('Age', 21), ('Nationality', 'Indian'), ('Address', 'Mainatand')])\n"
     ]
    }
   ],
   "source": [
    "# Dictionary methods\n",
    "\n",
    "key = dicts.keys() # get all the keys\n",
    "print('All Keys:-',key)\n",
    "\n",
    "value = dicts.values() # get all the values \n",
    "print('All Values:-',value)\n",
    "\n",
    "item = dicts.items()  # get all key and values \n",
    "print('Keys and Values:-',item)"
   ]
  },
  {
   "cell_type": "code",
   "execution_count": 11,
   "id": "2234d675",
   "metadata": {},
   "outputs": [
    {
     "name": "stdout",
     "output_type": "stream",
     "text": [
      "Original: {'name': 'Alok', 'skills': ['Python', 'SQL']}\n",
      "Shallow Copy: {'name': 'Alok', 'skills': ['Python', 'SQL']}\n",
      "\n",
      "After modification:\n",
      "Original: {'name': 'Pandey', 'skills': ['Python', 'SQL', 'Power BI']}\n",
      "Shallow Copy: {'name': 'Alok', 'skills': ['Python', 'SQL', 'Power BI']}\n"
     ]
    }
   ],
   "source": [
    "# Shallow copy\n",
    "student = {\"name\": \"Alok\", \"skills\": [\"Python\", \"SQL\"]}\n",
    "\n",
    "# Shallow Copy\n",
    "student_copy1 = student.copy()\n",
    "\n",
    "print(\"Original:\", student)\n",
    "print(\"Shallow Copy:\", student_copy1)\n",
    "\n",
    "# Modify top-level key\n",
    "student[\"name\"] = \"Pandey\"\n",
    "\n",
    "# Modify nested list\n",
    "student[\"skills\"].append(\"Power BI\")\n",
    "\n",
    "print(\"\\nAfter modification:\")\n",
    "print(\"Original:\", student)\n",
    "print(\"Shallow Copy:\", student_copy1)\n"
   ]
  },
  {
   "cell_type": "markdown",
   "id": "dda5cbc5",
   "metadata": {},
   "source": [
    "- So, dict.copy() creates a new dictionary, but only at the top level → nested mutable objects are still linked Means nested element are still changing."
   ]
  },
  {
   "cell_type": "code",
   "execution_count": 15,
   "id": "b63e1d73",
   "metadata": {},
   "outputs": [
    {
     "name": "stdout",
     "output_type": "stream",
     "text": [
      "With Keys\n",
      "Keys : Name\n",
      "Keys : Age\n",
      "Keys : Nationality\n",
      "Keys : Address\n",
      " \n",
      "With values\n",
      "Values ; Alok\n",
      "Values ; 21\n",
      "Values ; Indian\n",
      "Values ; Mainatand\n",
      " \n",
      "With Items\n",
      "Name:Alok\n",
      "Age:21\n",
      "Nationality:Indian\n",
      "Address:Mainatand\n"
     ]
    }
   ],
   "source": [
    "# Itreting over dictionary\n",
    "# you iterate through keys,values or items\n",
    "\n",
    "# with keys\n",
    "print('With Keys')\n",
    "for key in dicts.keys():\n",
    "    print('Keys :',key)\n",
    "\n",
    "# with values\n",
    "print(\" \")\n",
    "print('With values')\n",
    "for value in dicts.values():\n",
    "    print('Values ;',value)\n",
    "\n",
    "# with items \n",
    "print(\" \")\n",
    "print('With Items')\n",
    "for key,value in dicts.items():\n",
    "    print(f\"{key}:{value}\")"
   ]
  },
  {
   "cell_type": "code",
   "execution_count": 16,
   "id": "bd78cb85",
   "metadata": {},
   "outputs": [],
   "source": [
    "# Nested Dictionary\n",
    "\n",
    "nested = {'std1':{'Name':'Aayush','Age':22,'Gender':'Male'},\n",
    "          'std2':{'Name':'Kushi','Age':24,'Gender':'Female'},\n",
    "          'std3':{'Name':'Uday','Age':28,'Gender':'Male'}}\n"
   ]
  },
  {
   "cell_type": "code",
   "execution_count": 18,
   "id": "3112536a",
   "metadata": {},
   "outputs": [
    {
     "name": "stdout",
     "output_type": "stream",
     "text": [
      "Aayush\n",
      "24\n",
      "Male\n",
      "dict_items([('std1', {'Name': 'Aayush', 'Age': 22, 'Gender': 'Male'}), ('std2', {'Name': 'Kushi', 'Age': 24, 'Gender': 'Female'}), ('std3', {'Name': 'Uday', 'Age': 28, 'Gender': 'Male'})])\n"
     ]
    }
   ],
   "source": [
    "# Accesing nested dictionary\n",
    "print(nested['std1']['Name'])\n",
    "print(nested['std2']['Age'])\n",
    "print(nested['std3']['Gender'])\n",
    "print(nested.items())"
   ]
  },
  {
   "cell_type": "code",
   "execution_count": 19,
   "id": "c50ec0b6",
   "metadata": {},
   "outputs": [
    {
     "name": "stdout",
     "output_type": "stream",
     "text": [
      "std1:{'Name': 'Aayush', 'Age': 22, 'Gender': 'Male'}\n",
      "Name:Aayush\n",
      "Age:22\n",
      "Gender:Male\n",
      "std2:{'Name': 'Kushi', 'Age': 24, 'Gender': 'Female'}\n",
      "Name:Kushi\n",
      "Age:24\n",
      "Gender:Female\n",
      "std3:{'Name': 'Uday', 'Age': 28, 'Gender': 'Male'}\n",
      "Name:Uday\n",
      "Age:28\n",
      "Gender:Male\n"
     ]
    }
   ],
   "source": [
    "# Iterating over nested dictionaries\n",
    "for student_id,student_info in nested.items():\n",
    "    print(f\"{student_id}:{student_info}\")\n",
    "    for key,value in student_info.items():\n",
    "        print(f\"{key}:{value}\")"
   ]
  },
  {
   "cell_type": "code",
   "execution_count": 20,
   "id": "6f3b601f",
   "metadata": {},
   "outputs": [
    {
     "name": "stdout",
     "output_type": "stream",
     "text": [
      "{0: 0, 1: 1, 2: 4, 3: 9, 4: 16}\n"
     ]
    }
   ],
   "source": [
    "# Dictionary Comphrehension\n",
    "squares={x:x**2 for x in range(5)}\n",
    "print(squares)"
   ]
  },
  {
   "cell_type": "code",
   "execution_count": 21,
   "id": "3540537d",
   "metadata": {},
   "outputs": [
    {
     "name": "stdout",
     "output_type": "stream",
     "text": [
      "{0: 0, 2: 4, 4: 16, 6: 36, 8: 64}\n"
     ]
    }
   ],
   "source": [
    "# Condition dictionary comprehension\n",
    "evens={x:x**2 for x in range(10) if x%2==0}\n",
    "print(evens)"
   ]
  },
  {
   "cell_type": "code",
   "execution_count": 22,
   "id": "f989ab61",
   "metadata": {},
   "outputs": [
    {
     "name": "stdout",
     "output_type": "stream",
     "text": [
      "{1: 1, 2: 2, 3: 3, 4: 4}\n"
     ]
    }
   ],
   "source": [
    "# USe a dictionary to count he frequency of elements in list\n",
    "\n",
    "numbers=[1,2,2,3,3,3,4,4,4,4]\n",
    "frequency={}\n",
    "\n",
    "for number in numbers:\n",
    "    if number in frequency:\n",
    "        frequency[number]+=1\n",
    "    else:\n",
    "        frequency[number]=1\n",
    "print(frequency)"
   ]
  },
  {
   "cell_type": "code",
   "execution_count": 23,
   "id": "75616e27",
   "metadata": {},
   "outputs": [
    {
     "name": "stdout",
     "output_type": "stream",
     "text": [
      "{'a': 1, 'b': 3, 'c': 4}\n"
     ]
    }
   ],
   "source": [
    "# Merge 2 dictionaries into one\n",
    "\n",
    "dict1={\"a\":1,\"b\":2}\n",
    "dict2={\"b\":3,\"c\":4}\n",
    "merged_dict={**dict1,**dict2}\n",
    "print(merged_dict)"
   ]
  },
  {
   "cell_type": "markdown",
   "id": "2954cd77",
   "metadata": {},
   "source": [
    "- Summary -:\n",
    "Dictionaries are powerful tools in Python for managing key-value pairs. They are used in a variety of real-world scenarios, such as counting word frequency, grouping data, storing configuration settings, managing phonebooks, tracking inventory, and caching results. Understanding how to leverage dictionaries effectively can greatly enhance the efficiency and readability of your code."
   ]
  },
  {
   "cell_type": "code",
   "execution_count": null,
   "id": "c4d72fd7",
   "metadata": {},
   "outputs": [],
   "source": []
  },
  {
   "cell_type": "code",
   "execution_count": null,
   "id": "8fc80da6",
   "metadata": {},
   "outputs": [],
   "source": []
  }
 ],
 "metadata": {
  "kernelspec": {
   "display_name": "venv",
   "language": "python",
   "name": "python3"
  },
  "language_info": {
   "codemirror_mode": {
    "name": "ipython",
    "version": 3
   },
   "file_extension": ".py",
   "mimetype": "text/x-python",
   "name": "python",
   "nbconvert_exporter": "python",
   "pygments_lexer": "ipython3",
   "version": "3.12.11"
  }
 },
 "nbformat": 4,
 "nbformat_minor": 5
}

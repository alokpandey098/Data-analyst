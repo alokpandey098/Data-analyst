{
 "cells": [
  {
   "cell_type": "markdown",
   "metadata": {},
   "source": [
    "# Lesson 1.2: Python Basics\n",
    "## Topics Covered:\n",
    "- Syntax and Semantics\n",
    "- Variables and Data Types\n",
    "- Basic Operators (Arithmetic, Comparison, Logical)\n"
   ]
  },
  {
   "cell_type": "markdown",
   "metadata": {},
   "source": [
    "## 1. Syntax and Semantics\n",
    "\n",
    "**Question 1:** Write a Python program to print \"Hello, World!\"."
   ]
  },
  {
   "cell_type": "code",
   "execution_count": null,
   "metadata": {},
   "outputs": [
    {
     "name": "stdout",
     "output_type": "stream",
     "text": [
      "Hello World\n"
     ]
    }
   ],
   "source": [
    "# Done\n",
    "print(\"Hello World\")"
   ]
  },
  {
   "cell_type": "markdown",
   "metadata": {},
   "source": [
    "**Question 2:** Write a Python program that takes a user input and prints it."
   ]
  },
  {
   "cell_type": "code",
   "execution_count": null,
   "metadata": {},
   "outputs": [
    {
     "name": "stdout",
     "output_type": "stream",
     "text": [
      "Alok Kumar\n"
     ]
    }
   ],
   "source": [
    "# Done\n",
    "user_input = input(\"Enter your name : \")\n",
    "print(user_input)"
   ]
  },
  {
   "cell_type": "markdown",
   "metadata": {},
   "source": [
    "**Question 3:** Write a Python program to check if a number is positive, negative, or zero."
   ]
  },
  {
   "cell_type": "code",
   "execution_count": null,
   "metadata": {},
   "outputs": [
    {
     "name": "stdout",
     "output_type": "stream",
     "text": [
      "Your provided number is zero ....\n"
     ]
    }
   ],
   "source": [
    "# Done\n",
    "User_num = int(input(\"Enter your number ; \"))\n",
    "\n",
    "if User_num > 0:\n",
    "    print(\"Your provided number is positive ....\")\n",
    "elif User_num < 0 :\n",
    "    print(\"Your provided number is negative ....\")\n",
    "else:\n",
    "    print(\"Your provided number is zero ....\")"
   ]
  },
  {
   "cell_type": "markdown",
   "metadata": {},
   "source": [
    "**Question 4:** Write a Python program to find the largest of three numbers."
   ]
  },
  {
   "cell_type": "code",
   "execution_count": null,
   "metadata": {},
   "outputs": [
    {
     "name": "stdout",
     "output_type": "stream",
     "text": [
      "854 256 321\n",
      "854 is largest number\n"
     ]
    }
   ],
   "source": [
    "# Done\n",
    "num1= int(input(\"Enter first number :\"))\n",
    "num2 = int(input(\"Enter second number :\"))\n",
    "num3= int(input(\"Enter third number :\"))\n",
    "print(num1 , num2 , num3)\n",
    "\n",
    "if num1 > num2 and num1 > num3:\n",
    "    print(f\"{num1} is largest number\")\n",
    "elif num2 > num1 and num2 > num3:\n",
    "    print(f\"{num2} is largest number\")\n",
    "else:\n",
    "    print(f\"{num3} is largest number\")"
   ]
  },
  {
   "cell_type": "markdown",
   "metadata": {},
   "source": [
    "**Question 5:** Write a Python program to calculate the factorial of a number."
   ]
  },
  {
   "cell_type": "code",
   "execution_count": 30,
   "metadata": {},
   "outputs": [
    {
     "name": "stdout",
     "output_type": "stream",
     "text": [
      "Factorial of 5 is 120\n"
     ]
    }
   ],
   "source": [
    "# Done\n",
    "num = int(input(\"Enter positive number :\"))\n",
    "\n",
    "fact = 1\n",
    "\n",
    "for i in range(1,num+1):\n",
    "    fact *=i\n",
    "\n",
    "print(\"Factorial of\",num,\"is\",fact)\n"
   ]
  },
  {
   "cell_type": "markdown",
   "metadata": {},
   "source": [
    "## 2. Variables and Data Types\n",
    "\n",
    "**Question 6:** Create variables of different data types: integer, float, string, and boolean. Print their values and types."
   ]
  },
  {
   "cell_type": "code",
   "execution_count": null,
   "metadata": {},
   "outputs": [
    {
     "name": "stdout",
     "output_type": "stream",
     "text": [
      "78 <class 'int'>\n",
      "54.6 <class 'float'>\n",
      "HELLO <class 'str'>\n",
      "<class 'bool'>\n"
     ]
    }
   ],
   "source": [
    "# Done\n",
    "A = 78 # INTEGER\n",
    "B = 54.6 # FLOAT\n",
    "C = \"HELLO\" # STRING\n",
    "A == B # BOOLIAN\n",
    "\n",
    "print(A ,type(A))\n",
    "print(B ,type(B))\n",
    "print(C ,type(C))\n",
    "print(type(A == B))"
   ]
  },
  {
   "cell_type": "markdown",
   "metadata": {},
   "source": [
    "**Question 7:** Write a Python program to swap the values of two variables."
   ]
  },
  {
   "cell_type": "code",
   "execution_count": null,
   "metadata": {},
   "outputs": [
    {
     "name": "stdout",
     "output_type": "stream",
     "text": [
      "Value of A = 32\n",
      "Value of B = 65\n",
      "Value of A = 65\n",
      "Value of B = 32\n"
     ]
    }
   ],
   "source": [
    "# Done\n",
    "A = 32\n",
    "B = 65\n",
    "\n",
    "print(\"Value of A =\",A)\n",
    "print(\"Value of B =\",B)\n",
    "\n",
    "A,B = B,A # Swaping values\n",
    "\n",
    "\n",
    "print(\"Value of A =\",A)\n",
    "print(\"Value of B =\",B)"
   ]
  },
  {
   "cell_type": "markdown",
   "metadata": {},
   "source": [
    "**Question 8:** Write a Python program to convert Celsius to Fahrenheit."
   ]
  },
  {
   "cell_type": "code",
   "execution_count": 31,
   "metadata": {},
   "outputs": [
    {
     "name": "stdout",
     "output_type": "stream",
     "text": [
      "35.4 °C = 95.72 °F\n"
     ]
    }
   ],
   "source": [
    "# Done\n",
    "celsius = float(input(\"Enter temperature in celsius :\"))\n",
    "\n",
    "fahrenheit = (celsius*9/5) + 32\n",
    "\n",
    "print(celsius, \"°C =\", fahrenheit, \"°F\")"
   ]
  },
  {
   "cell_type": "markdown",
   "metadata": {},
   "source": [
    "**Question 9:** Write a Python program to concatenate two strings."
   ]
  },
  {
   "cell_type": "code",
   "execution_count": null,
   "metadata": {},
   "outputs": [
    {
     "name": "stdout",
     "output_type": "stream",
     "text": [
      "Hello World\n"
     ]
    }
   ],
   "source": [
    "# Done\n",
    "A = \"Hello\"\n",
    "B = \"World\"\n",
    "\n",
    "print(A+\" \"+B)"
   ]
  },
  {
   "cell_type": "markdown",
   "metadata": {},
   "source": [
    "**Question 10:** Write a Python program to check if a variable is of a specific data type."
   ]
  },
  {
   "cell_type": "code",
   "execution_count": null,
   "metadata": {},
   "outputs": [
    {
     "name": "stdout",
     "output_type": "stream",
     "text": [
      "This number is not integer\n"
     ]
    }
   ],
   "source": [
    "# Done\n",
    "# Let's check for int data type\n",
    "\n",
    "num = \"hello\"\n",
    "\n",
    "if type(num) == int:\n",
    "    print(\"Yes this is an integer\")\n",
    "else:\n",
    "    print(\"This number is not integer\")"
   ]
  },
  {
   "cell_type": "markdown",
   "metadata": {},
   "source": [
    "## 3. Basic Operators (Arithmetic, Comparison, Logical)\n",
    "\n",
    "**Question 11:** Write a Python program to perform arithmetic operations: addition, subtraction, multiplication, and division."
   ]
  },
  {
   "cell_type": "code",
   "execution_count": null,
   "metadata": {},
   "outputs": [
    {
     "name": "stdout",
     "output_type": "stream",
     "text": [
      "Addition -  27\n",
      "Substraction -  3\n",
      "Multiplication -  180\n",
      "Division -  1.25\n"
     ]
    }
   ],
   "source": [
    "# Done\n",
    "A = 15\n",
    "B = 12\n",
    "\n",
    "print(\"Addition - \",A+B)\n",
    "print(\"Substraction - \",A-B)\n",
    "print(\"Multiplication - \",A*B)\n",
    "print(\"Division - \",A/B)"
   ]
  },
  {
   "cell_type": "markdown",
   "metadata": {},
   "source": [
    "**Question 12:** Write a Python program to demonstrate comparison operators: equal to, not equal to, greater than, less than."
   ]
  },
  {
   "cell_type": "code",
   "execution_count": null,
   "metadata": {},
   "outputs": [
    {
     "name": "stdout",
     "output_type": "stream",
     "text": [
      "A is equal to B ? -> False\n",
      "A is not equal to B? -> True\n",
      "A is greater than B? -> True\n",
      "A is less than B? -> False\n"
     ]
    }
   ],
   "source": [
    "# Done\n",
    "print(\"A is equal to B ? ->\",A==B)\n",
    "print(\"A is not equal to B? ->\",A!=B)\n",
    "print(\"A is greater than B? ->\",A>B)\n",
    "print(\"A is less than B? ->\",A<B)"
   ]
  },
  {
   "cell_type": "markdown",
   "metadata": {},
   "source": [
    "**Question 13:** Write a Python program to demonstrate logical operators: and, or, not."
   ]
  },
  {
   "cell_type": "code",
   "execution_count": null,
   "metadata": {},
   "outputs": [
    {
     "name": "stdout",
     "output_type": "stream",
     "text": [
      "And operator - True\n",
      "Or operator - False\n",
      "Not operator - True\n"
     ]
    }
   ],
   "source": [
    "# Done\n",
    "A = 62\n",
    "B = 56\n",
    "\n",
    "print(\"And operator -\",(A>50) and (B<100))\n",
    "print(\"Or operator -\",(A<25) or (B==63))\n",
    "print(\"Not operator -\",not(A>600))"
   ]
  },
  {
   "cell_type": "markdown",
   "metadata": {},
   "source": [
    "**Question 14:** Write a Python program to calculate the square of a number."
   ]
  },
  {
   "cell_type": "code",
   "execution_count": null,
   "metadata": {},
   "outputs": [
    {
     "name": "stdout",
     "output_type": "stream",
     "text": [
      "Square of 6 is - 36\n"
     ]
    }
   ],
   "source": [
    "# Done\n",
    "num = int(input(\"Enter number ->\"))\n",
    "y = 2\n",
    "\n",
    "print(\"Square of\", num,\"is -\",num**y)"
   ]
  },
  {
   "cell_type": "markdown",
   "metadata": {},
   "source": [
    "**Question 15:** Write a Python program to check if a number is even or odd."
   ]
  },
  {
   "cell_type": "code",
   "execution_count": null,
   "metadata": {},
   "outputs": [
    {
     "name": "stdout",
     "output_type": "stream",
     "text": [
      "Odd num\n"
     ]
    }
   ],
   "source": [
    "# Done\n",
    "num = int(input(\"Enter number ->\"))\n",
    "\n",
    "if num%2 == 0:\n",
    "    print(\"Even number\")\n",
    "else:\n",
    "    print(\"Odd number\")"
   ]
  },
  {
   "cell_type": "markdown",
   "metadata": {},
   "source": [
    "**Question 16:** Write a Python program to find the sum of the first n natural numbers."
   ]
  },
  {
   "cell_type": "code",
   "execution_count": null,
   "metadata": {},
   "outputs": [
    {
     "name": "stdout",
     "output_type": "stream",
     "text": [
      "Sum of first 50 natural number is 1275\n"
     ]
    }
   ],
   "source": [
    "# Done\n",
    "num = int(input(\"Enter your number\"))\n",
    "\n",
    "sum = 0\n",
    "\n",
    "for i in range(1,num+1):\n",
    "    sum +=i\n",
    "\n",
    "print(\"Sum of first\",num,\"natural number is\",sum)"
   ]
  },
  {
   "cell_type": "markdown",
   "metadata": {},
   "source": [
    "**Question 17:** Write a Python program to check if a year is a leap year."
   ]
  },
  {
   "cell_type": "code",
   "execution_count": null,
   "metadata": {},
   "outputs": [
    {
     "name": "stdout",
     "output_type": "stream",
     "text": [
      "It's leap year ...\n"
     ]
    }
   ],
   "source": [
    "# Done\n",
    "year = int(input(\"Enter year :\"))\n",
    "\n",
    "if (year % 400 ==0) or (year % 100 !=0 and year % 4 ==0):\n",
    "    print(\"It's leap year ...\")\n",
    "else:\n",
    "    print(\"It's not leap year ..\")"
   ]
  },
  {
   "cell_type": "markdown",
   "metadata": {},
   "source": [
    "**Question 18:** Write a Python program to reverse a string."
   ]
  },
  {
   "cell_type": "code",
   "execution_count": null,
   "metadata": {},
   "outputs": [
    {
     "name": "stdout",
     "output_type": "stream",
     "text": [
      "Reversed string :  kolA\n"
     ]
    }
   ],
   "source": [
    "# Done\n",
    "x = input(\"Enter your string \")\n",
    "\n",
    "rev_str = x[::-1]\n",
    "\n",
    "print(\"Reversed string : \",rev_str)"
   ]
  },
  {
   "cell_type": "markdown",
   "metadata": {},
   "source": [
    "**Question 19:** Write a Python program to check if a string is a palindrome."
   ]
  },
  {
   "cell_type": "code",
   "execution_count": null,
   "metadata": {},
   "outputs": [
    {
     "name": "stdout",
     "output_type": "stream",
     "text": [
      "Its palindrome\n"
     ]
    }
   ],
   "source": [
    "# Done\n",
    "text = input(\"Enter your word :\")\n",
    "\n",
    "if text == text[::-1]:\n",
    "    print(\"Its palindrome\")\n",
    "else:\n",
    "    print(\"Its not palindrome\")"
   ]
  },
  {
   "cell_type": "markdown",
   "metadata": {},
   "source": [
    "**Question 20:** Write a Python program to sort a list of numbers in ascending order."
   ]
  },
  {
   "cell_type": "code",
   "execution_count": 40,
   "metadata": {},
   "outputs": [
    {
     "name": "stdout",
     "output_type": "stream",
     "text": [
      "Sorted list  [1, 8, 12, 25, 31, 34, 52, 54, 62, 62, 95, 514]\n",
      "Sorted list: [1, 8, 12, 25, 31, 34, 52, 54, 62, 62, 95, 514]\n"
     ]
    }
   ],
   "source": [
    "# Your code here\n",
    "# with inbuilt function\n",
    "\n",
    "lst =[12,54,62,1,8,514,25,95,34,62,31,52]\n",
    "\n",
    "lst.sort()\n",
    "\n",
    "print(\"Sorted list \",lst)\n",
    "\n",
    "# Sorting without function\n",
    "\n",
    "n = len(lst)\n",
    "\n",
    "# Bubble Sort Algorithm\n",
    "for i in range(n):\n",
    "    for j in range(0, n - i - 1):   # Last i elements are already sorted\n",
    "        if lst[j] > lst[j + 1]:\n",
    "            # Swap\n",
    "            lst[j], lst[j + 1] = lst[j + 1], lst[j]\n",
    "\n",
    "print(\"Sorted list:\", lst)"
   ]
  },
  {
   "cell_type": "code",
   "execution_count": null,
   "metadata": {},
   "outputs": [],
   "source": []
  }
 ],
 "metadata": {
  "kernelspec": {
   "display_name": "venv",
   "language": "python",
   "name": "python3"
  },
  "language_info": {
   "codemirror_mode": {
    "name": "ipython",
    "version": 3
   },
   "file_extension": ".py",
   "mimetype": "text/x-python",
   "name": "python",
   "nbconvert_exporter": "python",
   "pygments_lexer": "ipython3",
   "version": "3.12.11"
  }
 },
 "nbformat": 4,
 "nbformat_minor": 4
}

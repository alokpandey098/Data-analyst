{
 "cells": [
  {
   "cell_type": "markdown",
   "id": "55109a3a",
   "metadata": {},
   "source": [
    "#### Conditional Statements (if, elif, else)\n",
    "- Topics to cover\n",
    "1. Introduction to Conditional Statements\n",
    "2. if Statement\n",
    "3. else Statement\n",
    "4. elif Statement\n",
    "5. Nested Conditional Statements\n",
    "6. Practical Examples\n",
    "7. Common Errors and Best Practices"
   ]
  },
  {
   "cell_type": "code",
   "execution_count": 1,
   "id": "5c99828d",
   "metadata": {},
   "outputs": [
    {
     "name": "stdout",
     "output_type": "stream",
     "text": [
      "You are the right person ..\n"
     ]
    }
   ],
   "source": [
    "# If condition\n",
    "\n",
    "Name = 'Alok'\n",
    "\n",
    "if Name == 'Alok':\n",
    "    print('You are the right person ..')"
   ]
  },
  {
   "cell_type": "code",
   "execution_count": 3,
   "metadata": {},
   "outputs": [
    {
     "name": "stdout",
     "output_type": "stream",
     "text": [
      "You are not eligible for vote ..\n"
     ]
    }
   ],
   "source": [
    "# Else condition\n",
    "\n",
    "Age = 12\n",
    "\n",
    "if Age>= 18:\n",
    "    print('You are eligible for vote ..')\n",
    "else:\n",
    "    print('You are not eligible for vote ..')"
   ]
  },
  {
   "cell_type": "code",
   "execution_count": 8,
   "metadata": {},
   "outputs": [
    {
     "name": "stdout",
     "output_type": "stream",
     "text": [
      "You are adult now .\n"
     ]
    }
   ],
   "source": [
    "Age = 40\n",
    "\n",
    "if Age < 18 :\n",
    "    print('You are teenager .Keep playing')\n",
    "elif Age < 40:\n",
    "    print('You are mature now .You should be serious')\n",
    "else:\n",
    "    print('You are adult now .')"
   ]
  },
  {
   "cell_type": "code",
   "execution_count": 11,
   "metadata": {},
   "outputs": [
    {
     "name": "stdout",
     "output_type": "stream",
     "text": [
      "its negative number..\n"
     ]
    }
   ],
   "source": [
    "# Nested if,else condition\n",
    "\n",
    "num = int(input('Enter number ..:'))\n",
    "\n",
    "if num > 0:\n",
    "    print('This number is positive')\n",
    "    if num%2 == 0:\n",
    "        print('Its even number..')\n",
    "    else:\n",
    "        print('Its odd number ..')\n",
    "elif num < 0:\n",
    "    print('its negative number..')\n",
    "else:\n",
    "    print('Number is zero .')"
   ]
  },
  {
   "cell_type": "code",
   "execution_count": 15,
   "metadata": {},
   "outputs": [
    {
     "name": "stdout",
     "output_type": "stream",
     "text": [
      "2001 its not leap year\n"
     ]
    }
   ],
   "source": [
    "# Practical problem \n",
    "# Determine if a year is a leap year using nested condition statement\n",
    "\n",
    "year = int(input('Enter year '))\n",
    "\n",
    "if year % 4 ==0:\n",
    "    if year % 100 ==0:\n",
    "        if year % 400 ==0:\n",
    "            print(year,'its leap year')\n",
    "        else:\n",
    "            print(year,'its not leap year ')\n",
    "    else:\n",
    "        print(year,'its leap year')\n",
    "else:\n",
    "    print(year,'its not leap year')"
   ]
  },
  {
   "cell_type": "code",
   "execution_count": 23,
   "metadata": {},
   "outputs": [
    {
     "name": "stdout",
     "output_type": "stream",
     "text": [
      "Error, division by zero\n"
     ]
    }
   ],
   "source": [
    "# Assignment --> Simple calculator\n",
    "\n",
    "num1 = int(input('Enter first number :'))\n",
    "num2 = int(input('Enter second number :'))\n",
    "ops = input('Enter your choice (+,-,*,/,//,**):')\n",
    "\n",
    "if ops == '+':\n",
    "    print('Addition of',num1,'and',num2,'is',num1+num2)\n",
    "elif ops == '-':\n",
    "    print('Substraction of',num1,'and',num2,'is',num1-num2)\n",
    "elif ops == '*':\n",
    "    print('Multiply of',num1,'and',num2,'is',num1*num2)\n",
    "elif ops == '/':\n",
    "    if num2 !=0:\n",
    "        print('Division of',num1,'and',num2,'is',num1/num2)\n",
    "    else:\n",
    "        print('Error, division by zero')\n",
    "elif ops == '//':\n",
    "    if num2 != 0:\n",
    "        print('Floor division of',num1,'and',num2,'is',num1//num2)\n",
    "    else:\n",
    "        print('Error, division by zero')\n",
    "else:\n",
    "    print('Invalid operation')"
   ]
  },
  {
   "cell_type": "code",
   "execution_count": 26,
   "metadata": {},
   "outputs": [
    {
     "name": "stdout",
     "output_type": "stream",
     "text": [
      "Your ticket fare is -> $25\n"
     ]
    }
   ],
   "source": [
    "# Determine the ticket price based on age and whether the person is a student.\n",
    "# Ticket pricing based on age and student status\n",
    "\n",
    "age = int(input('Enter your Age '))\n",
    "is_student = input('Select one (Yes,No) :').lower()\n",
    "\n",
    "if age<10:\n",
    "    fare = 'Free'\n",
    "elif age<=15 :\n",
    "    if is_student == 'yes':\n",
    "        fare = '$8'\n",
    "    else:\n",
    "        fare = '$10'\n",
    "elif age <=22 :\n",
    "    if is_student =='yes':\n",
    "        fare = '$12'\n",
    "    else:\n",
    "        fare = '$15'\n",
    "elif age <=45 :\n",
    "    if is_student == 'yes':\n",
    "        fare = '$25'\n",
    "    else:\n",
    "        fare = '$30'\n",
    "else:\n",
    "    fare = '$40'\n",
    "\n",
    "print('Your ticket fare is ->',fare)"
   ]
  },
  {
   "cell_type": "markdown",
   "id": "e9a567f5",
   "metadata": {},
   "source": [
    "- Complex problem 1 -> Calculate an employee's bonus based on their performance rating and years of service."
   ]
  },
  {
   "cell_type": "code",
   "execution_count": 27,
   "metadata": {},
   "outputs": [
    {
     "name": "stdout",
     "output_type": "stream",
     "text": [
      "Bonus Amount: $2000.00\n"
     ]
    }
   ],
   "source": [
    "# Employee bonus calculation\n",
    "\n",
    "# Take user input\n",
    "years_of_service = int(input(\"Enter years of service: \"))\n",
    "performance_rating = float(input(\"Enter performance rating (1.0 to 5.0): \"))\n",
    "\n",
    "# Determine bonus percentage\n",
    "if performance_rating >= 4.5:\n",
    "    if years_of_service > 10:\n",
    "        bonus_percentage = 20\n",
    "    elif years_of_service > 5:\n",
    "        bonus_percentage = 15\n",
    "    else:\n",
    "        bonus_percentage = 10\n",
    "elif performance_rating >= 3.5:\n",
    "    if years_of_service > 10:\n",
    "        bonus_percentage = 15\n",
    "    elif years_of_service > 5:\n",
    "        bonus_percentage = 10\n",
    "    else:\n",
    "        bonus_percentage = 5\n",
    "else:\n",
    "    bonus_percentage = 0\n",
    "\n",
    "# Calculate bonus amount\n",
    "salary = float(input(\"Enter current salary: \"))\n",
    "bonus_amount = salary * bonus_percentage / 100\n",
    "\n",
    "print(\"Bonus Amount: ${:.2f}\".format(bonus_amount))\n"
   ]
  },
  {
   "cell_type": "markdown",
   "id": "c8dc1ca3",
   "metadata": {},
   "source": [
    "- Complex problem 2 -> A simple user login system that checks the username and password."
   ]
  },
  {
   "cell_type": "code",
   "execution_count": 28,
   "metadata": {},
   "outputs": [
    {
     "name": "stdout",
     "output_type": "stream",
     "text": [
      "Login successful!\n"
     ]
    }
   ],
   "source": [
    "# User login system\n",
    "\n",
    "# Predefined username and password\n",
    "stored_username = \"admin\"\n",
    "stored_password = \"password123\"\n",
    "\n",
    "# Take user input\n",
    "username = input(\"Enter username: \")\n",
    "password = input(\"Enter password: \")\n",
    "\n",
    "# Check login credentials\n",
    "if username == stored_username:\n",
    "    if password == stored_password:\n",
    "        print(\"Login successful!\")\n",
    "    else:\n",
    "        print(\"Incorrect password.\")\n",
    "else:\n",
    "    print(\"Username not found.\")\n"
   ]
  },
  {
   "cell_type": "code",
   "execution_count": null,
   "id": "6ba3ab17",
   "metadata": {},
   "outputs": [],
   "source": []
  },
  {
   "cell_type": "code",
   "execution_count": null,
   "id": "0bea22f1",
   "metadata": {},
   "outputs": [],
   "source": []
  }
 ],
 "metadata": {
  "kernelspec": {
   "display_name": "venv",
   "language": "python",
   "name": "python3"
  },
  "language_info": {
   "codemirror_mode": {
    "name": "ipython",
    "version": 3
   },
   "file_extension": ".py",
   "mimetype": "text/x-python",
   "name": "python",
   "nbconvert_exporter": "python",
   "pygments_lexer": "ipython3",
   "version": "3.12.11"
  }
 },
 "nbformat": 4,
 "nbformat_minor": 5
}

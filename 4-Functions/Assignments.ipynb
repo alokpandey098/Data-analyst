{
 "cells": [
  {
   "cell_type": "markdown",
   "metadata": {},
   "source": [
    "# Module 4: Functions Assignments\n",
    "## Lesson 4.1: Defining Functions\n",
    "### Assignment 1: Simple Function\n",
    "\n",
    "Define a function that takes a single integer as input and returns its square. Test the function with different inputs."
   ]
  },
  {
   "cell_type": "code",
   "execution_count": 1,
   "metadata": {},
   "outputs": [],
   "source": [
    "def sqr(x):\n",
    "    return x**2"
   ]
  },
  {
   "cell_type": "code",
   "execution_count": 2,
   "id": "e1bf74ac",
   "metadata": {},
   "outputs": [
    {
     "name": "stdout",
     "output_type": "stream",
     "text": [
      "Square of 4 : 16\n",
      "Square of 11 : 121\n",
      "Square of 5 : 25\n"
     ]
    }
   ],
   "source": [
    "print('Square of 4 :',sqr(4))\n",
    "print('Square of 11 :',sqr(11))\n",
    "print('Square of 5 :',sqr(5))"
   ]
  },
  {
   "cell_type": "markdown",
   "metadata": {},
   "source": [
    "### Assignment 2: Multiple Arguments\n",
    "\n",
    "Define a function that takes two integers as input and returns their sum. Test the function with different inputs."
   ]
  },
  {
   "cell_type": "code",
   "execution_count": 3,
   "metadata": {},
   "outputs": [],
   "source": [
    "def add(a,b):\n",
    "    return a+b"
   ]
  },
  {
   "cell_type": "code",
   "execution_count": 4,
   "id": "6aba553e",
   "metadata": {},
   "outputs": [
    {
     "name": "stdout",
     "output_type": "stream",
     "text": [
      "Addition of 5,7 : 12\n",
      "Addition of 11,22 : 23\n"
     ]
    }
   ],
   "source": [
    "print('Addition of 5,7 :',add(5,7))\n",
    "print('Addition of 11,22 :',add(11,12))"
   ]
  },
  {
   "cell_type": "markdown",
   "metadata": {},
   "source": [
    "### Assignment 3: Default Arguments\n",
    "\n",
    "Define a function that takes two integers as input and returns their sum. The second integer should have a default value of 5. Test the function with different inputs."
   ]
  },
  {
   "cell_type": "code",
   "execution_count": 5,
   "metadata": {},
   "outputs": [],
   "source": [
    "def sum_with_default(x,y=5):\n",
    "    return x+y"
   ]
  },
  {
   "cell_type": "code",
   "execution_count": 6,
   "id": "d4688124",
   "metadata": {},
   "outputs": [
    {
     "name": "stdout",
     "output_type": "stream",
     "text": [
      "Sum of 9 and 8 : 17\n",
      "Sum of 7 and default value : 12\n"
     ]
    }
   ],
   "source": [
    "print('Sum of 9 and 8 :',sum_with_default(9,8))\n",
    "print('Sum of 7 and default value :',sum_with_default(7))"
   ]
  },
  {
   "cell_type": "markdown",
   "metadata": {},
   "source": [
    "### Assignment 4: Keyword Arguments\n",
    "\n",
    "Define a function that takes three named arguments: first_name, last_name, and age, and returns a formatted string. Test the function with different inputs."
   ]
  },
  {
   "cell_type": "code",
   "execution_count": 7,
   "metadata": {},
   "outputs": [],
   "source": [
    "def detail(f_name,l_name,age):\n",
    "    print('Hello ,',f_name,l_name,',Your age is',age)"
   ]
  },
  {
   "cell_type": "code",
   "execution_count": 8,
   "id": "11530360",
   "metadata": {},
   "outputs": [
    {
     "name": "stdout",
     "output_type": "stream",
     "text": [
      "Hello , Alok Kumar ,Your age is 22\n"
     ]
    }
   ],
   "source": [
    "detail('Alok','Kumar',22)"
   ]
  },
  {
   "cell_type": "markdown",
   "metadata": {},
   "source": [
    "### Assignment 5: Variable-length Arguments\n",
    "\n",
    "Define a function that takes a variable number of integer arguments and returns their product. Test the function with different inputs."
   ]
  },
  {
   "cell_type": "code",
   "execution_count": 9,
   "metadata": {},
   "outputs": [],
   "source": [
    "def multiply_num(*args):\n",
    "    product = 1\n",
    "    for num in args:\n",
    "        product *= num\n",
    "    return product"
   ]
  },
  {
   "cell_type": "code",
   "execution_count": 10,
   "id": "619bc982",
   "metadata": {},
   "outputs": [
    {
     "name": "stdout",
     "output_type": "stream",
     "text": [
      "multiply of 5 and 3 : 15\n",
      "multiply of 8 and 9 : 72\n",
      "multiply of 12 and 5 : 60\n"
     ]
    }
   ],
   "source": [
    "print('multiply of 5 and 3 :',multiply_num(5,3))\n",
    "print('multiply of 8 and 9 :',multiply_num(8,9))\n",
    "print('multiply of 12 and 5 :',multiply_num(12,5))"
   ]
  },
  {
   "cell_type": "markdown",
   "metadata": {},
   "source": [
    "### Assignment 6: Nested Functions\n",
    "\n",
    "Define a function that contains another function inside it. The outer function should take two integers as input and return the result of the inner function, which multiplies the two integers. Test the function with different inputs."
   ]
  },
  {
   "cell_type": "code",
   "execution_count": 11,
   "metadata": {},
   "outputs": [],
   "source": [
    "def outer_func(x,y):\n",
    "\n",
    "    def inner_func(a,b):\n",
    "        return a*b\n",
    "    return inner_func(x,y)"
   ]
  },
  {
   "cell_type": "code",
   "execution_count": 12,
   "id": "518a6ccd",
   "metadata": {},
   "outputs": [
    {
     "name": "stdout",
     "output_type": "stream",
     "text": [
      "multiply of 5 and 3 : 15\n",
      "multiply of 8 and 9 : 72\n",
      "multiply of 12 and 5 : 60\n"
     ]
    }
   ],
   "source": [
    "print('multiply of 5 and 3 :',outer_func(5,3))\n",
    "print('multiply of 8 and 9 :',outer_func(8,9))\n",
    "print('multiply of 12 and 5 :',outer_func(12,5))"
   ]
  },
  {
   "cell_type": "markdown",
   "metadata": {},
   "source": [
    "### Assignment 7: Returning Multiple Values\n",
    "\n",
    "Define a function that takes a single integer as input and returns the integer squared, cubed, and raised to the power of four. Test the function with different inputs."
   ]
  },
  {
   "cell_type": "code",
   "execution_count": 13,
   "metadata": {},
   "outputs": [],
   "source": [
    "def power_sys(x):\n",
    "    squar = x**2\n",
    "    cube = x**3\n",
    "    fourth_power = x**4\n",
    "\n",
    "    return squar ,cube ,fourth_power"
   ]
  },
  {
   "cell_type": "code",
   "execution_count": 14,
   "id": "8d879a89",
   "metadata": {},
   "outputs": [
    {
     "name": "stdout",
     "output_type": "stream",
     "text": [
      "(25, 125, 625)\n",
      "(36, 216, 1296)\n"
     ]
    }
   ],
   "source": [
    "print(power_sys(5))\n",
    "print(power_sys(6))"
   ]
  },
  {
   "cell_type": "markdown",
   "metadata": {},
   "source": [
    "### Assignment 8: Recursive Function\n",
    "\n",
    "Define a recursive function that calculates the factorial of a given number. Test the function with different inputs."
   ]
  },
  {
   "cell_type": "code",
   "execution_count": 15,
   "metadata": {},
   "outputs": [],
   "source": [
    "# Define the recursive function\n",
    "def factorial(n):\n",
    "    if n == 0 or n == 1:   # Base case\n",
    "        return 1\n",
    "    else:                  # Recursive case\n",
    "        return n * factorial(n - 1)"
   ]
  },
  {
   "cell_type": "code",
   "execution_count": 16,
   "id": "8b6651ad",
   "metadata": {},
   "outputs": [
    {
     "name": "stdout",
     "output_type": "stream",
     "text": [
      "1\n",
      "1\n",
      "120\n",
      "5040\n"
     ]
    }
   ],
   "source": [
    "\n",
    "# Test the function with different inputs\n",
    "print(factorial(0))\n",
    "print(factorial(1))\n",
    "print(factorial(5))\n",
    "print(factorial(7))"
   ]
  },
  {
   "cell_type": "markdown",
   "metadata": {},
   "source": [
    "### Assignment 9: Lambda Function\n",
    "\n",
    "Define a lambda function that takes two integers as input and returns their sum. Test the lambda function with different inputs."
   ]
  },
  {
   "cell_type": "code",
   "execution_count": 17,
   "metadata": {},
   "outputs": [
    {
     "name": "stdout",
     "output_type": "stream",
     "text": [
      "5\n",
      "17\n"
     ]
    }
   ],
   "source": [
    "summ = lambda x,y: x+y\n",
    "print(summ(2,3))\n",
    "print(summ(9,8))"
   ]
  },
  {
   "cell_type": "markdown",
   "metadata": {},
   "source": [
    "### Assignment 10: Map Function\n",
    "\n",
    "Use the map function to apply a lambda function that squares each number in a list of integers. Test with different lists."
   ]
  },
  {
   "cell_type": "code",
   "execution_count": 18,
   "metadata": {},
   "outputs": [
    {
     "name": "stdout",
     "output_type": "stream",
     "text": [
      "[1, 4, 9, 16, 25] [64, 49, 36, 81, 625]\n"
     ]
    }
   ],
   "source": [
    "lst1 = [1, 2, 3, 4, 5]\n",
    "lst2 = [8, 7, 6, 9, 25]\n",
    "srq_num1 = list(map(lambda x:x**2 ,lst1))\n",
    "srq_num2 = list(map(lambda x:x**2 ,lst2))\n",
    "print(srq_num1,srq_num2)"
   ]
  },
  {
   "cell_type": "markdown",
   "metadata": {},
   "source": [
    "### Assignment 11: Filter Function\n",
    "\n",
    "Use the filter function to filter out all odd numbers from a list of integers. Test with different lists."
   ]
  },
  {
   "cell_type": "code",
   "execution_count": 19,
   "metadata": {},
   "outputs": [
    {
     "name": "stdout",
     "output_type": "stream",
     "text": [
      "Filtered odd number : [7, 9, 25]\n"
     ]
    }
   ],
   "source": [
    "lst = [8, 7, 6, 9, 25]\n",
    "filter_odd = list(filter(lambda x:x%2!= 0,lst))\n",
    "print('Filtered odd number :',filter_odd)"
   ]
  },
  {
   "cell_type": "markdown",
   "metadata": {},
   "source": [
    "### Assignment 12: Function Decorator\n",
    "\n",
    "Define a decorator function that prints 'Executing function...' before executing a function and 'Function executed.' after executing it. Apply this decorator to a function that takes a list of integers and returns their sum. Test the decorated function with different lists."
   ]
  },
  {
   "cell_type": "code",
   "execution_count": 20,
   "metadata": {},
   "outputs": [
    {
     "name": "stdout",
     "output_type": "stream",
     "text": [
      "Executing function...\n",
      "Function executed.\n",
      "15\n",
      "Executing function...\n",
      "Function executed.\n",
      "60\n",
      "Executing function...\n",
      "Function executed.\n",
      "0\n"
     ]
    }
   ],
   "source": [
    "# Define the decorator function\n",
    "def execution_decorator(func):\n",
    "    def wrapper(*args, **kwargs):\n",
    "        print(\"Executing function...\")\n",
    "        result = func(*args, **kwargs)\n",
    "        print(\"Function executed.\")\n",
    "        return result\n",
    "    return wrapper\n",
    "\n",
    "# Apply the decorator to a function that sums a list of integers\n",
    "@execution_decorator\n",
    "def sum_list(numbers):\n",
    "    return sum(numbers)\n",
    "\n",
    "# Test the decorated function with different lists\n",
    "print(sum_list([1, 2, 3, 4, 5]))\n",
    "print(sum_list([10, 20, 30]))\n",
    "print(sum_list([-5, 15, -10, 0]))\n"
   ]
  },
  {
   "cell_type": "markdown",
   "id": "264b9583",
   "metadata": {},
   "source": [
    "- Explanation:\n",
    "\n",
    "* execution_decorator is a decorator that wraps around another function.\n",
    "\n",
    "* It prints a message before and after the execution of the wrapped function.\n",
    "\n",
    "* The wrapper function handles the actual execution and preserves the original function’s arguments.\n",
    "\n",
    "* Using @execution_decorator automatically applies the decorator to sum_list()."
   ]
  },
  {
   "cell_type": "markdown",
   "metadata": {},
   "source": [
    "### Assignment 13: Function with *args and **kwargs\n",
    "\n",
    "Define a function that takes variable-length arguments and keyword arguments and prints them. Test the function with different inputs."
   ]
  },
  {
   "cell_type": "code",
   "execution_count": 1,
   "metadata": {},
   "outputs": [
    {
     "name": "stdout",
     "output_type": "stream",
     "text": [
      "Positional arguments (args): (10, 20, 30)\n",
      "Keyword arguments (kwargs): {}\n",
      "-----------------------------------------\n",
      "Positional arguments (args): ()\n",
      "Keyword arguments (kwargs): {'name': 'Alok', 'age': 25, 'country': 'India'}\n",
      "-----------------------------------------\n",
      "Positional arguments (args): (1, 2, 3)\n",
      "Keyword arguments (kwargs): {'x': 100, 'y': 200}\n",
      "-----------------------------------------\n"
     ]
    }
   ],
   "source": [
    "# Define a function that takes variable-length arguments and keyword arguments\n",
    "def display_info(*args, **kwargs):\n",
    "    print(\"Positional arguments (args):\", args)\n",
    "    print(\"Keyword arguments (kwargs):\", kwargs)\n",
    "    print(\"-\" * 41)\n",
    "\n",
    "# Test the function with different inputs\n",
    "display_info(10, 20, 30)\n",
    "display_info(name=\"Alok\", age=25, country=\"India\")\n",
    "display_info(1, 2, 3, x=100, y=200)\n"
   ]
  },
  {
   "cell_type": "markdown",
   "metadata": {},
   "source": [
    "### Assignment 14: Higher-Order Function\n",
    "\n",
    "Define a higher-order function that takes a function and a list of integers as arguments, and applies the function to each integer in the list. Test with different functions and lists."
   ]
  },
  {
   "cell_type": "code",
   "execution_count": 22,
   "metadata": {},
   "outputs": [
    {
     "name": "stdout",
     "output_type": "stream",
     "text": [
      "Squares: [1, 4, 9, 16, 25]\n",
      "Cubes: [1, 8, 27, 64, 125]\n",
      "Doubles: [20, 40, 60]\n"
     ]
    }
   ],
   "source": [
    "# Define a higher-order function\n",
    "def apply_function(func, numbers):\n",
    "    result = []\n",
    "    for num in numbers:\n",
    "        result.append(func(num))\n",
    "    return result\n",
    "\n",
    "# Example functions to pass\n",
    "def square(x):\n",
    "    return x ** 2\n",
    "\n",
    "def cube(x):\n",
    "    return x ** 3\n",
    "\n",
    "def double(x):\n",
    "    return x * 2\n",
    "\n",
    "# Test the higher-order function with different functions and lists\n",
    "print(\"Squares:\", apply_function(square, [1, 2, 3, 4, 5]))\n",
    "print(\"Cubes:\", apply_function(cube, [1, 2, 3, 4, 5]))\n",
    "print(\"Doubles:\", apply_function(double, [10, 20, 30]))\n"
   ]
  },
  {
   "cell_type": "markdown",
   "id": "fc832157",
   "metadata": {},
   "source": [
    "- Explanation:\n",
    "\n",
    "* A higher-order function is a function that takes another function as an argument or returns a function.\n",
    "\n",
    "* Here, apply_function() takes:\n",
    "\n",
    "    * func → a function to apply\n",
    "\n",
    "    * numbers → a list of integers\n",
    "\n",
    "* It applies func(num) to each number and returns the results as a new list."
   ]
  }
 ],
 "metadata": {
  "kernelspec": {
   "display_name": "DAB",
   "language": "python",
   "name": "python3"
  },
  "language_info": {
   "codemirror_mode": {
    "name": "ipython",
    "version": 3
   },
   "file_extension": ".py",
   "mimetype": "text/x-python",
   "name": "python",
   "nbconvert_exporter": "python",
   "pygments_lexer": "ipython3",
   "version": "3.11.13"
  }
 },
 "nbformat": 4,
 "nbformat_minor": 5
}

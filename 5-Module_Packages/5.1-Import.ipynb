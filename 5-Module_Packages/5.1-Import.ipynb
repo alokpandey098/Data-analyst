{
 "cells": [
  {
   "cell_type": "markdown",
   "id": "9e305833",
   "metadata": {},
   "source": [
    "#### Importing Modules in Python: Modules and Packages\n",
    "In Python, modules and packages help organize and reuse code. Here's a comprehensive guide on how to import them."
   ]
  },
  {
   "cell_type": "code",
   "execution_count": null,
   "id": "90a57380",
   "metadata": {},
   "outputs": [],
   "source": [
    "import math\n",
    "math.sqrt(16)"
   ]
  },
  {
   "cell_type": "code",
   "execution_count": null,
   "id": "02e3ba93",
   "metadata": {},
   "outputs": [],
   "source": [
    "from math import sqrt,pi\n",
    "\n",
    "print('Square root of 36 :',sqrt(36))\n",
    "print('pi value :',pi)"
   ]
  },
  {
   "cell_type": "code",
   "execution_count": null,
   "id": "6b2e309d",
   "metadata": {},
   "outputs": [],
   "source": [
    "import numpy as np\n",
    "\n",
    "arr = np.array([1,2,3,4])\n",
    "print(arr)"
   ]
  },
  {
   "cell_type": "code",
   "execution_count": null,
   "id": "2442dc6b",
   "metadata": {},
   "outputs": [],
   "source": [
    "from math import *\n",
    "print('Square root of 16 :',sqrt(16))\n",
    "print('PI value :',pi)"
   ]
  },
  {
   "cell_type": "code",
   "execution_count": null,
   "id": "6ebc126b",
   "metadata": {},
   "outputs": [],
   "source": [
    "from package.maths import addition\n",
    "addition(2,9)"
   ]
  },
  {
   "cell_type": "markdown",
   "id": "152eae99",
   "metadata": {},
   "source": [
    "Summary ::- Importing modules and packages in Python allows you to organize your code, reuse functionalities, and keep your projects clean and manageable. By understanding how to import modules, specific functions, and use relative imports within packages, you can structure your Python applications more effectively."
   ]
  },
  {
   "cell_type": "code",
   "execution_count": null,
   "id": "b8119fa5",
   "metadata": {},
   "outputs": [],
   "source": []
  }
 ],
 "metadata": {
  "kernelspec": {
   "display_name": "DAB",
   "language": "python",
   "name": "python3"
  },
  "language_info": {
   "codemirror_mode": {
    "name": "ipython",
    "version": 3
   },
   "file_extension": ".py",
   "mimetype": "text/x-python",
   "name": "python",
   "nbconvert_exporter": "python",
   "pygments_lexer": "ipython3",
   "version": "3.11.13"
  }
 },
 "nbformat": 4,
 "nbformat_minor": 5
}

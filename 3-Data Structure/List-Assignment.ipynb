{
 "cells": [
  {
   "cell_type": "markdown",
   "id": "9511302e",
   "metadata": {},
   "source": [
    "* Creating and Accessing Lists\n",
    "\n",
    "Create a list of the first 20 positive integers. Print the list."
   ]
  },
  {
   "cell_type": "code",
   "execution_count": 1,
   "id": "32804312",
   "metadata": {},
   "outputs": [],
   "source": [
    "# Codde here"
   ]
  },
  {
   "cell_type": "markdown",
   "id": "d6c8d330",
   "metadata": {},
   "source": [
    "* Accessing List Elements\n",
    "\n",
    "Print the first, middle, and last elements of the list created in Assignment 1."
   ]
  },
  {
   "cell_type": "code",
   "execution_count": 2,
   "id": "6ca4faa1",
   "metadata": {},
   "outputs": [],
   "source": [
    "# Codde here"
   ]
  },
  {
   "cell_type": "markdown",
   "id": "c8557889",
   "metadata": {},
   "source": [
    " * List Slicing\n",
    "\n",
    "Print the first five elements, the last five elements, and the elements from index 5 to 15 of the list created in Assignment 1."
   ]
  },
  {
   "cell_type": "code",
   "execution_count": 3,
   "id": "64d29e38",
   "metadata": {},
   "outputs": [],
   "source": [
    "# Codde here"
   ]
  },
  {
   "cell_type": "markdown",
   "id": "4436b3bd",
   "metadata": {},
   "source": [
    "* List Comprehensions\n",
    "\n",
    "Create a new list containing the squares of the first 10 positive integers using a list comprehension. Print the new list."
   ]
  },
  {
   "cell_type": "code",
   "execution_count": 4,
   "id": "0c63d7f2",
   "metadata": {},
   "outputs": [],
   "source": [
    "# Codde here"
   ]
  },
  {
   "cell_type": "markdown",
   "id": "7cfc51e1",
   "metadata": {},
   "source": [
    "* Filtering Lists\n",
    "\n",
    "Create a new list containing only the even numbers from the list created in Assignment 1 using a list comprehension. Print the new list."
   ]
  },
  {
   "cell_type": "code",
   "execution_count": 5,
   "id": "43d76a92",
   "metadata": {},
   "outputs": [],
   "source": [
    "# Codde here"
   ]
  },
  {
   "cell_type": "markdown",
   "id": "772b3ef6",
   "metadata": {},
   "source": [
    "* List Methods\n",
    "\n",
    "Create a list of random numbers and sort it in ascending and descending order. Remove the duplicates from the list and print the modified list."
   ]
  },
  {
   "cell_type": "code",
   "execution_count": 6,
   "id": "ff6fcd3f",
   "metadata": {},
   "outputs": [],
   "source": [
    "# Codde here"
   ]
  },
  {
   "cell_type": "markdown",
   "id": "4a196484",
   "metadata": {},
   "source": [
    "* Nested Lists\n",
    "\n",
    "Create a nested list representing a 3x3 matrix and print the matrix. Access and print the element at the second row and third column."
   ]
  },
  {
   "cell_type": "code",
   "execution_count": 7,
   "id": "12a87ffa",
   "metadata": {},
   "outputs": [],
   "source": [
    "# Codde here"
   ]
  },
  {
   "cell_type": "markdown",
   "id": "f31049e6",
   "metadata": {},
   "source": [
    "* List of Dictionaries\n",
    "\n",
    "Create a list of dictionaries where each dictionary represents a student with keys 'name' and 'score'. Sort the list of dictionaries by the 'score' in descending order and print the sorted list.\n"
   ]
  },
  {
   "cell_type": "code",
   "execution_count": 8,
   "id": "344b245f",
   "metadata": {},
   "outputs": [],
   "source": [
    "# Codde here"
   ]
  },
  {
   "cell_type": "markdown",
   "id": "89e6d4c8",
   "metadata": {},
   "source": [
    "* Matrix Transposition\n",
    "\n",
    "Write a function that takes a 3x3 matrix (nested list) as input and returns its transpose. Print the original and transposed matrices."
   ]
  },
  {
   "cell_type": "code",
   "execution_count": 9,
   "id": "c4d708d1",
   "metadata": {},
   "outputs": [],
   "source": [
    "# Codde here"
   ]
  },
  {
   "cell_type": "markdown",
   "id": "6624baf9",
   "metadata": {},
   "source": [
    "* Flattening a Nested List\n",
    "\n",
    "Write a function that takes a nested list and flattens it into a single list. Print the original and flattened lists."
   ]
  },
  {
   "cell_type": "code",
   "execution_count": 10,
   "id": "c16b84bd",
   "metadata": {},
   "outputs": [],
   "source": [
    "# Codde here"
   ]
  },
  {
   "cell_type": "markdown",
   "id": "f4876559",
   "metadata": {},
   "source": [
    "* List Manipulation\n",
    "\n",
    "Create a list of the first 10 positive integers. Remove the elements at indices 2, 4, and 6, and insert the element '99' at index 5. Print the modified list."
   ]
  },
  {
   "cell_type": "code",
   "execution_count": 11,
   "id": "b3ce575c",
   "metadata": {},
   "outputs": [],
   "source": [
    "# Codde here"
   ]
  },
  {
   "cell_type": "markdown",
   "id": "a11516e3",
   "metadata": {},
   "source": [
    "* List Zipping\n",
    "\n",
    "Create two lists of the same length. Use the `zip` function to combine these lists into a list of tuples and print the result."
   ]
  },
  {
   "cell_type": "code",
   "execution_count": 12,
   "id": "14370a07",
   "metadata": {},
   "outputs": [],
   "source": [
    "# Codde here"
   ]
  },
  {
   "cell_type": "markdown",
   "id": "6f31b70e",
   "metadata": {},
   "source": [
    "* List Reversal\n",
    "\n",
    "Write a function that takes a list and returns a new list with the elements in reverse order. Print the original and reversed lists."
   ]
  },
  {
   "cell_type": "code",
   "execution_count": 13,
   "id": "332e0630",
   "metadata": {},
   "outputs": [],
   "source": [
    "# Codde here"
   ]
  },
  {
   "cell_type": "markdown",
   "id": "461787bd",
   "metadata": {},
   "source": [
    "* List Rotation\n",
    "\n",
    "Write a function that rotates a list by n positions. Print the original and rotated lists."
   ]
  },
  {
   "cell_type": "code",
   "execution_count": 14,
   "id": "791bff0a",
   "metadata": {},
   "outputs": [],
   "source": [
    "# Codde here"
   ]
  },
  {
   "cell_type": "markdown",
   "id": "f20cca0c",
   "metadata": {},
   "source": [
    "* List Intersection\n",
    "\n",
    "Write a function that takes two lists and returns a new list containing only the elements that are present in both lists. Print the intersected list."
   ]
  },
  {
   "cell_type": "code",
   "execution_count": 15,
   "id": "462bd183",
   "metadata": {},
   "outputs": [],
   "source": [
    "# Codde here"
   ]
  }
 ],
 "metadata": {
  "kernelspec": {
   "display_name": "venv",
   "language": "python",
   "name": "python3"
  },
  "language_info": {
   "codemirror_mode": {
    "name": "ipython",
    "version": 3
   },
   "file_extension": ".py",
   "mimetype": "text/x-python",
   "name": "python",
   "nbconvert_exporter": "python",
   "pygments_lexer": "ipython3",
   "version": "3.12.11"
  }
 },
 "nbformat": 4,
 "nbformat_minor": 5
}

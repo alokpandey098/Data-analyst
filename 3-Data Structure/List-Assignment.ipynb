{
 "cells": [
  {
   "cell_type": "markdown",
   "id": "9511302e",
   "metadata": {},
   "source": [
    "* Creating and Accessing Lists\n",
    "\n",
    "Create a list of the first 20 positive integers. Print the list."
   ]
  },
  {
   "cell_type": "code",
   "execution_count": null,
   "id": "32804312",
   "metadata": {},
   "outputs": [
    {
     "name": "stdout",
     "output_type": "stream",
     "text": [
      "[0, 1, 2, 3, 4, 5, 6, 7, 8, 9, 10, 11, 12, 13, 14, 15, 16, 17, 18, 19]\n"
     ]
    }
   ],
   "source": [
    "lst = []\n",
    "for i in range(20):\n",
    "    lst.append(i)\n",
    "print(lst)"
   ]
  },
  {
   "cell_type": "markdown",
   "id": "d6c8d330",
   "metadata": {},
   "source": [
    "* Accessing List Elements\n",
    "\n",
    "Print the first, middle, and last elements of the list created in Assignment 1."
   ]
  },
  {
   "cell_type": "code",
   "execution_count": 8,
   "id": "6ca4faa1",
   "metadata": {},
   "outputs": [
    {
     "name": "stdout",
     "output_type": "stream",
     "text": [
      "First element : 0\n",
      "Middle element 1 : 9\n",
      "Middle element 2 : 10\n",
      "Last element : 19\n"
     ]
    }
   ],
   "source": [
    "# For first element\n",
    "print('First element :',lst[0])\n",
    "\n",
    "# for middle element in even list ,there are 2 middle element\n",
    "mid1 = len(lst)//2-1\n",
    "mid2 = len(lst)//2\n",
    "print('Middle element 1 :',lst[mid1])\n",
    "print('Middle element 2 :',lst[mid2])\n",
    "\n",
    "# for last element\n",
    "print('Last element :',lst[-1])"
   ]
  },
  {
   "cell_type": "markdown",
   "id": "c8557889",
   "metadata": {},
   "source": [
    " * List Slicing\n",
    "\n",
    "Print the first five elements, the last five elements, and the elements from index 5 to 15 of the list created in Assignment 1."
   ]
  },
  {
   "cell_type": "code",
   "execution_count": null,
   "id": "64d29e38",
   "metadata": {},
   "outputs": [
    {
     "name": "stdout",
     "output_type": "stream",
     "text": [
      "First 5 elements : [0, 1, 2, 3, 4]\n",
      "Last 5 elements : [15, 16, 17, 18, 19]\n",
      "Elements from index 5 to 15 : [5, 6, 7, 8, 9, 10, 11, 12, 13, 14]\n"
     ]
    }
   ],
   "source": [
    "print('First 5 elements :',lst[:5])\n",
    "\n",
    "last5 = len(lst)-5\n",
    "print('Last 5 elements :',lst[last5:])\n",
    "print('Elements from index 5 to 15 :',lst[5:15])"
   ]
  },
  {
   "cell_type": "markdown",
   "id": "4436b3bd",
   "metadata": {},
   "source": [
    "* List Comprehensions\n",
    "\n",
    "Create a new list containing the squares of the first 10 positive integers using a list comprehension. Print the new list."
   ]
  },
  {
   "cell_type": "code",
   "execution_count": 20,
   "id": "0c63d7f2",
   "metadata": {},
   "outputs": [
    {
     "name": "stdout",
     "output_type": "stream",
     "text": [
      "Square of 1st 10 positive number : [1, 4, 9, 16, 25, 36, 49, 64, 81, 100]\n"
     ]
    }
   ],
   "source": [
    "sq_lst = [x**2 for x in range(1,11)]\n",
    "print('Square of 1st 10 positive number :',sq_lst)\n"
   ]
  },
  {
   "cell_type": "markdown",
   "id": "7cfc51e1",
   "metadata": {},
   "source": [
    "* Filtering Lists\n",
    "\n",
    "Create a new list containing only the even numbers from the list created in Assignment 1 using a list comprehension. Print the new list."
   ]
  },
  {
   "cell_type": "code",
   "execution_count": 24,
   "id": "43d76a92",
   "metadata": {},
   "outputs": [
    {
     "name": "stdout",
     "output_type": "stream",
     "text": [
      "Even List : [4, 16, 36, 64, 100]\n"
     ]
    }
   ],
   "source": [
    "even_lst = [x for x in sq_lst if x%2 == 0]\n",
    "print('Even List :',even_lst)"
   ]
  },
  {
   "cell_type": "markdown",
   "id": "772b3ef6",
   "metadata": {},
   "source": [
    "* List Methods\n",
    "\n",
    "Create a list of random numbers and sort it in ascending and descending order. Remove the duplicates from the list and print the modified list."
   ]
  },
  {
   "cell_type": "code",
   "execution_count": 25,
   "id": "ff6fcd3f",
   "metadata": {},
   "outputs": [
    {
     "name": "stdout",
     "output_type": "stream",
     "text": [
      "Original list: [15, 19, 13, 20, 11, 4, 12, 12, 14, 14]\n",
      "Ascending order: [4, 11, 12, 12, 13, 14, 14, 15, 19, 20]\n",
      "Descending order: [20, 19, 15, 14, 14, 13, 12, 12, 11, 4]\n",
      "List after removing duplicates: [4, 11, 12, 13, 14, 15, 19, 20]\n"
     ]
    }
   ],
   "source": [
    "import random\n",
    "\n",
    "# Step 1: Create a list of random numbers\n",
    "numbers = [random.randint(1, 20) for _ in range(10)]  # 10 random numbers between 1–20\n",
    "print(\"Original list:\", numbers)\n",
    "\n",
    "# Step 2: Sort in ascending order\n",
    "asc_sorted = sorted(numbers)\n",
    "print(\"Ascending order:\", asc_sorted)\n",
    "\n",
    "# Step 3: Sort in descending order\n",
    "desc_sorted = sorted(numbers, reverse=True)\n",
    "print(\"Descending order:\", desc_sorted)\n",
    "\n",
    "# Step 4: Remove duplicates\n",
    "unique_numbers = list(set(numbers))\n",
    "print(\"List after removing duplicates:\", unique_numbers)\n",
    "\n"
   ]
  },
  {
   "cell_type": "markdown",
   "id": "4a196484",
   "metadata": {},
   "source": [
    "* Nested Lists\n",
    "\n",
    "Create a nested list representing a 3x3 matrix and print the matrix. Access and print the element at the second row and third column."
   ]
  },
  {
   "cell_type": "code",
   "execution_count": 3,
   "id": "12a87ffa",
   "metadata": {},
   "outputs": [
    {
     "name": "stdout",
     "output_type": "stream",
     "text": [
      "[2, 3, 4]\n",
      "[5, 6, 7]\n",
      "[8, 9, 10]\n",
      "Element at 2nd row and 3rd column : 7\n"
     ]
    }
   ],
   "source": [
    "matrix = [\n",
    "          \n",
    "          [2,3,4],\n",
    "          [5,6,7],\n",
    "          [8,9,10]\n",
    "]\n",
    "\n",
    "for row in matrix:\n",
    "    print(row)\n",
    "\n",
    "print('Element at 2nd row and 3rd column :',matrix[1][2])"
   ]
  },
  {
   "cell_type": "markdown",
   "id": "f31049e6",
   "metadata": {},
   "source": [
    "* List of Dictionaries\n",
    "\n",
    "Create a list of dictionaries where each dictionary represents a student with keys 'name' and 'score'. Sort the list of dictionaries by the 'score' in descending order and print the sorted list.\n"
   ]
  },
  {
   "cell_type": "code",
   "execution_count": 4,
   "id": "344b245f",
   "metadata": {},
   "outputs": [
    {
     "name": "stdout",
     "output_type": "stream",
     "text": [
      "Students sorted by score (descending):\n",
      "{'name': 'Ravi', 'score': 95}\n",
      "{'name': 'Kiran', 'score': 90}\n",
      "{'name': 'Alok', 'score': 88}\n",
      "{'name': 'Amit', 'score': 85}\n",
      "{'name': 'Neha', 'score': 72}\n"
     ]
    }
   ],
   "source": [
    "# Step 1: Create a list of dictionaries (each represents a student)\n",
    "students = [\n",
    "    {\"name\": \"Alok\", \"score\": 88},\n",
    "    {\"name\": \"Ravi\", \"score\": 95},\n",
    "    {\"name\": \"Neha\", \"score\": 72},\n",
    "    {\"name\": \"Kiran\", \"score\": 90},\n",
    "    {\"name\": \"Amit\", \"score\": 85}\n",
    "]\n",
    "\n",
    "# Step 2: Sort by 'score' in descending order\n",
    "sorted_students = sorted(students, key=lambda x: x['score'], reverse=True)\n",
    "\n",
    "# Step 3: Print sorted list\n",
    "print(\"Students sorted by score (descending):\")\n",
    "for student in sorted_students:\n",
    "    print(student)\n"
   ]
  },
  {
   "cell_type": "markdown",
   "id": "89e6d4c8",
   "metadata": {},
   "source": [
    "* Matrix Transposition\n",
    "\n",
    "Write a function that takes a 3x3 matrix (nested list) as input and returns its transpose. Print the original and transposed matrices."
   ]
  },
  {
   "cell_type": "code",
   "execution_count": 5,
   "id": "c4d708d1",
   "metadata": {},
   "outputs": [
    {
     "name": "stdout",
     "output_type": "stream",
     "text": [
      "Original Matrix:\n",
      "[1, 2, 3]\n",
      "[4, 5, 6]\n",
      "[7, 8, 9]\n",
      "\n",
      "Transposed Matrix:\n",
      "[1, 4, 7]\n",
      "[2, 5, 8]\n",
      "[3, 6, 9]\n"
     ]
    }
   ],
   "source": [
    "# Function to transpose a 3x3 matrix\n",
    "def transpose_matrix(matrix):\n",
    "    # Use nested loops to swap rows and columns\n",
    "    transposed = []\n",
    "    for i in range(len(matrix[0])):       # iterate over columns\n",
    "        row = []\n",
    "        for j in range(len(matrix)):       # iterate over rows\n",
    "            row.append(matrix[j][i])       # swap row and column\n",
    "        transposed.append(row)\n",
    "    return transposed\n",
    "\n",
    "# Original 3x3 matrix\n",
    "matrix = [\n",
    "    [1, 2, 3],\n",
    "    [4, 5, 6],\n",
    "    [7, 8, 9]\n",
    "]\n",
    "\n",
    "# Call the function\n",
    "result = transpose_matrix(matrix)\n",
    "\n",
    "# Print both matrices\n",
    "print(\"Original Matrix:\")\n",
    "for row in matrix:\n",
    "    print(row)\n",
    "\n",
    "print(\"\\nTransposed Matrix:\")\n",
    "for row in result:\n",
    "    print(row)\n"
   ]
  },
  {
   "cell_type": "markdown",
   "id": "6624baf9",
   "metadata": {},
   "source": [
    "* Flattening a Nested List\n",
    "\n",
    "Write a function that takes a nested list and flattens it into a single list. Print the original and flattened lists."
   ]
  },
  {
   "cell_type": "code",
   "execution_count": 6,
   "id": "c16b84bd",
   "metadata": {},
   "outputs": [
    {
     "name": "stdout",
     "output_type": "stream",
     "text": [
      "Original Nested List: [[1, 2, 3], [4, 5], [6, 7, 8, 9]]\n",
      "Flattened List: [1, 2, 3, 4, 5, 6, 7, 8, 9]\n"
     ]
    }
   ],
   "source": [
    "# Function to flatten a nested list\n",
    "def flatten_list(nested_list):\n",
    "    flat_list = []\n",
    "    for sublist in nested_list:\n",
    "        for item in sublist:\n",
    "            flat_list.append(item)\n",
    "    return flat_list\n",
    "\n",
    "\n",
    "# Original nested list\n",
    "nested = [[1, 2, 3], [4, 5], [6, 7, 8, 9]]\n",
    "\n",
    "# Call the function\n",
    "flattened = flatten_list(nested)\n",
    "\n",
    "# Print results\n",
    "print(\"Original Nested List:\", nested)\n",
    "print(\"Flattened List:\", flattened)\n"
   ]
  },
  {
   "cell_type": "markdown",
   "id": "f4876559",
   "metadata": {},
   "source": [
    "* List Manipulation\n",
    "\n",
    "Create a list of the first 10 positive integers. Remove the elements at indices 2, 4, and 6, and insert the element '99' at index 5. Print the modified list."
   ]
  },
  {
   "cell_type": "code",
   "execution_count": 7,
   "id": "b3ce575c",
   "metadata": {},
   "outputs": [
    {
     "name": "stdout",
     "output_type": "stream",
     "text": [
      "Original list: [1, 2, 3, 4, 5, 6, 7, 8, 9, 10]\n",
      "Modified list: [1, 2, 4, 6, 8, 99, 9, 10]\n"
     ]
    }
   ],
   "source": [
    "# Step 1: Create a list of first 10 positive integers\n",
    "numbers = list(range(1, 11))\n",
    "print(\"Original list:\", numbers)\n",
    "\n",
    "# Step 2: Remove elements at indices 2, 4, 6\n",
    "# Important: remove in reverse order to avoid index shifting\n",
    "for index in sorted([2, 4, 6], reverse=True):\n",
    "    numbers.pop(index)\n",
    "\n",
    "# Step 3: Insert 99 at index 5\n",
    "numbers.insert(5, 99)\n",
    "\n",
    "# Step 4: Print the modified list\n",
    "print(\"Modified list:\", numbers)\n"
   ]
  },
  {
   "cell_type": "markdown",
   "id": "a11516e3",
   "metadata": {},
   "source": [
    "* List Zipping\n",
    "\n",
    "Create two lists of the same length. Use the `zip` function to combine these lists into a list of tuples and print the result."
   ]
  },
  {
   "cell_type": "code",
   "execution_count": 8,
   "id": "14370a07",
   "metadata": {},
   "outputs": [
    {
     "name": "stdout",
     "output_type": "stream",
     "text": [
      "Combined list of tuples: [('Alok', 88), ('Ravi', 95), ('Neha', 72), ('Kiran', 90)]\n"
     ]
    }
   ],
   "source": [
    "# Step 1: Create two lists of the same length\n",
    "names = [\"Alok\", \"Ravi\", \"Neha\", \"Kiran\"]\n",
    "scores = [88, 95, 72, 90]\n",
    "\n",
    "# Step 2: Use zip to combine lists into a list of tuples\n",
    "combined = list(zip(names, scores))\n",
    "\n",
    "# Step 3: Print the result\n",
    "print(\"Combined list of tuples:\", combined)\n"
   ]
  },
  {
   "cell_type": "markdown",
   "id": "6f31b70e",
   "metadata": {},
   "source": [
    "* List Reversal\n",
    "\n",
    "Write a function that takes a list and returns a new list with the elements in reverse order. Print the original and reversed lists."
   ]
  },
  {
   "cell_type": "code",
   "execution_count": 9,
   "id": "332e0630",
   "metadata": {},
   "outputs": [
    {
     "name": "stdout",
     "output_type": "stream",
     "text": [
      "Original list: [10, 20, 30, 40, 50]\n",
      "Reversed list: [50, 40, 30, 20, 10]\n"
     ]
    }
   ],
   "source": [
    "def reverse_list(original_list):\n",
    "    return original_list[::-1]  # slicing method to reverse\n",
    "\n",
    "# Example list\n",
    "my_list = [10, 20, 30, 40, 50]\n",
    "\n",
    "# Calling the function\n",
    "reversed_list = reverse_list(my_list)\n",
    "\n",
    "# Printing results\n",
    "print(\"Original list:\", my_list)\n",
    "print(\"Reversed list:\", reversed_list)\n"
   ]
  },
  {
   "cell_type": "markdown",
   "id": "461787bd",
   "metadata": {},
   "source": [
    "* List Rotation\n",
    "\n",
    "Write a function that rotates a list by n positions. Print the original and rotated lists."
   ]
  },
  {
   "cell_type": "code",
   "execution_count": 11,
   "id": "791bff0a",
   "metadata": {},
   "outputs": [
    {
     "name": "stdout",
     "output_type": "stream",
     "text": [
      "Original list: [10, 20, 30, 40, 50]\n",
      "Rotated list : [30, 40, 50, 10, 20]\n"
     ]
    }
   ],
   "source": [
    "def rotate_list(lst, n):\n",
    "    n = n % len(lst)  # handle cases where n > len(lst)\n",
    "    return lst[n:] + lst[:n]  # slicing rotation\n",
    "\n",
    "# Example list\n",
    "my_list = [10, 20, 30, 40, 50]\n",
    "\n",
    "# Number of positions to rotate\n",
    "n = int(input(\"Enter number of positions to rotate: \"))\n",
    "\n",
    "# Rotating the list\n",
    "rotated_list = rotate_list(my_list, n)\n",
    "\n",
    "# Printing results\n",
    "print(\"Original list:\", my_list)\n",
    "print(\"Rotated list :\", rotated_list)\n"
   ]
  },
  {
   "cell_type": "markdown",
   "id": "f20cca0c",
   "metadata": {},
   "source": [
    "* List Intersection\n",
    "\n",
    "Write a function that takes two lists and returns a new list containing only the elements that are present in both lists. Print the intersected list."
   ]
  },
  {
   "cell_type": "code",
   "execution_count": null,
   "id": "462bd183",
   "metadata": {},
   "outputs": [
    {
     "name": "stdout",
     "output_type": "stream",
     "text": [
      "List 1: [10, 20, 30, 40, 50]\n",
      "List 2: [30, 40, 50, 60, 70]\n",
      "Intersection: [30, 40, 50]\n"
     ]
    }
   ],
   "source": [
    "def intersect_lists(list1, list2):\n",
    "    result = []\n",
    "    for item in list1:\n",
    "        if item in list2 and item not in result:  # avoid duplicates\n",
    "            result.append(item)\n",
    "    return result\n",
    "\n",
    "# Example lists\n",
    "list1 = [10, 20, 30, 40, 50]\n",
    "list2 = [30, 40, 50, 60, 70]\n",
    "\n",
    "# Calling the function\n",
    "intersection = intersect_lists(list1, list2)\n",
    "\n",
    "# Printing result\n",
    "print(\"List 1:\", list1)\n",
    "print(\"List 2:\", list2)\n",
    "print(\"Intersection:\", intersection)\n"
   ]
  },
  {
   "cell_type": "markdown",
   "id": "911b3da6",
   "metadata": {},
   "source": [
    "-----------------------------------------"
   ]
  }
 ],
 "metadata": {
  "kernelspec": {
   "display_name": "venv",
   "language": "python",
   "name": "python3"
  },
  "language_info": {
   "codemirror_mode": {
    "name": "ipython",
    "version": 3
   },
   "file_extension": ".py",
   "mimetype": "text/x-python",
   "name": "python",
   "nbconvert_exporter": "python",
   "pygments_lexer": "ipython3",
   "version": "3.12.11"
  }
 },
 "nbformat": 4,
 "nbformat_minor": 5
}

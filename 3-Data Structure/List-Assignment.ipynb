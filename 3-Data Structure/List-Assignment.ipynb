{
 "cells": [
  {
   "cell_type": "markdown",
   "id": "9511302e",
   "metadata": {},
   "source": [
    "* Creating and Accessing Lists\n",
    "\n",
    "Create a list of the first 20 positive integers. Print the list."
   ]
  },
  {
   "cell_type": "code",
   "execution_count": null,
   "id": "32804312",
   "metadata": {},
   "outputs": [
    {
     "name": "stdout",
     "output_type": "stream",
     "text": [
      "[0, 1, 2, 3, 4, 5, 6, 7, 8, 9, 10, 11, 12, 13, 14, 15, 16, 17, 18, 19]\n"
     ]
    }
   ],
   "source": [
    "lst = []\n",
    "for i in range(20):\n",
    "    lst.append(i)\n",
    "print(lst)"
   ]
  },
  {
   "cell_type": "markdown",
   "id": "d6c8d330",
   "metadata": {},
   "source": [
    "* Accessing List Elements\n",
    "\n",
    "Print the first, middle, and last elements of the list created in Assignment 1."
   ]
  },
  {
   "cell_type": "code",
   "execution_count": 8,
   "id": "6ca4faa1",
   "metadata": {},
   "outputs": [
    {
     "name": "stdout",
     "output_type": "stream",
     "text": [
      "First element : 0\n",
      "Middle element 1 : 9\n",
      "Middle element 2 : 10\n",
      "Last element : 19\n"
     ]
    }
   ],
   "source": [
    "# For first element\n",
    "print('First element :',lst[0])\n",
    "\n",
    "# for middle element in even list ,there are 2 middle element\n",
    "mid1 = len(lst)//2-1\n",
    "mid2 = len(lst)//2\n",
    "print('Middle element 1 :',lst[mid1])\n",
    "print('Middle element 2 :',lst[mid2])\n",
    "\n",
    "# for last element\n",
    "print('Last element :',lst[-1])"
   ]
  },
  {
   "cell_type": "markdown",
   "id": "c8557889",
   "metadata": {},
   "source": [
    " * List Slicing\n",
    "\n",
    "Print the first five elements, the last five elements, and the elements from index 5 to 15 of the list created in Assignment 1."
   ]
  },
  {
   "cell_type": "code",
   "execution_count": null,
   "id": "64d29e38",
   "metadata": {},
   "outputs": [
    {
     "name": "stdout",
     "output_type": "stream",
     "text": [
      "First 5 elements : [0, 1, 2, 3, 4]\n",
      "Last 5 elements : [15, 16, 17, 18, 19]\n",
      "Elements from index 5 to 15 : [5, 6, 7, 8, 9, 10, 11, 12, 13, 14]\n"
     ]
    }
   ],
   "source": [
    "print('First 5 elements :',lst[:5])\n",
    "\n",
    "last5 = len(lst)-5\n",
    "print('Last 5 elements :',lst[last5:])\n",
    "print('Elements from index 5 to 15 :',lst[5:15])"
   ]
  },
  {
   "cell_type": "markdown",
   "id": "4436b3bd",
   "metadata": {},
   "source": [
    "* List Comprehensions\n",
    "\n",
    "Create a new list containing the squares of the first 10 positive integers using a list comprehension. Print the new list."
   ]
  },
  {
   "cell_type": "code",
   "execution_count": 20,
   "id": "0c63d7f2",
   "metadata": {},
   "outputs": [
    {
     "name": "stdout",
     "output_type": "stream",
     "text": [
      "Square of 1st 10 positive number : [1, 4, 9, 16, 25, 36, 49, 64, 81, 100]\n"
     ]
    }
   ],
   "source": [
    "sq_lst = [x**2 for x in range(1,11)]\n",
    "print('Square of 1st 10 positive number :',sq_lst)\n"
   ]
  },
  {
   "cell_type": "markdown",
   "id": "7cfc51e1",
   "metadata": {},
   "source": [
    "* Filtering Lists\n",
    "\n",
    "Create a new list containing only the even numbers from the list created in Assignment 1 using a list comprehension. Print the new list."
   ]
  },
  {
   "cell_type": "code",
   "execution_count": 24,
   "id": "43d76a92",
   "metadata": {},
   "outputs": [
    {
     "name": "stdout",
     "output_type": "stream",
     "text": [
      "Even List : [4, 16, 36, 64, 100]\n"
     ]
    }
   ],
   "source": [
    "even_lst = [x for x in sq_lst if x%2 == 0]\n",
    "print('Even List :',even_lst)"
   ]
  },
  {
   "cell_type": "markdown",
   "id": "772b3ef6",
   "metadata": {},
   "source": [
    "* List Methods\n",
    "\n",
    "Create a list of random numbers and sort it in ascending and descending order. Remove the duplicates from the list and print the modified list."
   ]
  },
  {
   "cell_type": "code",
   "execution_count": 25,
   "id": "ff6fcd3f",
   "metadata": {},
   "outputs": [
    {
     "name": "stdout",
     "output_type": "stream",
     "text": [
      "Original list: [15, 19, 13, 20, 11, 4, 12, 12, 14, 14]\n",
      "Ascending order: [4, 11, 12, 12, 13, 14, 14, 15, 19, 20]\n",
      "Descending order: [20, 19, 15, 14, 14, 13, 12, 12, 11, 4]\n",
      "List after removing duplicates: [4, 11, 12, 13, 14, 15, 19, 20]\n"
     ]
    }
   ],
   "source": [
    "import random\n",
    "\n",
    "# Step 1: Create a list of random numbers\n",
    "numbers = [random.randint(1, 20) for _ in range(10)]  # 10 random numbers between 1–20\n",
    "print(\"Original list:\", numbers)\n",
    "\n",
    "# Step 2: Sort in ascending order\n",
    "asc_sorted = sorted(numbers)\n",
    "print(\"Ascending order:\", asc_sorted)\n",
    "\n",
    "# Step 3: Sort in descending order\n",
    "desc_sorted = sorted(numbers, reverse=True)\n",
    "print(\"Descending order:\", desc_sorted)\n",
    "\n",
    "# Step 4: Remove duplicates\n",
    "unique_numbers = list(set(numbers))\n",
    "print(\"List after removing duplicates:\", unique_numbers)\n",
    "\n"
   ]
  },
  {
   "cell_type": "markdown",
   "id": "4a196484",
   "metadata": {},
   "source": [
    "* Nested Lists\n",
    "\n",
    "Create a nested list representing a 3x3 matrix and print the matrix. Access and print the element at the second row and third column."
   ]
  },
  {
   "cell_type": "code",
   "execution_count": 7,
   "id": "12a87ffa",
   "metadata": {},
   "outputs": [],
   "source": [
    "# Codde here"
   ]
  },
  {
   "cell_type": "markdown",
   "id": "f31049e6",
   "metadata": {},
   "source": [
    "* List of Dictionaries\n",
    "\n",
    "Create a list of dictionaries where each dictionary represents a student with keys 'name' and 'score'. Sort the list of dictionaries by the 'score' in descending order and print the sorted list.\n"
   ]
  },
  {
   "cell_type": "code",
   "execution_count": 8,
   "id": "344b245f",
   "metadata": {},
   "outputs": [],
   "source": [
    "# Codde here"
   ]
  },
  {
   "cell_type": "markdown",
   "id": "89e6d4c8",
   "metadata": {},
   "source": [
    "* Matrix Transposition\n",
    "\n",
    "Write a function that takes a 3x3 matrix (nested list) as input and returns its transpose. Print the original and transposed matrices."
   ]
  },
  {
   "cell_type": "code",
   "execution_count": 9,
   "id": "c4d708d1",
   "metadata": {},
   "outputs": [],
   "source": [
    "# Codde here"
   ]
  },
  {
   "cell_type": "markdown",
   "id": "6624baf9",
   "metadata": {},
   "source": [
    "* Flattening a Nested List\n",
    "\n",
    "Write a function that takes a nested list and flattens it into a single list. Print the original and flattened lists."
   ]
  },
  {
   "cell_type": "code",
   "execution_count": 10,
   "id": "c16b84bd",
   "metadata": {},
   "outputs": [],
   "source": [
    "# Codde here"
   ]
  },
  {
   "cell_type": "markdown",
   "id": "f4876559",
   "metadata": {},
   "source": [
    "* List Manipulation\n",
    "\n",
    "Create a list of the first 10 positive integers. Remove the elements at indices 2, 4, and 6, and insert the element '99' at index 5. Print the modified list."
   ]
  },
  {
   "cell_type": "code",
   "execution_count": 11,
   "id": "b3ce575c",
   "metadata": {},
   "outputs": [],
   "source": [
    "# Codde here"
   ]
  },
  {
   "cell_type": "markdown",
   "id": "a11516e3",
   "metadata": {},
   "source": [
    "* List Zipping\n",
    "\n",
    "Create two lists of the same length. Use the `zip` function to combine these lists into a list of tuples and print the result."
   ]
  },
  {
   "cell_type": "code",
   "execution_count": 12,
   "id": "14370a07",
   "metadata": {},
   "outputs": [],
   "source": [
    "# Codde here"
   ]
  },
  {
   "cell_type": "markdown",
   "id": "6f31b70e",
   "metadata": {},
   "source": [
    "* List Reversal\n",
    "\n",
    "Write a function that takes a list and returns a new list with the elements in reverse order. Print the original and reversed lists."
   ]
  },
  {
   "cell_type": "code",
   "execution_count": 13,
   "id": "332e0630",
   "metadata": {},
   "outputs": [],
   "source": [
    "# Codde here"
   ]
  },
  {
   "cell_type": "markdown",
   "id": "461787bd",
   "metadata": {},
   "source": [
    "* List Rotation\n",
    "\n",
    "Write a function that rotates a list by n positions. Print the original and rotated lists."
   ]
  },
  {
   "cell_type": "code",
   "execution_count": 14,
   "id": "791bff0a",
   "metadata": {},
   "outputs": [],
   "source": [
    "# Codde here"
   ]
  },
  {
   "cell_type": "markdown",
   "id": "f20cca0c",
   "metadata": {},
   "source": [
    "* List Intersection\n",
    "\n",
    "Write a function that takes two lists and returns a new list containing only the elements that are present in both lists. Print the intersected list."
   ]
  },
  {
   "cell_type": "code",
   "execution_count": 15,
   "id": "462bd183",
   "metadata": {},
   "outputs": [],
   "source": [
    "# Codde here"
   ]
  }
 ],
 "metadata": {
  "kernelspec": {
   "display_name": "venv",
   "language": "python",
   "name": "python3"
  },
  "language_info": {
   "codemirror_mode": {
    "name": "ipython",
    "version": 3
   },
   "file_extension": ".py",
   "mimetype": "text/x-python",
   "name": "python",
   "nbconvert_exporter": "python",
   "pygments_lexer": "ipython3",
   "version": "3.12.11"
  }
 },
 "nbformat": 4,
 "nbformat_minor": 5
}

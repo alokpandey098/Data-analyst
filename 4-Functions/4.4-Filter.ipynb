{
 "cells": [
  {
   "cell_type": "markdown",
   "id": "bd411fa2",
   "metadata": {},
   "source": [
    "#### The filter() Function in Python\n",
    "The filter() function constructs an iterator from elements of an iterable for which a function returns true. It is used to filter out items from a list (or any other iterable) based on a condition."
   ]
  },
  {
   "cell_type": "code",
   "execution_count": 3,
   "metadata": {},
   "outputs": [
    {
     "data": {
      "text/plain": [
       "False"
      ]
     },
     "execution_count": 3,
     "metadata": {},
     "output_type": "execute_result"
    }
   ],
   "source": [
    "def odd(x):\n",
    "    if x%2 != 0:\n",
    "        return True\n",
    "    else:\n",
    "        return False\n",
    "\n",
    "odd(8) "
   ]
  },
  {
   "cell_type": "code",
   "execution_count": 5,
   "metadata": {},
   "outputs": [
    {
     "name": "stdout",
     "output_type": "stream",
     "text": [
      "[1, 3, 5, 7, 9, 11]\n"
     ]
    }
   ],
   "source": [
    "lst=[1,2,3,4,5,6,7,8,9,10,11,12]\n",
    "\n",
    "print(list(filter(odd,lst)))"
   ]
  },
  {
   "cell_type": "code",
   "execution_count": 7,
   "metadata": {},
   "outputs": [
    {
     "name": "stdout",
     "output_type": "stream",
     "text": [
      "[10, 6, 9, 8, 11, 4, 7]\n"
     ]
    }
   ],
   "source": [
    "# filter with function\n",
    "lst = [10,20,6,9,55,33,8,11,4,7]\n",
    "less_then_12 = list(filter(lambda x:x<12,lst))\n",
    "print(less_then_12)"
   ]
  },
  {
   "cell_type": "code",
   "execution_count": 8,
   "metadata": {},
   "outputs": [
    {
     "name": "stdout",
     "output_type": "stream",
     "text": [
      "[6, 8]\n"
     ]
    }
   ],
   "source": [
    "# Filter with a lambda function and multiple conditions\n",
    "numbers=[1,2,3,4,5,6,7,8,9]\n",
    "even_and_greater_than_five=list(filter(lambda x:x>5 and x%2==0,numbers))\n",
    "print(even_and_greater_than_five)"
   ]
  },
  {
   "cell_type": "code",
   "execution_count": 9,
   "metadata": {},
   "outputs": [
    {
     "data": {
      "text/plain": [
       "[{'name': 'ALok', 'age': 22},\n",
       " {'name': 'Uday', 'age': 23},\n",
       " {'name': 'Vaibhav', 'age': 25}]"
      ]
     },
     "execution_count": 9,
     "metadata": {},
     "output_type": "execute_result"
    }
   ],
   "source": [
    "## Filter() to check if the age is greate than 25 in dictionaries\n",
    "people=[\n",
    "    {'name':'ALok','age':22},\n",
    "    {'name':'Uday','age':23},\n",
    "    {'name':'Vaibhav','age':25}\n",
    "]\n",
    "\n",
    "def age_greater_than_15(person):\n",
    "    return person['age']>15\n",
    "\n",
    "list(filter(age_greater_than_15,people))"
   ]
  },
  {
   "cell_type": "markdown",
   "id": "ecf1f458",
   "metadata": {},
   "source": [
    "Summary -: The filter() function is a powerful tool for creating iterators that filter items out of an iterable based on a function. It is commonly used for data cleaning, filtering objects, and removing unwanted elements from lists. By mastering filter(), you can write more concise and efficient code for processing and manipulating"
   ]
  },
  {
   "cell_type": "code",
   "execution_count": null,
   "id": "c13a5647",
   "metadata": {},
   "outputs": [],
   "source": []
  }
 ],
 "metadata": {
  "kernelspec": {
   "display_name": "DAB",
   "language": "python",
   "name": "python3"
  },
  "language_info": {
   "codemirror_mode": {
    "name": "ipython",
    "version": 3
   },
   "file_extension": ".py",
   "mimetype": "text/x-python",
   "name": "python",
   "nbconvert_exporter": "python",
   "pygments_lexer": "ipython3",
   "version": "3.11.13"
  }
 },
 "nbformat": 4,
 "nbformat_minor": 5
}

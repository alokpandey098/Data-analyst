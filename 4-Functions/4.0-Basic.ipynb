{
 "cells": [
  {
   "cell_type": "markdown",
   "id": "c4760dda",
   "metadata": {},
   "source": [
    "### Functions Basics\n",
    "Topics Covered:\n",
    "1. Introduction to Functions\n",
    "2. Defining Functions\n",
    "3. Calling Functions\n",
    "4. Function Parameters\n",
    "5. Default Parameters\n",
    "6. Variable-Length Arguments\n",
    "7. Return Statement"
   ]
  },
  {
   "cell_type": "markdown",
   "id": "9a2509f1",
   "metadata": {},
   "source": [
    "- Intro :A function is a block of code that performs a specific task.\n",
    "Functions help in organizing code, reusing code, and improving readability."
   ]
  },
  {
   "cell_type": "code",
   "execution_count": null,
   "id": "ed465e82",
   "metadata": {},
   "outputs": [],
   "source": [
    "# Suntax\n",
    "\n",
    "# def func_name(parameters):\n",
    "#     \"\"\"Docstring\"\"\"\n",
    "#     Function_Body\n",
    "#     return Expression"
   ]
  },
  {
   "cell_type": "code",
   "execution_count": 1,
   "metadata": {},
   "outputs": [
    {
     "name": "stdout",
     "output_type": "stream",
     "text": [
      "23 Is odd number\n"
     ]
    }
   ],
   "source": [
    "# Why Function\n",
    "\n",
    "num = 23\n",
    "if num%2==0:\n",
    "    print(num,\"Is even number\")\n",
    "else:\n",
    "    print(num,\"Is odd number\")"
   ]
  },
  {
   "cell_type": "code",
   "execution_count": 2,
   "metadata": {},
   "outputs": [],
   "source": [
    "def even_odd(num):\n",
    "    \"\"\"This function show the given number is even or odd \"\"\"\n",
    "    if num % 2 == 0:\n",
    "        print(num,'Is even number..')\n",
    "    else:\n",
    "        print(num,'Is odd number...')\n",
    "        "
   ]
  },
  {
   "cell_type": "code",
   "execution_count": 3,
   "metadata": {},
   "outputs": [
    {
     "name": "stdout",
     "output_type": "stream",
     "text": [
      "21 Is odd number...\n"
     ]
    }
   ],
   "source": [
    "# Call the function\n",
    "even_odd(21)"
   ]
  },
  {
   "cell_type": "code",
   "execution_count": 4,
   "metadata": {},
   "outputs": [],
   "source": [
    "# Function with multiple parameter\n",
    "\n",
    "def summ(a,b):\n",
    "    return a+b\n"
   ]
  },
  {
   "cell_type": "code",
   "execution_count": 5,
   "metadata": {},
   "outputs": [
    {
     "data": {
      "text/plain": [
       "9"
      ]
     },
     "execution_count": 5,
     "metadata": {},
     "output_type": "execute_result"
    }
   ],
   "source": [
    "summ(5,4)"
   ]
  },
  {
   "cell_type": "code",
   "execution_count": 6,
   "metadata": {},
   "outputs": [],
   "source": [
    "# Function with default parameter\n",
    "\n",
    "def greet(person='Guest'):\n",
    "    print('Hello',person,'welcome to the Bihar.')"
   ]
  },
  {
   "cell_type": "code",
   "execution_count": 9,
   "metadata": {},
   "outputs": [
    {
     "name": "stdout",
     "output_type": "stream",
     "text": [
      "Hello Guest welcome to the Bihar.\n",
      "Hello Alok welcome to the Bihar.\n"
     ]
    }
   ],
   "source": [
    "greet() # It take default parameter in case of not given\n",
    "greet('Alok')"
   ]
  },
  {
   "cell_type": "code",
   "execution_count": 10,
   "metadata": {},
   "outputs": [],
   "source": [
    "# variable length argument\n",
    "\n",
    "def print_var(*var):\n",
    "    for char in var:\n",
    "        print(char)"
   ]
  },
  {
   "cell_type": "code",
   "execution_count": 13,
   "metadata": {},
   "outputs": [
    {
     "name": "stdout",
     "output_type": "stream",
     "text": [
      "1\n",
      "2\n",
      "3\n",
      "4\n",
      "5\n",
      "6\n",
      "Alok\n"
     ]
    }
   ],
   "source": [
    "print_var(1,2,3,4,5,6,'Alok')"
   ]
  },
  {
   "cell_type": "code",
   "execution_count": 18,
   "metadata": {},
   "outputs": [],
   "source": [
    "# Positional arguments\n",
    "def print_args(*args):\n",
    "    for char in args:\n",
    "        print(char)"
   ]
  },
  {
   "cell_type": "code",
   "execution_count": 19,
   "metadata": {},
   "outputs": [
    {
     "name": "stdout",
     "output_type": "stream",
     "text": [
      "1\n",
      "12\n",
      "45\n",
      "87\n",
      "55\n",
      "Alok\n"
     ]
    }
   ],
   "source": [
    "print_args(1,12,45,87,55,'Alok')"
   ]
  },
  {
   "cell_type": "code",
   "execution_count": 22,
   "metadata": {},
   "outputs": [],
   "source": [
    "# Keyword arguments\n",
    "def print_kwargs(**kwargs):\n",
    "    for key,value in kwargs.items():\n",
    "        print(f\"{key}:{value}\")"
   ]
  },
  {
   "cell_type": "code",
   "execution_count": 26,
   "metadata": {},
   "outputs": [
    {
     "name": "stdout",
     "output_type": "stream",
     "text": [
      "Name:Alok Kumar\n",
      "Age:22\n",
      "Course:DA bootcamp\n"
     ]
    }
   ],
   "source": [
    "print_kwargs(Name='Alok Kumar',Age='22',Course='DA bootcamp')"
   ]
  },
  {
   "cell_type": "code",
   "execution_count": 25,
   "id": "3621fc1a",
   "metadata": {},
   "outputs": [],
   "source": [
    "def print_details(*args,**kwargs):\n",
    "    for val in args:\n",
    "        print(f\" Positional arument :{val}\")\n",
    "    \n",
    "    for key,value in kwargs.items():\n",
    "        print(f\"{key}:{value}\")"
   ]
  },
  {
   "cell_type": "code",
   "execution_count": 27,
   "id": "4670c756",
   "metadata": {},
   "outputs": [
    {
     "name": "stdout",
     "output_type": "stream",
     "text": [
      " Positional arument :1\n",
      " Positional arument :2\n",
      " Positional arument :3\n",
      " Positional arument :4\n",
      " Positional arument :Alok\n",
      "name:Alok\n",
      "age:22\n",
      "country:India\n"
     ]
    }
   ],
   "source": [
    "print_details(1,2,3,4,\"Alok\",name=\"Alok\",age=\"22\",country=\"India\")"
   ]
  },
  {
   "cell_type": "code",
   "execution_count": 28,
   "id": "b080eab8",
   "metadata": {},
   "outputs": [
    {
     "data": {
      "text/plain": [
       "6"
      ]
     },
     "execution_count": 28,
     "metadata": {},
     "output_type": "execute_result"
    }
   ],
   "source": [
    "# Return statements\n",
    "def multiply(a,b):\n",
    "    return a*b\n",
    "\n",
    "multiply(2,3)"
   ]
  },
  {
   "cell_type": "code",
   "execution_count": 29,
   "id": "5bfe1c6a",
   "metadata": {},
   "outputs": [
    {
     "data": {
      "text/plain": [
       "(6, 2)"
      ]
     },
     "execution_count": 29,
     "metadata": {},
     "output_type": "execute_result"
    }
   ],
   "source": [
    "# Return multiple parameters\n",
    "def multiply(a,b):\n",
    "    return a*b,a\n",
    "\n",
    "multiply(2,3)"
   ]
  }
 ],
 "metadata": {
  "kernelspec": {
   "display_name": "venv",
   "language": "python",
   "name": "python3"
  },
  "language_info": {
   "codemirror_mode": {
    "name": "ipython",
    "version": 3
   },
   "file_extension": ".py",
   "mimetype": "text/x-python",
   "name": "python",
   "nbconvert_exporter": "python",
   "pygments_lexer": "ipython3",
   "version": "3.12.11"
  }
 },
 "nbformat": 4,
 "nbformat_minor": 5
}

{
 "cells": [
  {
   "cell_type": "markdown",
   "id": "8e15bbad",
   "metadata": {},
   "source": [
    "* Creating and Accessing Tuples\n",
    "\n",
    "Create a tuple with the first 10 positive integers. Print the tuple."
   ]
  },
  {
   "cell_type": "code",
   "execution_count": 16,
   "id": "71af771d",
   "metadata": {},
   "outputs": [
    {
     "name": "stdout",
     "output_type": "stream",
     "text": [
      "<class 'tuple'>\n",
      "(1, 2, 3, 4, 5, 6, 7, 8, 9, 10)\n"
     ]
    }
   ],
   "source": [
    "tup = (1,2,3,4,5,6,7,8,9,10)\n",
    "print(type(tup))\n",
    "print(tup)"
   ]
  },
  {
   "cell_type": "markdown",
   "id": "62a2763a",
   "metadata": {},
   "source": [
    "* Accessing Tuple Elements\n",
    "\n",
    "Print the first, middle, and last elements of the tuple created in Assignment 1."
   ]
  },
  {
   "cell_type": "code",
   "execution_count": 18,
   "metadata": {},
   "outputs": [
    {
     "name": "stdout",
     "output_type": "stream",
     "text": [
      "first element : 1\n",
      "middle element 1: 5\n",
      "middle element 2: 6\n",
      "last element : 10\n"
     ]
    }
   ],
   "source": [
    "# First element\n",
    "print('first element :',tup[0])\n",
    "\n",
    "# Middle element\n",
    "mid_num1 = len(tup)//2-1\n",
    "mid_num2 = len(tup)//2\n",
    "print('middle element 1:',tup[mid_num1])\n",
    "print('middle element 2:',tup[mid_num2])\n",
    "\n",
    "# Last element\n",
    "print('last element :',tup[-1])"
   ]
  },
  {
   "cell_type": "markdown",
   "id": "d4534e93",
   "metadata": {},
   "source": [
    "* Tuple Slicing\n",
    "\n",
    "Print the first three elements, the last three elements, and the elements from index 2 to 5 of the tuple created in Assignment 1."
   ]
  },
  {
   "cell_type": "code",
   "execution_count": 21,
   "metadata": {},
   "outputs": [
    {
     "name": "stdout",
     "output_type": "stream",
     "text": [
      "first 3 elements : (1, 2, 3)\n",
      "last 3 elements : (8, 9, 10)\n",
      "elements from index 2 to 5 : (3, 4, 5)\n"
     ]
    }
   ],
   "source": [
    "# first three element\n",
    "print('first 3 elements :',tup[:3])\n",
    "\n",
    "# last three elements\n",
    "last_3 = len(tup)-3\n",
    "print('last 3 elements :',tup[last_3:])\n",
    "\n",
    "# elements from index 2 to 5\n",
    "print('elements from index 2 to 5 :',tup[2:5])"
   ]
  },
  {
   "cell_type": "markdown",
   "id": "5fdc3a07",
   "metadata": {},
   "source": [
    "* Nested Tuples\n",
    "\n",
    "Create a nested tuple representing a 3x3 matrix and print the matrix. Access and print the element at the second row and third column."
   ]
  },
  {
   "cell_type": "code",
   "execution_count": 23,
   "metadata": {},
   "outputs": [
    {
     "name": "stdout",
     "output_type": "stream",
     "text": [
      "Nested tuple : ((1, 2, 3), (4, 5, 6), (7, 8, 9))\n",
      "Elements at 2nd row and 3rd column : 6\n"
     ]
    }
   ],
   "source": [
    "nested_tup = (\n",
    "    (1,2,3),\n",
    "    (4,5,6),\n",
    "    (7,8,9)\n",
    ")\n",
    "print('Nested tuple :',nested_tup)\n",
    "\n",
    "# for element at 2nd row 3rd column\n",
    "print('Elements at 2nd row and 3rd column :',nested_tup[1][2])"
   ]
  },
  {
   "cell_type": "markdown",
   "id": "b62bed42",
   "metadata": {},
   "source": [
    "* Tuple Concatenation\n",
    "\n",
    "Concatenate two tuples: (1, 2, 3) and (4, 5, 6). Print the resulting tuple."
   ]
  },
  {
   "cell_type": "code",
   "execution_count": 24,
   "metadata": {},
   "outputs": [
    {
     "name": "stdout",
     "output_type": "stream",
     "text": [
      "Resulting tuple : (1, 2, 3, 4, 5, 6)\n"
     ]
    }
   ],
   "source": [
    "tup1 = (1,2,3)\n",
    "tup2 = (4,5,6)\n",
    "add_tup = tup1 + tup2\n",
    "print('Resulting tuple :',add_tup)"
   ]
  },
  {
   "cell_type": "markdown",
   "id": "fac0dfc3",
   "metadata": {},
   "source": [
    "* Tuple Methods\n",
    "\n",
    "Create a tuple with duplicate elements and count the occurrences of an element. Find the index of the first occurrence of an element in the tuple."
   ]
  },
  {
   "cell_type": "code",
   "execution_count": 39,
   "metadata": {},
   "outputs": [
    {
     "name": "stdout",
     "output_type": "stream",
     "text": [
      "Tuple: ('apple', 'banana', 'apple', 'orange', 'banana', 'apple')\n",
      "Occurrences of 'apple': 3\n",
      "First index of 'banana': 1\n"
     ]
    }
   ],
   "source": [
    "# Creating a tuple with duplicate elements\n",
    "fruits = (\"apple\", \"banana\", \"apple\", \"orange\", \"banana\", \"apple\")\n",
    "\n",
    "# Counting occurrences of 'apple'\n",
    "apple_count = fruits.count(\"apple\")\n",
    "\n",
    "# Finding the index of the first occurrence of 'banana'\n",
    "banana_index = fruits.index(\"banana\")\n",
    "\n",
    "# Printing the results\n",
    "print(\"Tuple:\", fruits)\n",
    "print(\"Occurrences of 'apple':\", apple_count)\n",
    "print(\"First index of 'banana':\", banana_index)\n"
   ]
  },
  {
   "cell_type": "markdown",
   "id": "f9a6739d",
   "metadata": {},
   "source": [
    "* Unpacking Tuples\n",
    "\n",
    "Create a tuple with 5 elements and unpack it into 5 variables. Print the variables."
   ]
  },
  {
   "cell_type": "code",
   "execution_count": 27,
   "metadata": {},
   "outputs": [
    {
     "name": "stdout",
     "output_type": "stream",
     "text": [
      "10 20 30 40 50\n"
     ]
    }
   ],
   "source": [
    "pack_tup = (10,20,30,40,50)\n",
    "\n",
    "# Unpack tuple\n",
    "a,b,c,d,e = pack_tup\n",
    "print(a,b,c,d,e)"
   ]
  },
  {
   "cell_type": "markdown",
   "id": "3b64cad7",
   "metadata": {},
   "source": [
    "* Tuple Conversion\n",
    "\n",
    "Convert a list of the first 5 positive integers to a tuple. Print the tuple."
   ]
  },
  {
   "cell_type": "code",
   "execution_count": 26,
   "metadata": {},
   "outputs": [
    {
     "name": "stdout",
     "output_type": "stream",
     "text": [
      "before converting : <class 'list'> [1, 2, 3, 4, 5]\n",
      "After converting : <class 'tuple'> (1, 2, 3, 4, 5)\n"
     ]
    }
   ],
   "source": [
    "lst = [1,2,3,4,5]\n",
    "print('before converting :',type(lst),lst)\n",
    "\n",
    "# convert into tuple\n",
    "in_tup = tuple(lst)\n",
    "print('After converting :',type(in_tup),in_tup)"
   ]
  },
  {
   "cell_type": "markdown",
   "id": "4ad91db6",
   "metadata": {},
   "source": [
    "* Tuple of Tuples\n",
    "\n",
    "Create a tuple containing 3 tuples, each with 3 elements. Print the tuple of tuples."
   ]
  },
  {
   "cell_type": "code",
   "execution_count": 29,
   "metadata": {},
   "outputs": [
    {
     "name": "stdout",
     "output_type": "stream",
     "text": [
      "((1, 2, 3), (4, 5, 6), (7, 8, 9))\n",
      "(('Alok', 21, 'Data Analyst'), ('Riya', 22, 'Software Engineer'), ('Rahul', 20, 'Designer'))\n"
     ]
    }
   ],
   "source": [
    "tupl = ((1,2,3),(4,5,6),(7,8,9))\n",
    "print(tupl)\n",
    "\n",
    "# 2nd example\n",
    "# Creating a tuple of tuples\n",
    "student_info = (\n",
    "    (\"Alok\", 21, \"Data Analyst\"),\n",
    "    (\"Riya\", 22, \"Software Engineer\"),\n",
    "    (\"Rahul\", 20, \"Designer\")\n",
    ")\n",
    "\n",
    "# Printing the tuple of tuples\n",
    "print(student_info)\n"
   ]
  },
  {
   "cell_type": "markdown",
   "id": "b2c46db5",
   "metadata": {},
   "source": [
    "* Tuple and List\n",
    "\n",
    "Create a tuple with the first 5 positive integers. Convert it to a list, append the number 6, and convert it back to a tuple. Print the resulting tuple."
   ]
  },
  {
   "cell_type": "code",
   "execution_count": 31,
   "metadata": {},
   "outputs": [
    {
     "name": "stdout",
     "output_type": "stream",
     "text": [
      "Before appending : (1, 2, 3, 4, 5)\n",
      "Tuple with appending value 6 : (1, 2, 3, 4, 5, 6)\n"
     ]
    }
   ],
   "source": [
    "# set with 5 positive integer\n",
    "tupe = (1,2,3,4,5)\n",
    "print('Before appending :',tupe)\n",
    "\n",
    "# Convert set in to list\n",
    "in_list = list(tupe)\n",
    "\n",
    "# Append value 6 in list\n",
    "in_list.append(6)\n",
    "\n",
    "# Convert in to set\n",
    "in_tupe = tuple(in_list)\n",
    "\n",
    "print('Tuple with appending value 6 :',in_tupe)\n"
   ]
  },
  {
   "cell_type": "markdown",
   "id": "5a1f1e4e",
   "metadata": {},
   "source": [
    "* Tuple and String\n",
    "\n",
    "Create a tuple with the characters of a string. Join the tuple elements into a single string. Print the string."
   ]
  },
  {
   "cell_type": "code",
   "execution_count": 34,
   "metadata": {},
   "outputs": [
    {
     "name": "stdout",
     "output_type": "stream",
     "text": [
      "Alok Kumar Pandey\n"
     ]
    }
   ],
   "source": [
    "tup1 = ('Alok')\n",
    "tup2 = ('Kumar')\n",
    "tup3 = ('Pandey')\n",
    "\n",
    "strr = tup1+' '+tup2+' '+tup3\n",
    "print(strr)"
   ]
  },
  {
   "cell_type": "markdown",
   "id": "319c2625",
   "metadata": {},
   "source": [
    "* Tuple and Dictionary\n",
    "\n",
    "Create a dictionary with tuple keys and integer values. Print the dictionary."
   ]
  },
  {
   "cell_type": "code",
   "execution_count": 35,
   "metadata": {},
   "outputs": [
    {
     "name": "stdout",
     "output_type": "stream",
     "text": [
      "{(0, 0): 10, (1, 2): 20, (2, 4): 30, (3, 6): 40}\n"
     ]
    }
   ],
   "source": [
    "# Creating a dictionary with tuple keys and integer values\n",
    "dict = {\n",
    "    (0, 0): 10,\n",
    "    (1, 2): 20,\n",
    "    (2, 4): 30,\n",
    "    (3, 6): 40\n",
    "}\n",
    "\n",
    "# Printing the dictionary\n",
    "print(dict)\n"
   ]
  },
  {
   "cell_type": "markdown",
   "id": "e8eba245",
   "metadata": {},
   "source": [
    "* Nested Tuple Iteration\n",
    "\n",
    "Create a nested tuple and iterate over the elements, printing each element.\n"
   ]
  },
  {
   "cell_type": "code",
   "execution_count": 36,
   "id": "a6cf971d",
   "metadata": {},
   "outputs": [
    {
     "name": "stdout",
     "output_type": "stream",
     "text": [
      "(1, 2, 3)\n",
      "(4, 5, 6)\n",
      "(7, 8, 9)\n"
     ]
    }
   ],
   "source": [
    "for elements in nested_tup:\n",
    "    print(elements)"
   ]
  },
  {
   "cell_type": "markdown",
   "id": "c89f4b79",
   "metadata": {},
   "source": [
    "* Tuple and Set\n",
    "\n",
    "Create a tuple with duplicate elements. Convert it to a set to remove duplicates and print the resulting set."
   ]
  },
  {
   "cell_type": "code",
   "execution_count": 37,
   "id": "e5adedb7",
   "metadata": {},
   "outputs": [
    {
     "name": "stdout",
     "output_type": "stream",
     "text": [
      "tuple with duplicate values : (1, 2, 1, 3, 2, 3, 4, 5, 4)\n",
      "Resulting set : {1, 2, 3, 4, 5}\n"
     ]
    }
   ],
   "source": [
    "dup_tup = (1,2,1,3,2,3,4,5,4)\n",
    "print('tuple with duplicate values :',dup_tup)\n",
    "\n",
    "# Convert to set for removing duplicate\n",
    "in_set = set(dup_tup)\n",
    "print('Resulting set :',in_set)"
   ]
  },
  {
   "cell_type": "markdown",
   "id": "8ffcd5d4",
   "metadata": {},
   "source": [
    "* Tuple Functions\n",
    "\n",
    "Write functions that take a tuple and return the minimum, maximum, and sum of the elements. Print the results for a sample tuple."
   ]
  },
  {
   "cell_type": "code",
   "execution_count": 38,
   "id": "53df03c2",
   "metadata": {},
   "outputs": [
    {
     "name": "stdout",
     "output_type": "stream",
     "text": [
      "Sample tuple : (1, 2, 3, 4, 5)\n",
      "Min of tuple : 1\n",
      "Max of tuple : 5\n",
      "Sum of tuple : 15\n"
     ]
    }
   ],
   "source": [
    "# Return min\n",
    "def get_min(t):\n",
    "    return min(t)\n",
    "\n",
    "# Return max\n",
    "def get_max(t):\n",
    "    return max(t)\n",
    "\n",
    "# Return Sum \n",
    "def get_sum(t):\n",
    "    return sum(t)\n",
    "\n",
    "sample_tup = (1,2,3,4,5)\n",
    "print('Sample tuple :',sample_tup)\n",
    "print('Min of tuple :',get_min(sample_tup))\n",
    "print('Max of tuple :',get_max(sample_tup))\n",
    "print('Sum of tuple :',get_sum(sample_tup))"
   ]
  }
 ],
 "metadata": {
  "kernelspec": {
   "display_name": "DAB",
   "language": "python",
   "name": "python3"
  },
  "language_info": {
   "codemirror_mode": {
    "name": "ipython",
    "version": 3
   },
   "file_extension": ".py",
   "mimetype": "text/x-python",
   "name": "python",
   "nbconvert_exporter": "python",
   "pygments_lexer": "ipython3",
   "version": "3.11.13"
  }
 },
 "nbformat": 4,
 "nbformat_minor": 5
}

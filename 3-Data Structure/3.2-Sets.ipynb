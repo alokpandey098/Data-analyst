{
 "cells": [
  {
   "cell_type": "markdown",
   "id": "7ce738b1",
   "metadata": {},
   "source": [
    "### Sets\n",
    "- Overview :-\n",
    "Sets are a built-in data type in Python used to store collections of unique items. They are unordered, meaning that the elements do not follow a specific order, and they do not allow duplicate elements. Sets are useful for membership tests, eliminating duplicate entries, and performing mathematical set operations like union, intersection, difference, and symmetric difference."
   ]
  },
  {
   "cell_type": "code",
   "execution_count": 4,
   "id": "9bd6849b",
   "metadata": {},
   "outputs": [
    {
     "name": "stdout",
     "output_type": "stream",
     "text": [
      "set()\n",
      "<class 'set'>\n"
     ]
    }
   ],
   "source": [
    "# Creating sets\n",
    "empty_set = set()\n",
    "\n",
    "print(empty_set)\n",
    "print(type(empty_set))"
   ]
  },
  {
   "cell_type": "code",
   "execution_count": 5,
   "id": "b6b120e7",
   "metadata": {},
   "outputs": [
    {
     "name": "stdout",
     "output_type": "stream",
     "text": [
      "{33, 34, 22, 56, 11, 44}\n"
     ]
    }
   ],
   "source": [
    "sets = {11,22,33,44,11,33,56,34}\n",
    "print(sets)"
   ]
  },
  {
   "cell_type": "code",
   "execution_count": 6,
   "id": "a9fc9e90",
   "metadata": {},
   "outputs": [
    {
     "name": "stdout",
     "output_type": "stream",
     "text": [
      "{'Kumar', 'Alok'}\n",
      "<class 'set'>\n"
     ]
    }
   ],
   "source": [
    "lst_set = set(['Alok','Kumar'])\n",
    "print(lst_set)\n",
    "print(type(lst_set))"
   ]
  },
  {
   "cell_type": "code",
   "execution_count": 11,
   "id": "59aeb2f6",
   "metadata": {},
   "outputs": [
    {
     "name": "stdout",
     "output_type": "stream",
     "text": [
      "{224, 22, 56, 11, 44}\n",
      "22\n",
      "{224, 56, 11, 44}\n",
      "None\n",
      "{56, 11, 44}\n"
     ]
    }
   ],
   "source": [
    "# Sets Operations\n",
    "\n",
    "sets.add(224)\n",
    "print(sets)\n",
    "\n",
    "pop_item = sets.pop()\n",
    "print(pop_item)\n",
    "print(sets)\n",
    "\n",
    "remov_item = sets.discard(224)\n",
    "print(remov_item)\n",
    "print(sets)"
   ]
  },
  {
   "cell_type": "code",
   "execution_count": 12,
   "id": "c12943c5",
   "metadata": {},
   "outputs": [
    {
     "name": "stdout",
     "output_type": "stream",
     "text": [
      "set()\n"
     ]
    }
   ],
   "source": [
    "# Clear all items\n",
    "\n",
    "sets.clear()\n",
    "print(sets)"
   ]
  },
  {
   "cell_type": "code",
   "execution_count": 13,
   "id": "561bedfa",
   "metadata": {},
   "outputs": [
    {
     "name": "stdout",
     "output_type": "stream",
     "text": [
      "{99, 54, 55, 89, 27, 12, 76}\n",
      "True\n",
      "False\n"
     ]
    }
   ],
   "source": [
    "# membership test in sets\n",
    "\n",
    "new_set = {12,76,89,54,27,99,55}\n",
    "print(new_set)\n",
    "print(12 in new_set)\n",
    "print(31 in new_set)"
   ]
  },
  {
   "cell_type": "code",
   "execution_count": null,
   "id": "fccea5d5",
   "metadata": {},
   "outputs": [
    {
     "name": "stdout",
     "output_type": "stream",
     "text": [
      "{1, 2, 3, 4, 70, 40, 10, 50, 20, 60, 30}\n",
      "{50, 60, 70}\n",
      "{50, 60, 70}\n",
      "set()\n",
      "set()\n"
     ]
    }
   ],
   "source": [
    "# Mathemetical Operation\n",
    "\n",
    "set1 = {1,2,3,4,50,60,70}\n",
    "set2 = {10,20,30,40,50,60,70}\n",
    "\n",
    "# Union\n",
    "union_set = set1.union(set2)\n",
    "print(union_set)\n",
    "\n",
    "# Intersection \n",
    "inter_set = set1.intersection(set2)\n",
    "print(inter_set)\n",
    "\n",
    "# Intersection Update\n",
    "\n",
    "set1.intersection_update(set2)\n",
    "print(set1)\n"
   ]
  },
  {
   "cell_type": "code",
   "execution_count": 19,
   "id": "7291d396",
   "metadata": {},
   "outputs": [
    {
     "name": "stdout",
     "output_type": "stream",
     "text": [
      "{1, 2, 3, 4}\n",
      "{1, 2, 3, 4}\n"
     ]
    }
   ],
   "source": [
    "# Difference \n",
    "set1 = {1,2,3,4,50,60,70}\n",
    "set2 = {10,20,30,40,50,60,70}\n",
    "print(set1.difference(set2))\n",
    "\n",
    "# Difference Update\n",
    "set1.difference_update(set2)\n",
    "print(set1)"
   ]
  },
  {
   "cell_type": "code",
   "execution_count": 21,
   "id": "09a5c208",
   "metadata": {},
   "outputs": [
    {
     "data": {
      "text/plain": [
       "{1, 2, 3, 4, 10, 20, 30, 40, 50, 60, 70}"
      ]
     },
     "execution_count": 21,
     "metadata": {},
     "output_type": "execute_result"
    }
   ],
   "source": [
    "set1.symmetric_difference(set2)"
   ]
  },
  {
   "cell_type": "code",
   "execution_count": 26,
   "id": "711a587f",
   "metadata": {},
   "outputs": [
    {
     "name": "stdout",
     "output_type": "stream",
     "text": [
      "False\n",
      "False\n",
      "True\n"
     ]
    }
   ],
   "source": [
    "# Sets Method\n",
    "set1 = {1,2,3,4,50,60,70}\n",
    "set2 = {\n",
    "    50,60,70}\n",
    "\n",
    "# Issubset\n",
    "print(set1.issubset(set2))\n",
    "\n",
    "# isdisjoint\n",
    "print(set1.isdisjoint(set2))\n",
    "\n",
    "#isupperset\n",
    "print(set1.issuperset(set2))\n"
   ]
  },
  {
   "cell_type": "code",
   "execution_count": null,
   "id": "fd3806ca",
   "metadata": {},
   "outputs": [
    {
     "name": "stdout",
     "output_type": "stream",
     "text": [
      "{'Aayush', 'Alok', 'Kumar', 'Is', 'My', 'Nickname', '.My', 'is', 'Name'}\n"
     ]
    }
   ],
   "source": [
    "# Counting Unique Words in text\n",
    "\n",
    "text = 'My Name is Alok Kumar .My Nickname is Aayush'\n",
    "words = text.split()\n",
    "\n",
    "uniq_word = set(words)\n",
    "print(uniq_word)"
   ]
  },
  {
   "cell_type": "markdown",
   "id": "7535af90",
   "metadata": {},
   "source": [
    "- Summary -:\n",
    "\n",
    "Sets are a powerful and flexible data type in Python that provide a way to store collections of unique elements. They support various operations such as union, intersection, difference, and symmetric difference, which are useful for mathematical computations. Understanding how to use sets and their associated methods can help you write more efficient and clean Python code, especially when dealing with unique collections and membership tests."
   ]
  },
  {
   "cell_type": "markdown",
   "id": "6e1eca7c",
   "metadata": {},
   "source": []
  }
 ],
 "metadata": {
  "kernelspec": {
   "display_name": "venv",
   "language": "python",
   "name": "python3"
  },
  "language_info": {
   "codemirror_mode": {
    "name": "ipython",
    "version": 3
   },
   "file_extension": ".py",
   "mimetype": "text/x-python",
   "name": "python",
   "nbconvert_exporter": "python",
   "pygments_lexer": "ipython3",
   "version": "3.12.11"
  }
 },
 "nbformat": 4,
 "nbformat_minor": 5
}

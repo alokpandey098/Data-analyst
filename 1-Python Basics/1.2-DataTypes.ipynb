{
 "cells": [
  {
   "cell_type": "markdown",
   "id": "fd2dd770",
   "metadata": {},
   "source": [
    "#### DataTypes\n",
    "Data types are a classification of data which tell the compiler or interpreter how the programmer intends to use the data.\n",
    "- They determine the type of operations that can be performed on the data, the values that the data can take, and the amount of memory needed to store the data.\n",
    "\n",
    "#### Importance of Data Types in Programming\n",
    "Explanation:\n",
    "\n",
    "- Data types ensure that data is stored in an efficient way.\n",
    "- They help in performing correct operations on data.\n",
    "- Proper use of data types can prevent errors and bugs in the program."
   ]
  },
  {
   "cell_type": "code",
   "execution_count": 17,
   "id": "3752f583",
   "metadata": {},
   "outputs": [
    {
     "name": "stdout",
     "output_type": "stream",
     "text": [
      "Alok <class 'str'>\n"
     ]
    }
   ],
   "source": [
    "# String\n",
    "\n",
    "Name = 'Alok'\n",
    "print(Name,type(Name))"
   ]
  },
  {
   "cell_type": "code",
   "execution_count": 18,
   "id": "3a506abe",
   "metadata": {},
   "outputs": [
    {
     "name": "stdout",
     "output_type": "stream",
     "text": [
      "22 <class 'int'>\n"
     ]
    }
   ],
   "source": [
    "# Integer\n",
    "\n",
    "Age = 22\n",
    "print(Age,type(Age))"
   ]
  },
  {
   "cell_type": "code",
   "execution_count": 19,
   "id": "391c5da1",
   "metadata": {},
   "outputs": [
    {
     "name": "stdout",
     "output_type": "stream",
     "text": [
      "5.8 <class 'float'>\n"
     ]
    }
   ],
   "source": [
    "# Float\n",
    "Height = 5.8\n",
    "print(Height,type(Height))"
   ]
  },
  {
   "cell_type": "code",
   "execution_count": 20,
   "id": "3209754d",
   "metadata": {},
   "outputs": [
    {
     "name": "stdout",
     "output_type": "stream",
     "text": [
      "True <class 'bool'>\n"
     ]
    }
   ],
   "source": [
    "# Boolean\n",
    "Is_Indian = True\n",
    "print(Is_Indian,type(Is_Indian))"
   ]
  },
  {
   "cell_type": "code",
   "execution_count": 21,
   "id": "c5b962bb",
   "metadata": {},
   "outputs": [
    {
     "data": {
      "text/plain": [
       "bool"
      ]
     },
     "execution_count": 21,
     "metadata": {},
     "output_type": "execute_result"
    }
   ],
   "source": [
    "a=10\n",
    "b=30\n",
    "type(a==b)"
   ]
  },
  {
   "cell_type": "code",
   "execution_count": 22,
   "id": "5b90e882",
   "metadata": {},
   "outputs": [
    {
     "name": "stdout",
     "output_type": "stream",
     "text": [
      "Alok22\n"
     ]
    }
   ],
   "source": [
    "# string concatenation\n",
    "\n",
    "# data = 'Alok'+22 # Not possible ,str and int will not add \n",
    "\n",
    "# for this we have to convert int in str\n",
    "\n",
    "data = 'Alok'+ str(22)\n",
    "\n",
    "print(data)"
   ]
  },
  {
   "cell_type": "code",
   "execution_count": 23,
   "id": "ec391390",
   "metadata": {},
   "outputs": [
    {
     "name": "stdout",
     "output_type": "stream",
     "text": [
      "[12, 52, 8.5, 'Alok'] <class 'list'>\n"
     ]
    }
   ],
   "source": [
    "# List \n",
    "lst = [12,52,8.5,'Alok']\n",
    "print(lst,type(lst))"
   ]
  },
  {
   "cell_type": "code",
   "execution_count": 24,
   "id": "78faa428",
   "metadata": {},
   "outputs": [
    {
     "name": "stdout",
     "output_type": "stream",
     "text": [
      "{'Name': 'Alok', 'Age': 22, 'Height': 5.8} <class 'dict'>\n"
     ]
    }
   ],
   "source": [
    "# Dictionary \n",
    "dict = {'Name':'Alok',\n",
    "        'Age':22,\n",
    "        'Height':5.8}\n",
    "print(dict,type(dict))"
   ]
  },
  {
   "cell_type": "code",
   "execution_count": 25,
   "id": "b09a106a",
   "metadata": {},
   "outputs": [
    {
     "name": "stdout",
     "output_type": "stream",
     "text": [
      "(12, 51, 12, 63, 63, 25, 64) <class 'tuple'>\n"
     ]
    }
   ],
   "source": [
    "# Tuple \n",
    "tp = (12,51,12,63,63,25,64)\n",
    "print(tp,type(tp))"
   ]
  },
  {
   "cell_type": "code",
   "execution_count": 26,
   "id": "759d5301",
   "metadata": {},
   "outputs": [
    {
     "name": "stdout",
     "output_type": "stream",
     "text": [
      "{12, 45, 52, 63} <class 'set'>\n"
     ]
    }
   ],
   "source": [
    "# Sets \n",
    "st = {12,12,52,45,52,63,63}\n",
    "print(st,type(st))"
   ]
  },
  {
   "cell_type": "code",
   "execution_count": null,
   "id": "72c4e28c",
   "metadata": {},
   "outputs": [],
   "source": []
  }
 ],
 "metadata": {
  "kernelspec": {
   "display_name": "venv",
   "language": "python",
   "name": "python3"
  },
  "language_info": {
   "codemirror_mode": {
    "name": "ipython",
    "version": 3
   },
   "file_extension": ".py",
   "mimetype": "text/x-python",
   "name": "python",
   "nbconvert_exporter": "python",
   "pygments_lexer": "ipython3",
   "version": "3.12.11"
  }
 },
 "nbformat": 4,
 "nbformat_minor": 5
}

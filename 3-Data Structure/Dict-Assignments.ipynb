{
 "cells": [
  {
   "cell_type": "markdown",
   "metadata": {},
   "source": [
    "# Module 3: Data Structures Assignments\n",
    "## Lesson 3.4: Dictionaries\n",
    "### Assignment 1: Creating and Accessing Dictionaries\n",
    "\n",
    "Create a dictionary with the first 10 positive integers as keys and their squares as values. Print the dictionary."
   ]
  },
  {
   "cell_type": "code",
   "execution_count": 18,
   "metadata": {},
   "outputs": [
    {
     "name": "stdout",
     "output_type": "stream",
     "text": [
      "{1: 1, 2: 4, 3: 9, 4: 16, 5: 25, 6: 36, 7: 49, 8: 64, 9: 81, 10: 100}\n"
     ]
    }
   ],
   "source": [
    "# {} [] \n",
    "dict = {}\n",
    "for i in range(1,11):\n",
    "    dict[i] = i**2\n",
    "print(dict)"
   ]
  },
  {
   "cell_type": "markdown",
   "metadata": {},
   "source": [
    "### Assignment 2: Accessing Dictionary Elements\n",
    "\n",
    "Print the value of the key 5 and the keys of the dictionary created in Assignment 1."
   ]
  },
  {
   "cell_type": "code",
   "execution_count": 12,
   "metadata": {},
   "outputs": [
    {
     "name": "stdout",
     "output_type": "stream",
     "text": [
      "25\n",
      "dict_keys([2, 3, 4, 5, 6, 7, 8, 9, 10, 11])\n"
     ]
    }
   ],
   "source": [
    "print(dict.get(5))\n",
    "print(dict.keys())"
   ]
  },
  {
   "cell_type": "markdown",
   "metadata": {},
   "source": [
    "### Assignment 3: Dictionary Methods\n",
    "\n",
    "Add a new key-value pair (11, 121) to the dictionary created in Assignment 1 and then remove the key-value pair with key 1. Print the modified dictionary."
   ]
  },
  {
   "cell_type": "code",
   "execution_count": 11,
   "metadata": {},
   "outputs": [
    {
     "name": "stdout",
     "output_type": "stream",
     "text": [
      "{2: 4, 3: 9, 4: 16, 5: 25, 6: 36, 7: 49, 8: 64, 9: 81, 10: 100, 11: 121}\n"
     ]
    }
   ],
   "source": [
    "dict[11] = 121\n",
    "del dict[1]\n",
    "print(dict)"
   ]
  },
  {
   "cell_type": "markdown",
   "metadata": {},
   "source": [
    "### Assignment 4: Iterating Over Dictionaries\n",
    "\n",
    "Iterate over the dictionary created in Assignment 1 and print each key-value pair."
   ]
  },
  {
   "cell_type": "code",
   "execution_count": 15,
   "metadata": {},
   "outputs": [
    {
     "name": "stdout",
     "output_type": "stream",
     "text": [
      "1:1\n",
      "2:4\n",
      "3:9\n",
      "4:16\n",
      "5:25\n",
      "6:36\n",
      "7:49\n",
      "8:64\n",
      "9:81\n",
      "10:100\n"
     ]
    }
   ],
   "source": [
    "for key,value in dict.items():\n",
    "        print(f\"{key}:{value}\")"
   ]
  },
  {
   "cell_type": "markdown",
   "metadata": {},
   "source": [
    "### Assignment 5: Dictionary Comprehensions\n",
    "\n",
    "Create a new dictionary containing the cubes of the first 10 positive integers using a dictionary comprehension. Print the new dictionary."
   ]
  },
  {
   "cell_type": "code",
   "execution_count": 16,
   "metadata": {},
   "outputs": [
    {
     "name": "stdout",
     "output_type": "stream",
     "text": [
      "{0: 0, 1: 1, 2: 8, 3: 27, 4: 64, 5: 125, 6: 216, 7: 343, 8: 512, 9: 729, 10: 1000}\n"
     ]
    }
   ],
   "source": [
    "dict_cube = {x:x**3 for x in range(11)}\n",
    "print(dict_cube)"
   ]
  },
  {
   "cell_type": "markdown",
   "metadata": {},
   "source": [
    "### Assignment 6: Merging Dictionaries\n",
    "\n",
    "Create two dictionaries: one with keys as the first 5 positive integers and values as their squares, and another with keys as the next 5 positive integers and values as their squares. Merge these dictionaries into a single dictionary and print it."
   ]
  },
  {
   "cell_type": "code",
   "execution_count": 21,
   "metadata": {},
   "outputs": [
    {
     "name": "stdout",
     "output_type": "stream",
     "text": [
      "Dictionary 1 : {1: 1, 2: 4, 3: 9, 4: 16, 5: 25}\n",
      "Dictionary 2 : {6: 36, 7: 49, 8: 64, 9: 81, 10: 100}\n",
      "Merged dictionary : {1: 1, 2: 4, 3: 9, 4: 16, 5: 25, 6: 36, 7: 49, 8: 64, 9: 81, 10: 100}\n"
     ]
    }
   ],
   "source": [
    "dict1 = {}\n",
    "for i in range(1,6):\n",
    "    dict1[i] = i**2\n",
    "\n",
    "print(\"Dictionary 1 :\",dict1)\n",
    "\n",
    "dict2 = {}\n",
    "for i in range(6,11):\n",
    "    dict2[i] = i**2\n",
    "\n",
    "print(\"Dictionary 2 :\",dict2)\n",
    "\n",
    "merged_dict = dict1.copy()\n",
    "merged_dict.update(dict2)\n",
    "print(\"Merged dictionary :\",merged_dict)"
   ]
  },
  {
   "cell_type": "markdown",
   "metadata": {},
   "source": [
    "### Assignment 7: Nested Dictionaries\n",
    "\n",
    "Create a nested dictionary representing a student with keys 'name', 'age', 'grades', where 'grades' is another dictionary with keys 'math', 'science', and 'english'. Print the nested dictionary."
   ]
  },
  {
   "cell_type": "code",
   "execution_count": 24,
   "metadata": {},
   "outputs": [
    {
     "name": "stdout",
     "output_type": "stream",
     "text": [
      "Name:Alok Kumar\n",
      "Age:22\n",
      "Grades:{'Maths': 'A', 'English': 'A+', 'Science': 'B+'}\n"
     ]
    }
   ],
   "source": [
    "std_info ={\n",
    "            'Name':'Alok Kumar',\n",
    "            'Age':22,\n",
    "            'Grades':{'Maths':'A','English':'A+','Science':'B+'}\n",
    "}\n",
    "for key,value in std_info.items():\n",
    "    print(f\"{key}:{value}\")"
   ]
  },
  {
   "cell_type": "markdown",
   "metadata": {},
   "source": [
    "### Assignment 8: Dictionary of Lists\n",
    "\n",
    "Create a dictionary where the keys are the first 5 positive integers and the values are lists containing the first 5 multiples of the key. Print the dictionary."
   ]
  },
  {
   "cell_type": "code",
   "execution_count": 26,
   "metadata": {},
   "outputs": [
    {
     "name": "stdout",
     "output_type": "stream",
     "text": [
      "{1: [1, 2, 3, 4, 5], 2: [2, 4, 6, 8, 10], 3: [3, 6, 9, 12, 15], 4: [4, 8, 12, 16, 20], 5: [5, 10, 15, 20, 25]}\n"
     ]
    }
   ],
   "source": [
    "mul_dict ={}\n",
    "for i in range(1,6):\n",
    "    multiples = []\n",
    "    for j in range(1,6):\n",
    "        multiples.append(i*j)\n",
    "        mul_dict[i] = multiples\n",
    "print(mul_dict)"
   ]
  },
  {
   "cell_type": "markdown",
   "metadata": {},
   "source": [
    "### Assignment 9: Dictionary of Tuples\n",
    "\n",
    "Create a dictionary where the keys are the first 5 positive integers and the values are tuples containing the key and its square. Print the dictionary."
   ]
  },
  {
   "cell_type": "code",
   "execution_count": 32,
   "metadata": {},
   "outputs": [
    {
     "name": "stdout",
     "output_type": "stream",
     "text": [
      "{1: (1, 1), 2: (2, 4), 3: (3, 9), 4: (4, 16), 5: (5, 25)}\n"
     ]
    }
   ],
   "source": [
    "tup_dict = {}\n",
    "for i in range(1,6):\n",
    "    tup_dict[i] = (i,i**2)\n",
    "\n",
    "print(tup_dict)"
   ]
  },
  {
   "cell_type": "markdown",
   "metadata": {},
   "source": [
    "### Assignment 10: Dictionary and List Conversion\n",
    "\n",
    "Create a dictionary with the first 5 positive integers as keys and their squares as values. Convert the dictionary to a list of tuples and print it."
   ]
  },
  {
   "cell_type": "code",
   "execution_count": 34,
   "metadata": {},
   "outputs": [
    {
     "name": "stdout",
     "output_type": "stream",
     "text": [
      "Normal dictionary : {1: (1, 1), 2: (2, 4), 3: (3, 9), 4: (4, 16), 5: (5, 25)}\n",
      "List Of Tuples : [(1, (1, 1)), (2, (2, 4)), (3, (3, 9)), (4, (4, 16)), (5, (5, 25))]\n"
     ]
    }
   ],
   "source": [
    "LT_dict = {}\n",
    "for i in range(1,6):\n",
    "    LT_dict[i] = (i,i**2)\n",
    "\n",
    "tup_list = list(LT_dict.items())\n",
    "print('Normal dictionary :',LT_dict)\n",
    "print('List Of Tuples :',tup_list)"
   ]
  },
  {
   "cell_type": "markdown",
   "metadata": {},
   "source": [
    "### Assignment 11: Dictionary Filtering\n",
    "\n",
    "Create a dictionary with the first 10 positive integers as keys and their squares as values. Create a new dictionary containing only the key-value pairs where the key is even. Print the new dictionary."
   ]
  },
  {
   "cell_type": "code",
   "execution_count": 36,
   "metadata": {},
   "outputs": [
    {
     "name": "stdout",
     "output_type": "stream",
     "text": [
      "Positive dictionary : {1: 1, 2: 4, 3: 9, 4: 16, 5: 25, 6: 36, 7: 49, 8: 64, 9: 81, 10: 100}\n",
      "Dictionary with even keys : {2: 4, 4: 16, 6: 36, 8: 64, 10: 100}\n"
     ]
    }
   ],
   "source": [
    "pos_dict = {}\n",
    "for i in range(1,11):\n",
    "    pos_dict[i] = i**2\n",
    "print('Positive dictionary :',pos_dict)\n",
    "\n",
    "# Dictionary with even keys\n",
    "even_dict = {}\n",
    "for key in pos_dict:\n",
    "    if key % 2 == 0:\n",
    "        even_dict[key] = pos_dict[key]\n",
    "print('Dictionary with even keys :',even_dict)"
   ]
  },
  {
   "cell_type": "markdown",
   "metadata": {},
   "source": [
    "### Assignment 12: Dictionary Key and Value Transformation\n",
    "\n",
    "Create a dictionary with the first 5 positive integers as keys and their squares as values. Create a new dictionary with keys and values swapped. Print the new dictionary."
   ]
  },
  {
   "cell_type": "code",
   "execution_count": 37,
   "metadata": {},
   "outputs": [
    {
     "name": "stdout",
     "output_type": "stream",
     "text": [
      "Normal dictionary : {1: 1, 2: 4, 3: 9, 4: 16, 5: 25}\n",
      "Dictionary with swapped values : {1: 1, 4: 2, 9: 3, 16: 4, 25: 5}\n"
     ]
    }
   ],
   "source": [
    "norm_dict = {}\n",
    "for i in range(1,6):\n",
    "    norm_dict[i] = i**2\n",
    "print('Normal dictionary :',norm_dict)\n",
    "\n",
    "# New Dictionary with swapped values\n",
    "swap_dict = {}\n",
    "for key,value in norm_dict.items():\n",
    "        swap_dict[value] = key\n",
    "print('Dictionary with swapped values :',swap_dict)"
   ]
  },
  {
   "cell_type": "code",
   "execution_count": 42,
   "id": "5d11c7e9",
   "metadata": {},
   "outputs": [
    {
     "name": "stdout",
     "output_type": "stream",
     "text": [
      "Swapped dictionary : {1: 1, 4: 2, 9: 3, 16: 4, 25: 5}\n"
     ]
    }
   ],
   "source": [
    "# One-liner code for swaping values\n",
    "\n",
    "swapped_dict = {value:key for key,value in norm_dict.items()}\n",
    "print('Swapped dictionary :',swapped_dict)"
   ]
  },
  {
   "cell_type": "markdown",
   "metadata": {},
   "source": [
    "### Assignment 13: Default Dictionary\n",
    "\n",
    "Create a default dictionary where each key has a default value of an empty list. Add some elements to the lists and print the dictionary."
   ]
  },
  {
   "cell_type": "code",
   "execution_count": 43,
   "metadata": {},
   "outputs": [
    {
     "name": "stdout",
     "output_type": "stream",
     "text": [
      "Default dictionary: defaultdict(<class 'list'>, {'fruits': ['apple', 'banana'], 'vegetables': ['carrot', 'broccoli'], 'drinks': ['water']})\n"
     ]
    }
   ],
   "source": [
    "from collections import defaultdict\n",
    "\n",
    "# Step 1: Create a defaultdict where each key has a default value of an empty list\n",
    "my_dict = defaultdict(list)\n",
    "\n",
    "# Step 2: Add elements to each list\n",
    "my_dict['fruits'].append('apple')\n",
    "my_dict['fruits'].append('banana')\n",
    "my_dict['vegetables'].append('carrot')\n",
    "my_dict['vegetables'].append('broccoli')\n",
    "my_dict['drinks'].append('water')\n",
    "\n",
    "# Step 3: Print the dictionary\n",
    "print(\"Default dictionary:\", my_dict)\n"
   ]
  },
  {
   "cell_type": "markdown",
   "id": "1302fe2a",
   "metadata": {},
   "source": [
    "#### ⚙️ Explanation:\n",
    "\n",
    "- When you do my_dict['fruits'].append('apple'),\n",
    " the key 'fruits' doesn’t exist initially — but defaultdict(list) creates it automatically with an empty list [].Then .append() adds items to that list."
   ]
  },
  {
   "cell_type": "markdown",
   "metadata": {},
   "source": [
    "### Assignment 14: Counting with Dictionaries\n",
    "\n",
    "Write a function that takes a string and returns a dictionary with the count of each character in the string. Print the dictionary."
   ]
  },
  {
   "cell_type": "code",
   "execution_count": 44,
   "metadata": {},
   "outputs": [
    {
     "name": "stdout",
     "output_type": "stream",
     "text": [
      "Character count dictionary: {'A': 1, 'l': 1, 'o': 1, 'k': 1}\n"
     ]
    }
   ],
   "source": [
    "# Function to count characters in a string\n",
    "def char_count(s):\n",
    "    count_dict = {}  # empty dictionary to store counts\n",
    "    for char in s:\n",
    "        if char in count_dict:\n",
    "            count_dict[char] += 1   # increment count if char exists\n",
    "        else:\n",
    "            count_dict[char] = 1    # initialize count if char not in dictionary\n",
    "    return count_dict\n",
    "\n",
    "# Test the function\n",
    "input_str = input(\"Enter a string: \")\n",
    "result = char_count(input_str)\n",
    "\n",
    "print(\"Character count dictionary:\", result)\n"
   ]
  },
  {
   "cell_type": "markdown",
   "metadata": {},
   "source": [
    "### Assignment 15: Dictionary and JSON\n",
    "\n",
    "Create a dictionary representing a book with keys 'title', 'author', 'year', and 'genre'. Convert the dictionary to a JSON string and print it."
   ]
  },
  {
   "cell_type": "code",
   "execution_count": 45,
   "metadata": {},
   "outputs": [
    {
     "name": "stdout",
     "output_type": "stream",
     "text": [
      "JSON string: {\"title\": \"The Alchemist\", \"author\": \"Paulo Coelho\", \"year\": 1988, \"genre\": \"Adventure\"}\n"
     ]
    }
   ],
   "source": [
    "import json\n",
    "\n",
    "# Step 1: Create a dictionary representing a book\n",
    "book = {\n",
    "    \"title\": \"The Alchemist\",\n",
    "    \"author\": \"Paulo Coelho\",\n",
    "    \"year\": 1988,\n",
    "    \"genre\": \"Adventure\"\n",
    "}\n",
    "\n",
    "# Step 2: Convert dictionary to JSON string\n",
    "book_json = json.dumps(book)\n",
    "\n",
    "# Step 3: Print the JSON string\n",
    "print(\"JSON string:\", book_json)\n"
   ]
  },
  {
   "cell_type": "markdown",
   "id": "4dad1401",
   "metadata": {},
   "source": [
    "----------------------------------------"
   ]
  }
 ],
 "metadata": {
  "kernelspec": {
   "display_name": "venv",
   "language": "python",
   "name": "python3"
  },
  "language_info": {
   "codemirror_mode": {
    "name": "ipython",
    "version": 3
   },
   "file_extension": ".py",
   "mimetype": "text/x-python",
   "name": "python",
   "nbconvert_exporter": "python",
   "pygments_lexer": "ipython3",
   "version": "3.12.11"
  }
 },
 "nbformat": 4,
 "nbformat_minor": 5
}
